{
 "cells": [
  {
   "cell_type": "markdown",
   "id": "eee63a7a",
   "metadata": {},
   "source": [
    "# DataFrame"
   ]
  },
  {
   "cell_type": "raw",
   "id": "2a264fc8",
   "metadata": {},
   "source": [
    "DataFrame is labled 2-D array. It contains multiple rows and columns."
   ]
  },
  {
   "cell_type": "code",
   "execution_count": 1,
   "id": "7724eabe",
   "metadata": {},
   "outputs": [
    {
     "name": "stdout",
     "output_type": "stream",
     "text": [
      "0     Sunny\n",
      "1     Bunny\n",
      "2    Chinny\n",
      "3     Vinny\n",
      "dtype: object\n",
      "1\n",
      "(4,)\n"
     ]
    }
   ],
   "source": [
    "import pandas as pd\n",
    "enos=[100,200,300,400]\n",
    "enames=['Sunny','Bunny','Chinny','Vinny']\n",
    "esals=[1000.0,2000.0,3000.0,4000.0]\n",
    "eaddrs=['Hyderabad','Mumbai','Chennai','Delhi']\n",
    "s=pd.Series(enames)\n",
    "print(s)\n",
    "print(s.ndim)\n",
    "print(s.shape)"
   ]
  },
  {
   "cell_type": "code",
   "execution_count": 7,
   "id": "41c01710",
   "metadata": {},
   "outputs": [
    {
     "name": "stdout",
     "output_type": "stream",
     "text": [
      "0     Sunny\n",
      "1     Bunny\n",
      "2    Chinny\n",
      "3     Vinny\n",
      "dtype: object\n",
      "1\n",
      "(4,)\n",
      "   eno   ename    esal      eaddr\n",
      "0  100   Sunny  1000.0  Hyderabad\n",
      "1  200   Bunny  2000.0     Mumbai\n",
      "2  300  Chinny  3000.0    Chennai\n",
      "3  400   Vinny  4000.0      Delhi\n",
      "2\n",
      "0     Sunny\n",
      "1     Bunny\n",
      "2    Chinny\n",
      "3     Vinny\n",
      "Name: ename, dtype: object\n",
      "(4, 4)\n",
      "<class 'pandas.core.series.Series'>\n"
     ]
    }
   ],
   "source": [
    "import pandas as pd\n",
    "enos=[100,200,300,400]\n",
    "enames=['Sunny','Bunny','Chinny','Vinny']\n",
    "esals=[1000.0,2000.0,3000.0,4000.0]\n",
    "eaddrs=['Hyderabad','Mumbai','Chennai','Delhi']\n",
    "s=pd.Series(enames)\n",
    "print(s)\n",
    "print(s.ndim)\n",
    "print(s.shape)\n",
    "\n",
    "df=pd.DataFrame({'eno':enos,'ename':enames,'esal':esals,'eaddr':eaddrs})\n",
    "print(df)\n",
    "print(df.ndim)\n",
    "print(df.ename)\n",
    "print(df.shape)\n",
    "print(type(df.ename))"
   ]
  },
  {
   "cell_type": "code",
   "execution_count": 13,
   "id": "35a9b599",
   "metadata": {},
   "outputs": [
    {
     "name": "stdout",
     "output_type": "stream",
     "text": [
      "object\n",
      "eno        int64\n",
      "ename     object\n",
      "esal     float64\n",
      "eaddr     object\n",
      "dtype: object\n"
     ]
    }
   ],
   "source": [
    "import pandas as pd\n",
    "enos=[100,200,300,400]\n",
    "enames=['Sunny','Bunny','Chinny','Vinny']\n",
    "esals=[1000.0,2000.0,3000.0,4000.0]\n",
    "eaddrs=['Hyderabad','Mumbai','Chennai','Delhi']\n",
    "s=pd.Series(enames)\n",
    "print(s.dtype)\n",
    "\n",
    "df=pd.DataFrame({'eno':enos,'ename':enames,'esal':esals,'eaddr':eaddrs})\n",
    "# print(df.dtype) -AttributeError: 'DataFrame' object has no attribute 'dtype'\n",
    "print(df.dtypes)"
   ]
  },
  {
   "cell_type": "raw",
   "id": "27a0da00",
   "metadata": {},
   "source": [
    "Note:\n",
    "    'dtype' attribute is applicable only for Series object but not for DataFarme. But we can use 'dtypes' attribute for DatFrame"
   ]
  },
  {
   "cell_type": "markdown",
   "id": "2dc2a09e",
   "metadata": {},
   "source": [
    "## DataFrame Construction"
   ]
  },
  {
   "cell_type": "markdown",
   "id": "4b3cde57",
   "metadata": {},
   "source": [
    "#### 1. From dict of list objects:\n",
    "       - Here each keys acts as columns and list of values for the columns."
   ]
  },
  {
   "cell_type": "code",
   "execution_count": 14,
   "id": "7fd9fa45",
   "metadata": {},
   "outputs": [
    {
     "name": "stdout",
     "output_type": "stream",
     "text": [
      "   eno   ename    esal      eaddr\n",
      "0  100   Sunny  1000.0  Hyderabad\n",
      "1  200   Bunny  2000.0     Mumbai\n",
      "2  300  Chinny  3000.0    Chennai\n",
      "3  400   Vinny  4000.0      Delhi\n"
     ]
    }
   ],
   "source": [
    "import pandas as pd\n",
    "enos=[100,200,300,400]\n",
    "enames=['Sunny','Bunny','Chinny','Vinny']\n",
    "esals=[1000.0,2000.0,3000.0,4000.0]\n",
    "eaddrs=['Hyderabad','Mumbai','Chennai','Delhi']\n",
    "s=pd.Series(enames)\n",
    "\n",
    "df=pd.DataFrame({'eno':enos,'ename':enames,'esal':esals,'eaddr':eaddrs})\n",
    "print(df)"
   ]
  },
  {
   "cell_type": "markdown",
   "id": "34d7e318",
   "metadata": {},
   "source": [
    "#### 2. From dict of tuple"
   ]
  },
  {
   "cell_type": "code",
   "execution_count": 15,
   "id": "7ea36a5e",
   "metadata": {},
   "outputs": [
    {
     "name": "stdout",
     "output_type": "stream",
     "text": [
      "   eno   ename    esal      eaddr\n",
      "0  100   Sunny  1000.0  Hyderabad\n",
      "1  200   Bunny  2000.0     Mumbai\n",
      "2  300  Chinny  3000.0    Chennai\n",
      "3  400   Vinny  4000.0      Delhi\n"
     ]
    }
   ],
   "source": [
    "import pandas as pd\n",
    "enos=(100,200,300,400)\n",
    "enames=('Sunny','Bunny','Chinny','Vinny')\n",
    "esals=(1000.0,2000.0,3000.0,4000.0)\n",
    "eaddrs=('Hyderabad','Mumbai','Chennai','Delhi')\n",
    "s=pd.Series(enames)\n",
    "\n",
    "df=pd.DataFrame({'eno':enos,'ename':enames,'esal':esals,'eaddr':eaddrs})\n",
    "print(df)"
   ]
  },
  {
   "cell_type": "markdown",
   "id": "35770534",
   "metadata": {},
   "source": [
    "#### 3. From Dict of Series object"
   ]
  },
  {
   "cell_type": "code",
   "execution_count": 16,
   "id": "bfbf91a8",
   "metadata": {},
   "outputs": [
    {
     "name": "stdout",
     "output_type": "stream",
     "text": [
      "   eno   ename    esal      eaddr\n",
      "0  100   Sunny  1000.0  Hyderabad\n",
      "1  200   Bunny  2000.0     Mumbai\n",
      "2  300  Chinny  3000.0    Chennai\n",
      "3  400   Vinny  4000.0      Delhi\n"
     ]
    }
   ],
   "source": [
    "import pandas as pd\n",
    "enos=pd.Series([100,200,300,400])\n",
    "enames=pd.Series(['Sunny','Bunny','Chinny','Vinny'])\n",
    "esals=pd.Series([1000.0,2000.0,3000.0,4000.0])\n",
    "eaddrs=pd.Series(['Hyderabad','Mumbai','Chennai','Delhi'])\n",
    "\n",
    "df=pd.DataFrame({'eno':enos,'ename':enames,'esal':esals,'eaddr':eaddrs})\n",
    "print(df)"
   ]
  },
  {
   "cell_type": "markdown",
   "id": "500d4fa3",
   "metadata": {},
   "source": [
    "#### 4. From Dict of dict"
   ]
  },
  {
   "cell_type": "code",
   "execution_count": 18,
   "id": "9b19add5",
   "metadata": {},
   "outputs": [
    {
     "name": "stdout",
     "output_type": "stream",
     "text": [
      "   eno   ename    esal      eaddr\n",
      "0  100   Sunny  1000.0  Hyderabad\n",
      "1  200   Bunny  2000.0     Mumbai\n",
      "2  300  Chinny  3000.0    Chennai\n",
      "3  400   Vinny  4000.0      Delhi\n"
     ]
    }
   ],
   "source": [
    "import pandas as pd\n",
    "df=pd.DataFrame({'eno':{0:100,1:200,2:300,3:400},\n",
    "                 'ename':{0:'Sunny',1:'Bunny',2:'Chinny',3:'Vinny'},\n",
    "                 'esal':{0:1000.0,1:2000.0,2:3000.0,3:4000.0},\n",
    "                 'eaddr':{0:'Hyderabad',1:'Mumbai',2:'Chennai',3:'Delhi'}\n",
    "                })\n",
    "print(df)"
   ]
  },
  {
   "cell_type": "code",
   "execution_count": 20,
   "id": "52da010c",
   "metadata": {},
   "outputs": [
    {
     "name": "stdout",
     "output_type": "stream",
     "text": [
      "   eno   ename    esal      eaddr\n",
      "0  100   Sunny  1000.0  Hyderabad\n",
      "1  200   Bunny  2000.0     Mumbai\n",
      "2  300  Chinny  3000.0    Chennai\n",
      "3  400   Vinny  4000.0      Delhi\n"
     ]
    }
   ],
   "source": [
    "import pandas as pd\n",
    "enos=[100,200,300,400]\n",
    "enames=['Sunny','Bunny','Chinny','Vinny']\n",
    "esals=[1000.0,2000.0,3000.0,4000.0]\n",
    "eaddrs=['Hyderabad','Mumbai','Chennai','Delhi']\n",
    "\n",
    "def built_dict(l):\n",
    "    d={k:v for k,v in enumerate (l)}\n",
    "    return d\n",
    "\n",
    "df=pd.DataFrame({'eno':built_dict(enos),\n",
    "                 'ename':built_dict(enames),\n",
    "                 'esal':built_dict(esals),\n",
    "                 'eaddr':built_dict(eaddrs)\n",
    "                })\n",
    "print(df)"
   ]
  },
  {
   "cell_type": "markdown",
   "id": "15d80590",
   "metadata": {},
   "source": [
    "#### 5. from list of dicts"
   ]
  },
  {
   "cell_type": "code",
   "execution_count": 21,
   "id": "2d8555e8",
   "metadata": {},
   "outputs": [
    {
     "name": "stdout",
     "output_type": "stream",
     "text": [
      "   eno   ename    esal      eaddr\n",
      "0  100   Sunny  1000.0  Hyderabad\n",
      "1  200   bunny  2000.0     Mumbai\n",
      "2  300  chinny  3000.0    Chennai\n",
      "3  400   Vinny  4000.0      Delhi\n"
     ]
    }
   ],
   "source": [
    "import pandas as pd\n",
    "df= pd.DataFrame([{'eno':100,'ename':'Sunny','esal':1000.0,'eaddr':'Hyderabad'},\n",
    "                  {'eno':200,'ename':'bunny','esal':2000.0,'eaddr':'Mumbai'},\n",
    "                  {'eno':300,'ename':'chinny','esal':3000.0,'eaddr':'Chennai'},\n",
    "                  {'eno':400,'ename':'Vinny','esal':4000.0,'eaddr':'Delhi'}\n",
    "                 \n",
    "                 ])\n",
    "print(df)"
   ]
  },
  {
   "cell_type": "code",
   "execution_count": 23,
   "id": "25b93b8c",
   "metadata": {},
   "outputs": [
    {
     "name": "stdout",
     "output_type": "stream",
     "text": [
      "10-->a\n",
      "20-->b\n",
      "30-->c\n",
      "<zip object at 0x00000168816E77C0>\n"
     ]
    }
   ],
   "source": [
    "a=[10,20,30]\n",
    "b=['a','b','c']\n",
    "for k,v in zip(a,b):\n",
    "    print(f'{k}-->{v}')\n",
    "print(zip(a,b))    \n",
    "    "
   ]
  },
  {
   "cell_type": "code",
   "execution_count": 4,
   "id": "f6ce7061",
   "metadata": {},
   "outputs": [
    {
     "name": "stdout",
     "output_type": "stream",
     "text": [
      "[{'eno': 100, 'ename': 'Sunny', 'esal': 1000.0, 'eaddr': 'Hyderabad'}, {'eno': 200, 'ename': 'Bunny', 'esal': 2000.0, 'eaddr': 'Mumbai'}, {'eno': 300, 'ename': 'Chinny', 'esal': 3000.0, 'eaddr': 'Chennai'}, {'eno': 400, 'ename': 'Vinny', 'esal': 4000.0, 'eaddr': 'Delhi'}]\n",
      "   eno   ename    esal      eaddr\n",
      "0  100   Sunny  1000.0  Hyderabad\n",
      "1  200   Bunny  2000.0     Mumbai\n",
      "2  300  Chinny  3000.0    Chennai\n",
      "3  400   Vinny  4000.0      Delhi\n"
     ]
    }
   ],
   "source": [
    "import pandas as pd\n",
    "enos=[100,200,300,400]\n",
    "enames=['Sunny','Bunny','Chinny','Vinny']\n",
    "esals=[1000.0,2000.0,3000.0,4000.0]\n",
    "eaddrs=['Hyderabad','Mumbai','Chennai','Delhi']\n",
    "\n",
    "row_wise_data=[{'eno':eno,'ename':ename,'esal':esal,'eaddr':eaddr} for \n",
    "               eno,ename,esal,eaddr in zip(enos,enames,esals,eaddrs)]\n",
    "print(row_wise_data)\n",
    "df= pd.DataFrame(row_wise_data)\n",
    "print(df)"
   ]
  },
  {
   "cell_type": "markdown",
   "id": "6b711bd1",
   "metadata": {},
   "source": [
    "#### 6. From numpy ndarray"
   ]
  },
  {
   "cell_type": "code",
   "execution_count": 5,
   "id": "ee184e7c",
   "metadata": {},
   "outputs": [
    {
     "name": "stdout",
     "output_type": "stream",
     "text": [
      "   a  b  c\n",
      "0  1  2  3\n",
      "1  3  4  5\n",
      "2  7  8  9\n"
     ]
    }
   ],
   "source": [
    "import pandas as pd\n",
    "import numpy as np\n",
    "df= pd.DataFrame(np.array([[1,2,3],[3,4,5],[7,8,9]]),columns =['a','b','c'])\n",
    "print(df)"
   ]
  },
  {
   "cell_type": "markdown",
   "id": "ffb63d65",
   "metadata": {},
   "source": [
    "#### Importing csv"
   ]
  },
  {
   "cell_type": "code",
   "execution_count": 20,
   "id": "605098c3",
   "metadata": {},
   "outputs": [
    {
     "name": "stdout",
     "output_type": "stream",
     "text": [
      "                City  latitude  longitude\n",
      "Year                                     \n",
      "1896          athens  34.80243  -86.97219\n",
      "1900           paris  48.85341    2.34880\n",
      "1904       st. louis  38.62727  -90.19789\n",
      "1908          london  42.98339  -81.23304\n",
      "1912       stockholm  59.33258   18.06490\n",
      "1920       antwerpen  51.21989    4.40346\n",
      "1924           paris  48.85341    2.34880\n",
      "1928       amsterdam  52.37403    4.88969\n",
      "1932     los angeles -37.46973  -72.35366\n",
      "1936          berlin  52.52437   13.41053\n",
      "1948          london  42.98339  -81.23304\n",
      "1952        helsinki  60.16952   24.93545\n",
      "1956       stockholm  59.33258   18.06490\n",
      "1956       melbourne -37.81400  144.96332\n",
      "1960            rome  34.25704  -85.16467\n",
      "1964           tokyo  35.68950  139.69171\n",
      "1968     mexico city  19.42847  -99.12766\n",
      "1972          munich  48.13743   11.57549\n",
      "1976        montreal  45.50884  -73.58781\n",
      "1980          moscow  55.75222   37.61556\n",
      "1984     los angeles  34.05223 -118.24368\n",
      "1988           seoul  37.56600  126.97840\n",
      "1992       barcelona  41.38879    2.15899\n",
      "1996         atlanta  33.74900  -84.38798\n",
      "2000          sydney -33.86785  151.20732\n",
      "2004          athens  39.32924  -82.10126\n",
      "2008         beijing  39.90750  116.39723\n",
      "2012          london  51.50853   -0.12574\n",
      "2016  rio de janeiro -22.90278  -43.20750\n"
     ]
    }
   ],
   "source": [
    "import pandas as pd\n",
    "df= pd.read_csv('city_loc.csv',index_col=['Year'])\n",
    "print(df)"
   ]
  },
  {
   "cell_type": "code",
   "execution_count": 3,
   "id": "468d742e",
   "metadata": {},
   "outputs": [
    {
     "name": "stdout",
     "output_type": "stream",
     "text": [
      "   Year       City  latitude  longitude\n",
      "0  1896     athens  34.80243  -86.97219\n",
      "1  1900      paris  48.85341    2.34880\n",
      "2  1904  st. louis  38.62727  -90.19789\n"
     ]
    }
   ],
   "source": [
    "import pandas as pd\n",
    "df= pd.read_csv('city_loc.csv',)\n",
    "print(df.head(n=3))"
   ]
  },
  {
   "cell_type": "code",
   "execution_count": 4,
   "id": "c5b29233",
   "metadata": {},
   "outputs": [
    {
     "name": "stdout",
     "output_type": "stream",
     "text": [
      "    Year            City  latitude  longitude\n",
      "26  2008         beijing  39.90750  116.39723\n",
      "27  2012          london  51.50853   -0.12574\n",
      "28  2016  rio de janeiro -22.90278  -43.20750\n"
     ]
    }
   ],
   "source": [
    "import pandas as pd\n",
    "df= pd.read_csv('city_loc.csv',)\n",
    "print(df.tail(n=3))"
   ]
  },
  {
   "cell_type": "code",
   "execution_count": 22,
   "id": "f749dcaf",
   "metadata": {},
   "outputs": [
    {
     "name": "stdout",
     "output_type": "stream",
     "text": [
      "(29, 3)\n",
      "2\n",
      "Int64Index([1896, 1900, 1904, 1908, 1912, 1920, 1924, 1928, 1932, 1936, 1948,\n",
      "            1952, 1956, 1956, 1960, 1964, 1968, 1972, 1976, 1980, 1984, 1988,\n",
      "            1992, 1996, 2000, 2004, 2008, 2012, 2016],\n",
      "           dtype='int64', name='Year')\n",
      "[['athens' 34.80243 -86.97219]\n",
      " ['paris' 48.85341 2.3488]\n",
      " ['st. louis' 38.62727 -90.19789]\n",
      " ['london' 42.98339 -81.23304]\n",
      " ['stockholm' 59.33258 18.0649]\n",
      " ['antwerpen' 51.21989 4.40346]\n",
      " ['paris' 48.85341 2.3488]\n",
      " ['amsterdam' 52.37403 4.88969]\n",
      " ['los angeles' -37.46973 -72.35366]\n",
      " ['berlin' 52.52437 13.41053]\n",
      " ['london' 42.98339 -81.23304]\n",
      " ['helsinki' 60.16952 24.93545]\n",
      " ['stockholm' 59.33258 18.0649]\n",
      " ['melbourne' -37.814 144.96332]\n",
      " ['rome' 34.25704 -85.16467]\n",
      " ['tokyo' 35.6895 139.69171]\n",
      " ['mexico city' 19.42847 -99.12766]\n",
      " ['munich' 48.13743 11.57549]\n",
      " ['montreal' 45.50884 -73.58781]\n",
      " ['moscow' 55.75222 37.61556]\n",
      " ['los angeles' 34.05223 -118.24368]\n",
      " ['seoul' 37.566 126.9784]\n",
      " ['barcelona' 41.38879 2.15899]\n",
      " ['atlanta' 33.749 -84.38798]\n",
      " ['sydney' -33.86785 151.20732]\n",
      " ['athens' 39.32924 -82.10126]\n",
      " ['beijing' 39.9075 116.39723]\n",
      " ['london' 51.50853 -0.12574]\n",
      " ['rio de janeiro' -22.90278 -43.2075]]\n"
     ]
    }
   ],
   "source": [
    "import pandas as pd\n",
    "df= pd.read_csv('city_loc.csv',index_col='Year')\n",
    "print(df.shape)\n",
    "print(df.ndim)\n",
    "print(df.index)\n",
    "print(df.values)"
   ]
  },
  {
   "cell_type": "code",
   "execution_count": 23,
   "id": "ae53834a",
   "metadata": {},
   "outputs": [
    {
     "name": "stdout",
     "output_type": "stream",
     "text": [
      "<class 'pandas.core.frame.DataFrame'>\n",
      "RangeIndex: 29 entries, 0 to 28\n",
      "Data columns (total 4 columns):\n",
      " #   Column     Non-Null Count  Dtype  \n",
      "---  ------     --------------  -----  \n",
      " 0   Year       29 non-null     int64  \n",
      " 1   City       29 non-null     object \n",
      " 2   latitude   29 non-null     float64\n",
      " 3   longitude  29 non-null     float64\n",
      "dtypes: float64(2), int64(1), object(1)\n",
      "memory usage: 1.0+ KB\n",
      "None\n"
     ]
    }
   ],
   "source": [
    "import pandas as pd\n",
    "df= pd.read_csv('city_loc.csv',)\n",
    "print(df.info())"
   ]
  },
  {
   "cell_type": "code",
   "execution_count": 24,
   "id": "3614de02",
   "metadata": {},
   "outputs": [
    {
     "name": "stdout",
     "output_type": "stream",
     "text": [
      "<class 'pandas.core.frame.DataFrame'>\n",
      "RangeIndex: 29 entries, 0 to 28\n",
      "Data columns (total 4 columns):\n",
      " #   Column     Non-Null Count  Dtype  \n",
      "---  ------     --------------  -----  \n",
      " 0   Year       29 non-null     int64  \n",
      " 1   City       29 non-null     object \n",
      " 2   latitude   29 non-null     float64\n",
      " 3   longitude  29 non-null     float64\n",
      "dtypes: float64(2), int64(1), object(1)\n",
      "memory usage: 1.0+ KB\n"
     ]
    }
   ],
   "source": [
    "import pandas as pd\n",
    "df= pd.read_csv('city_loc.csv',)\n",
    "df.info()"
   ]
  },
  {
   "cell_type": "code",
   "execution_count": 25,
   "id": "02f61093",
   "metadata": {},
   "outputs": [
    {
     "name": "stdout",
     "output_type": "stream",
     "text": [
      "<class 'pandas.core.frame.DataFrame'>\n",
      "RangeIndex: 29 entries, 0 to 28\n",
      "Data columns (total 4 columns):\n",
      " #   Column     Non-Null Count  Dtype  \n",
      "---  ------     --------------  -----  \n",
      " 0   Year       29 non-null     int64  \n",
      " 1   City       29 non-null     object \n",
      " 2   latitude   29 non-null     float64\n",
      " 3   longitude  29 non-null     float64\n",
      "dtypes: float64(2), int64(1), object(1)\n",
      "memory usage: 1.0+ KB\n"
     ]
    }
   ],
   "source": [
    "import pandas as pd\n",
    "df= pd.read_csv('city_loc.csv',)\n",
    "df.info(verbose=True)"
   ]
  },
  {
   "cell_type": "code",
   "execution_count": 26,
   "id": "c1c0cb37",
   "metadata": {},
   "outputs": [
    {
     "name": "stdout",
     "output_type": "stream",
     "text": [
      "<class 'pandas.core.frame.DataFrame'>\n",
      "RangeIndex: 29 entries, 0 to 28\n",
      "Columns: 4 entries, Year to longitude\n",
      "dtypes: float64(2), int64(1), object(1)\n",
      "memory usage: 1.0+ KB\n"
     ]
    }
   ],
   "source": [
    "import pandas as pd\n",
    "df= pd.read_csv('city_loc.csv',)\n",
    "df.info(verbose=False)"
   ]
  },
  {
   "cell_type": "code",
   "execution_count": 28,
   "id": "c306d9d9",
   "metadata": {},
   "outputs": [
    {
     "name": "stdout",
     "output_type": "stream",
     "text": [
      "<class 'pandas.core.frame.DataFrame'>\n",
      "RangeIndex: 29 entries, 0 to 28\n",
      "Columns: 4 entries, Year to longitude\n",
      "dtypes: float64(2), int64(1), object(1)\n",
      "memory usage: 1.0+ KB\n"
     ]
    }
   ],
   "source": [
    "import pandas as pd\n",
    "df= pd.read_csv('city_loc.csv',)\n",
    "df.info(verbose=False,show_counts=True)"
   ]
  },
  {
   "cell_type": "code",
   "execution_count": 30,
   "id": "dcc784fd",
   "metadata": {},
   "outputs": [
    {
     "data": {
      "text/html": [
       "<div>\n",
       "<style scoped>\n",
       "    .dataframe tbody tr th:only-of-type {\n",
       "        vertical-align: middle;\n",
       "    }\n",
       "\n",
       "    .dataframe tbody tr th {\n",
       "        vertical-align: top;\n",
       "    }\n",
       "\n",
       "    .dataframe thead th {\n",
       "        text-align: right;\n",
       "    }\n",
       "</style>\n",
       "<table border=\"1\" class=\"dataframe\">\n",
       "  <thead>\n",
       "    <tr style=\"text-align: right;\">\n",
       "      <th></th>\n",
       "      <th>Year</th>\n",
       "      <th>City</th>\n",
       "      <th>latitude</th>\n",
       "      <th>longitude</th>\n",
       "    </tr>\n",
       "  </thead>\n",
       "  <tbody>\n",
       "    <tr>\n",
       "      <th>22</th>\n",
       "      <td>1992</td>\n",
       "      <td>barcelona</td>\n",
       "      <td>41.38879</td>\n",
       "      <td>2.15899</td>\n",
       "    </tr>\n",
       "    <tr>\n",
       "      <th>1</th>\n",
       "      <td>1900</td>\n",
       "      <td>paris</td>\n",
       "      <td>48.85341</td>\n",
       "      <td>2.34880</td>\n",
       "    </tr>\n",
       "    <tr>\n",
       "      <th>23</th>\n",
       "      <td>1996</td>\n",
       "      <td>atlanta</td>\n",
       "      <td>33.74900</td>\n",
       "      <td>-84.38798</td>\n",
       "    </tr>\n",
       "    <tr>\n",
       "      <th>2</th>\n",
       "      <td>1904</td>\n",
       "      <td>st. louis</td>\n",
       "      <td>38.62727</td>\n",
       "      <td>-90.19789</td>\n",
       "    </tr>\n",
       "    <tr>\n",
       "      <th>19</th>\n",
       "      <td>1980</td>\n",
       "      <td>moscow</td>\n",
       "      <td>55.75222</td>\n",
       "      <td>37.61556</td>\n",
       "    </tr>\n",
       "  </tbody>\n",
       "</table>\n",
       "</div>"
      ],
      "text/plain": [
       "    Year       City  latitude  longitude\n",
       "22  1992  barcelona  41.38879    2.15899\n",
       "1   1900      paris  48.85341    2.34880\n",
       "23  1996    atlanta  33.74900  -84.38798\n",
       "2   1904  st. louis  38.62727  -90.19789\n",
       "19  1980     moscow  55.75222   37.61556"
      ]
     },
     "execution_count": 30,
     "metadata": {},
     "output_type": "execute_result"
    }
   ],
   "source": [
    "import pandas as pd\n",
    "df= pd.read_csv('city_loc.csv',)\n",
    "df.sample(n=5)"
   ]
  },
  {
   "cell_type": "code",
   "execution_count": 32,
   "id": "bfdc89db",
   "metadata": {},
   "outputs": [
    {
     "data": {
      "text/html": [
       "<div>\n",
       "<style scoped>\n",
       "    .dataframe tbody tr th:only-of-type {\n",
       "        vertical-align: middle;\n",
       "    }\n",
       "\n",
       "    .dataframe tbody tr th {\n",
       "        vertical-align: top;\n",
       "    }\n",
       "\n",
       "    .dataframe thead th {\n",
       "        text-align: right;\n",
       "    }\n",
       "</style>\n",
       "<table border=\"1\" class=\"dataframe\">\n",
       "  <thead>\n",
       "    <tr style=\"text-align: right;\">\n",
       "      <th></th>\n",
       "      <th>City</th>\n",
       "      <th>latitude</th>\n",
       "      <th>longitude</th>\n",
       "    </tr>\n",
       "    <tr>\n",
       "      <th>Year</th>\n",
       "      <th></th>\n",
       "      <th></th>\n",
       "      <th></th>\n",
       "    </tr>\n",
       "  </thead>\n",
       "  <tbody>\n",
       "    <tr>\n",
       "      <th>1992</th>\n",
       "      <td>barcelona</td>\n",
       "      <td>41.38879</td>\n",
       "      <td>2.15899</td>\n",
       "    </tr>\n",
       "    <tr>\n",
       "      <th>2004</th>\n",
       "      <td>athens</td>\n",
       "      <td>39.32924</td>\n",
       "      <td>-82.10126</td>\n",
       "    </tr>\n",
       "    <tr>\n",
       "      <th>1932</th>\n",
       "      <td>los angeles</td>\n",
       "      <td>-37.46973</td>\n",
       "      <td>-72.35366</td>\n",
       "    </tr>\n",
       "    <tr>\n",
       "      <th>2008</th>\n",
       "      <td>beijing</td>\n",
       "      <td>39.90750</td>\n",
       "      <td>116.39723</td>\n",
       "    </tr>\n",
       "    <tr>\n",
       "      <th>1920</th>\n",
       "      <td>antwerpen</td>\n",
       "      <td>51.21989</td>\n",
       "      <td>4.40346</td>\n",
       "    </tr>\n",
       "  </tbody>\n",
       "</table>\n",
       "</div>"
      ],
      "text/plain": [
       "             City  latitude  longitude\n",
       "Year                                  \n",
       "1992    barcelona  41.38879    2.15899\n",
       "2004       athens  39.32924  -82.10126\n",
       "1932  los angeles -37.46973  -72.35366\n",
       "2008      beijing  39.90750  116.39723\n",
       "1920    antwerpen  51.21989    4.40346"
      ]
     },
     "execution_count": 32,
     "metadata": {},
     "output_type": "execute_result"
    }
   ],
   "source": [
    "import pandas as pd\n",
    "df= pd.read_csv('city_loc.csv',index_col=['Year'])\n",
    "df.sample(n=5)"
   ]
  },
  {
   "cell_type": "code",
   "execution_count": 33,
   "id": "7172ae1a",
   "metadata": {},
   "outputs": [
    {
     "name": "stdout",
     "output_type": "stream",
     "text": [
      "Year           int64\n",
      "City          object\n",
      "latitude     float64\n",
      "longitude    float64\n",
      "dtype: object\n"
     ]
    }
   ],
   "source": [
    "import pandas as pd\n",
    "df= pd.read_csv('city_loc.csv',)\n",
    "print(df.dtypes)"
   ]
  },
  {
   "cell_type": "code",
   "execution_count": 37,
   "id": "b560356c",
   "metadata": {},
   "outputs": [
    {
     "name": "stdout",
     "output_type": "stream",
     "text": [
      "float64    12\n",
      "int64       7\n",
      "object      4\n",
      "bool        3\n",
      "dtype: int64\n",
      "  brand_name                      model  price  rating  has_5g  has_nfc  \\\n",
      "0    oneplus              OnePlus 11 5G  54999    89.0    True     True   \n",
      "1    oneplus  OnePlus Nord CE 2 Lite 5G  19989    81.0    True    False   \n",
      "2    samsung      Samsung Galaxy A14 5G  16499    75.0    True    False   \n",
      "3   motorola       Motorola Moto G62 5G  14999    81.0    True    False   \n",
      "4     realme         Realme 10 Pro Plus  24999    82.0    True    False   \n",
      "\n",
      "   has_ir_blaster processor_brand  num_cores  processor_speed  ...  \\\n",
      "0           False      snapdragon        8.0              3.2  ...   \n",
      "1           False      snapdragon        8.0              2.2  ...   \n",
      "2           False          exynos        8.0              2.4  ...   \n",
      "3           False      snapdragon        8.0              2.2  ...   \n",
      "4           False       dimensity        8.0              2.6  ...   \n",
      "\n",
      "   refresh_rate  num_rear_cameras  num_front_cameras       os  \\\n",
      "0           120                 3                1.0  android   \n",
      "1           120                 3                1.0  android   \n",
      "2            90                 3                1.0  android   \n",
      "3           120                 3                1.0  android   \n",
      "4           120                 3                1.0  android   \n",
      "\n",
      "   primary_camera_rear  primary_camera_front  extended_memory_available  \\\n",
      "0                 50.0                  16.0                          0   \n",
      "1                 64.0                  16.0                          1   \n",
      "2                 50.0                  13.0                          1   \n",
      "3                 50.0                  16.0                          1   \n",
      "4                108.0                  16.0                          0   \n",
      "\n",
      "   extended_upto  resolution_width resolution_height  \n",
      "0            NaN              1440              3216  \n",
      "1         1024.0              1080              2412  \n",
      "2         1024.0              1080              2408  \n",
      "3         1024.0              1080              2400  \n",
      "4            NaN              1080              2412  \n",
      "\n",
      "[5 rows x 26 columns]\n"
     ]
    }
   ],
   "source": [
    "import pandas as pd\n",
    "df= pd.read_csv('smartphones_cleaned_v6.csv')\n",
    "print(df.dtypes.value_counts())\n",
    "print(df.head())"
   ]
  },
  {
   "cell_type": "markdown",
   "id": "29e02ce1",
   "metadata": {},
   "source": [
    "#### Attribute and methods only applicable on the DataFrame but not in Series"
   ]
  },
  {
   "cell_type": "raw",
   "id": "e1e9096f",
   "metadata": {},
   "source": [
    "Attributes:\n",
    "    1. dtypes\n",
    "    2. columns\n",
    "    3. axes\n",
    "Methods:\n",
    "    1. info()\n",
    "    2. sample()"
   ]
  },
  {
   "cell_type": "code",
   "execution_count": 42,
   "id": "d6650783",
   "metadata": {},
   "outputs": [
    {
     "name": "stdout",
     "output_type": "stream",
     "text": [
      "   c1  c2  c3\n",
      "0  10  20  30\n",
      "1  40  50  60\n",
      "2  70  80  90\n"
     ]
    }
   ],
   "source": [
    "import pandas as pd\n",
    "import numpy as np\n",
    "ndarray=np.array([[10,20,30],[40,50,60],[70,80,90]])\n",
    "df=pd.DataFrame(ndarray,columns=[['c1','c2','c3']])\n",
    "print(df)\n"
   ]
  },
  {
   "cell_type": "code",
   "execution_count": 43,
   "id": "6693d82c",
   "metadata": {},
   "outputs": [
    {
     "name": "stdout",
     "output_type": "stream",
     "text": [
      "c1    int32\n",
      "c2    int32\n",
      "c3    int32\n",
      "dtype: object\n"
     ]
    }
   ],
   "source": [
    "import pandas as pd\n",
    "import numpy as np\n",
    "ndarray=np.array([[10,20,30],[40,50,60],[70,80,90]])\n",
    "df=pd.DataFrame(ndarray,columns=[['c1','c2','c3']])\n",
    "print(df.dtypes)"
   ]
  },
  {
   "cell_type": "code",
   "execution_count": 44,
   "id": "22175cc9",
   "metadata": {},
   "outputs": [
    {
     "name": "stdout",
     "output_type": "stream",
     "text": [
      "MultiIndex([('c1',),\n",
      "            ('c2',),\n",
      "            ('c3',)],\n",
      "           )\n"
     ]
    }
   ],
   "source": [
    "import pandas as pd\n",
    "import numpy as np\n",
    "ndarray=np.array([[10,20,30],[40,50,60],[70,80,90]])\n",
    "df=pd.DataFrame(ndarray,columns=[['c1','c2','c3']])\n",
    "#print(df.dtypes)\n",
    "print(df.columns)"
   ]
  },
  {
   "cell_type": "code",
   "execution_count": 45,
   "id": "ae31b71f",
   "metadata": {},
   "outputs": [
    {
     "name": "stdout",
     "output_type": "stream",
     "text": [
      "[RangeIndex(start=0, stop=3, step=1), MultiIndex([('c1',),\n",
      "            ('c2',),\n",
      "            ('c3',)],\n",
      "           )]\n"
     ]
    }
   ],
   "source": [
    "import pandas as pd\n",
    "import numpy as np\n",
    "ndarray=np.array([[10,20,30],[40,50,60],[70,80,90]])\n",
    "df=pd.DataFrame(ndarray,columns=[['c1','c2','c3']])\n",
    "#print(df.dtypes)\n",
    "#print(df.columns)\n",
    "print(df.axes)"
   ]
  },
  {
   "cell_type": "code",
   "execution_count": 49,
   "id": "6e46068a",
   "metadata": {},
   "outputs": [
    {
     "name": "stdout",
     "output_type": "stream",
     "text": [
      "   c1  c2  c3\n",
      "0  10  20  30\n",
      "1  40  50  60\n"
     ]
    }
   ],
   "source": [
    "import pandas as pd\n",
    "import numpy as np\n",
    "ndarray=np.array([[10,20,30],[40,50,60],[70,80,90]])\n",
    "df=pd.DataFrame(ndarray,columns=[['c1','c2','c3']])\n",
    "#print(df.dtypes)\n",
    "#print(df.columns)\n",
    "#print(df.axes)\n",
    "print(df.sample(n=2))"
   ]
  },
  {
   "cell_type": "code",
   "execution_count": 50,
   "id": "a2b92a11",
   "metadata": {},
   "outputs": [
    {
     "name": "stdout",
     "output_type": "stream",
     "text": [
      "<class 'pandas.core.frame.DataFrame'>\n",
      "RangeIndex: 3 entries, 0 to 2\n",
      "Data columns (total 3 columns):\n",
      " #   Column  Non-Null Count  Dtype\n",
      "---  ------  --------------  -----\n",
      " 0   (c1,)   3 non-null      int32\n",
      " 1   (c2,)   3 non-null      int32\n",
      " 2   (c3,)   3 non-null      int32\n",
      "dtypes: int32(3)\n",
      "memory usage: 164.0 bytes\n",
      "None\n"
     ]
    }
   ],
   "source": [
    "import pandas as pd\n",
    "import numpy as np\n",
    "ndarray=np.array([[10,20,30],[40,50,60],[70,80,90]])\n",
    "df=pd.DataFrame(ndarray,columns=[['c1','c2','c3']])\n",
    "#print(df.dtypes)\n",
    "#print(df.columns)\n",
    "#print(df.axes)\n",
    "#print(df.sample(n=2))\n",
    "print(df.info())"
   ]
  },
  {
   "cell_type": "markdown",
   "id": "2d7831d6",
   "metadata": {},
   "source": [
    "#### Selecting columns from dataframe\n",
    "    1. selection of one column\n",
    "       - df.column_name\n",
    "       - df['column_name'] # most recomended as name contains space it will give error eg.'ram niwash'\n",
    "    2. selection of multiple columns\n",
    "       - df['column_name1','column_name2',...]"
   ]
  },
  {
   "cell_type": "code",
   "execution_count": 52,
   "id": "12368fc1",
   "metadata": {},
   "outputs": [
    {
     "name": "stdout",
     "output_type": "stream",
     "text": [
      "0             athens\n",
      "1              paris\n",
      "2          st. louis\n",
      "3             london\n",
      "4          stockholm\n",
      "5          antwerpen\n",
      "6              paris\n",
      "7          amsterdam\n",
      "8        los angeles\n",
      "9             berlin\n",
      "10            london\n",
      "11          helsinki\n",
      "12         stockholm\n",
      "13         melbourne\n",
      "14              rome\n",
      "15             tokyo\n",
      "16       mexico city\n",
      "17            munich\n",
      "18          montreal\n",
      "19            moscow\n",
      "20       los angeles\n",
      "21             seoul\n",
      "22         barcelona\n",
      "23           atlanta\n",
      "24            sydney\n",
      "25            athens\n",
      "26           beijing\n",
      "27            london\n",
      "28    rio de janeiro\n",
      "Name: City, dtype: object\n"
     ]
    }
   ],
   "source": [
    "import pandas as pd\n",
    "df= pd.read_csv('city_loc.csv',)\n",
    "df.head()\n",
    "print(df.City) # getting single column"
   ]
  },
  {
   "cell_type": "code",
   "execution_count": 53,
   "id": "506c0f02",
   "metadata": {},
   "outputs": [
    {
     "name": "stdout",
     "output_type": "stream",
     "text": [
      "0             athens\n",
      "1              paris\n",
      "2          st. louis\n",
      "3             london\n",
      "4          stockholm\n",
      "5          antwerpen\n",
      "6              paris\n",
      "7          amsterdam\n",
      "8        los angeles\n",
      "9             berlin\n",
      "10            london\n",
      "11          helsinki\n",
      "12         stockholm\n",
      "13         melbourne\n",
      "14              rome\n",
      "15             tokyo\n",
      "16       mexico city\n",
      "17            munich\n",
      "18          montreal\n",
      "19            moscow\n",
      "20       los angeles\n",
      "21             seoul\n",
      "22         barcelona\n",
      "23           atlanta\n",
      "24            sydney\n",
      "25            athens\n",
      "26           beijing\n",
      "27            london\n",
      "28    rio de janeiro\n",
      "Name: City, dtype: object\n"
     ]
    }
   ],
   "source": [
    "import pandas as pd\n",
    "df= pd.read_csv('city_loc.csv',)\n",
    "df.head()\n",
    "print(df['City']) # getting single column"
   ]
  },
  {
   "cell_type": "code",
   "execution_count": 56,
   "id": "974600a5",
   "metadata": {},
   "outputs": [
    {
     "name": "stdout",
     "output_type": "stream",
     "text": [
      "              City  latitude\n",
      "0           athens  34.80243\n",
      "1            paris  48.85341\n",
      "2        st. louis  38.62727\n",
      "3           london  42.98339\n",
      "4        stockholm  59.33258\n",
      "5        antwerpen  51.21989\n",
      "6            paris  48.85341\n",
      "7        amsterdam  52.37403\n",
      "8      los angeles -37.46973\n",
      "9           berlin  52.52437\n",
      "10          london  42.98339\n",
      "11        helsinki  60.16952\n",
      "12       stockholm  59.33258\n",
      "13       melbourne -37.81400\n",
      "14            rome  34.25704\n",
      "15           tokyo  35.68950\n",
      "16     mexico city  19.42847\n",
      "17          munich  48.13743\n",
      "18        montreal  45.50884\n",
      "19          moscow  55.75222\n",
      "20     los angeles  34.05223\n",
      "21           seoul  37.56600\n",
      "22       barcelona  41.38879\n",
      "23         atlanta  33.74900\n",
      "24          sydney -33.86785\n",
      "25          athens  39.32924\n",
      "26         beijing  39.90750\n",
      "27          london  51.50853\n",
      "28  rio de janeiro -22.90278\n"
     ]
    }
   ],
   "source": [
    "import pandas as pd\n",
    "df= pd.read_csv('city_loc.csv',)\n",
    "df.head()\n",
    "\n",
    "print(df[['City','latitude']]) # getting multiple column"
   ]
  },
  {
   "cell_type": "markdown",
   "id": "48cbb453",
   "metadata": {},
   "source": [
    "#### Airthmatic Operation on the dataframe "
   ]
  },
  {
   "cell_type": "raw",
   "id": "0a49dbbf",
   "metadata": {},
   "source": [
    "we can't apply airthmatic operation directly on DataFrame object because it conatins multiple columns.\n",
    "But we can perform airthmatic operation by selecting a particular column of DataFrame, because each Dataframe is collection of the series object."
   ]
  },
  {
   "cell_type": "raw",
   "id": "61279116",
   "metadata": {},
   "source": [
    "The allowed airthmatic operation are:\n",
    "    1. df['column']+500 or df['column'].add(500)\n",
    "    1. df['column']-500 or df['column'].sub(500)    \n",
    "    1. df['column']*2 or df['column'].mul(500)    \n",
    "    1. df['column']/2 or df['column'].div(500)    "
   ]
  },
  {
   "cell_type": "code",
   "execution_count": 60,
   "id": "bfa0c533",
   "metadata": {},
   "outputs": [
    {
     "name": "stdout",
     "output_type": "stream",
     "text": [
      "0     10500\n",
      "1     20500\n",
      "2     30500\n",
      "3     40500\n",
      "4     50500\n",
      "5     19500\n",
      "6    100500\n",
      "Name: Esal, dtype: int64\n",
      "   ENO    Ename    Esal      Eaddr\n",
      "0  100    bunny   10000  hyderabad\n",
      "1  200    sunny   20000      delhi\n",
      "2  300     rani   30000       pune\n",
      "3  400  srikant   40000   banglore\n",
      "4  500    krish   50000      patna\n",
      "5  600   deepak   19000     bokaro\n",
      "6  700   pushpa  100000   gurugram\n"
     ]
    }
   ],
   "source": [
    "import pandas as pd\n",
    "df=pd.read_csv('emp.csv')\n",
    "\n",
    "# add 500 value to the Esal column values\n",
    "print(df['Esal']+500)\n",
    "print(df)"
   ]
  },
  {
   "cell_type": "code",
   "execution_count": 61,
   "id": "a5a06e1e",
   "metadata": {},
   "outputs": [
    {
     "name": "stdout",
     "output_type": "stream",
     "text": [
      "0     10500\n",
      "1     20500\n",
      "2     30500\n",
      "3     40500\n",
      "4     50500\n",
      "5     19500\n",
      "6    100500\n",
      "Name: Esal, dtype: int64\n",
      "   ENO    Ename    Esal      Eaddr\n",
      "0  100    bunny   10000  hyderabad\n",
      "1  200    sunny   20000      delhi\n",
      "2  300     rani   30000       pune\n",
      "3  400  srikant   40000   banglore\n",
      "4  500    krish   50000      patna\n",
      "5  600   deepak   19000     bokaro\n",
      "6  700   pushpa  100000   gurugram\n"
     ]
    }
   ],
   "source": [
    "import pandas as pd\n",
    "df=pd.read_csv('emp.csv')\n",
    "\n",
    "# add 500 value to the Esal column values\n",
    "print(df['Esal'].add(500))\n",
    "print(df)"
   ]
  },
  {
   "cell_type": "markdown",
   "id": "bdaf805e",
   "metadata": {},
   "source": [
    "#### Adding new coulumn to the DataFrame\n"
   ]
  },
  {
   "cell_type": "raw",
   "id": "436236e5",
   "metadata": {},
   "source": [
    "1. df['column']=Value :\n",
    "    -If the specified column is alraedy available then every value will be replaced by our provided value.\n",
    "    -If the Specified column is not avilable then a new columnn, will be added to the DataFrame with provided value\n",
    "    \n",
    "2. df.insert(loc,column,value)  :\n",
    "    -Inserted column into DataFrame at specified location.\n",
    "    -Raised a value Error if the column is already contained in the DataFrame,unless allows Duplicate is set as true "
   ]
  },
  {
   "cell_type": "code",
   "execution_count": 62,
   "id": "7baff1fa",
   "metadata": {},
   "outputs": [
    {
     "name": "stdout",
     "output_type": "stream",
     "text": [
      "   ENO    Ename    Esal      Eaddr\n",
      "0  100    bunny   10000  hyderabad\n",
      "1  200    sunny   20000      delhi\n",
      "2  300     rani   30000       pune\n",
      "3  400  srikant   40000   banglore\n",
      "4  500    krish   50000      patna\n",
      "5  600   deepak   19000     bokaro\n",
      "6  700   pushpa  100000   gurugram\n",
      "--------------------------------------------------\n",
      "   ENO    Ename  Esal      Eaddr\n",
      "0  100    bunny   999  hyderabad\n",
      "1  200    sunny   999      delhi\n",
      "2  300     rani   999       pune\n",
      "3  400  srikant   999   banglore\n",
      "4  500    krish   999      patna\n",
      "5  600   deepak   999     bokaro\n",
      "6  700   pushpa   999   gurugram\n"
     ]
    }
   ],
   "source": [
    "import pandas as pd\n",
    "df=pd.read_csv('emp.csv')\n",
    "print(df)\n",
    "print('-'*50)\n",
    "df['Esal']=999 # providing salary 999 in each value to the Esal column\n",
    "print(df)"
   ]
  },
  {
   "cell_type": "code",
   "execution_count": 64,
   "id": "f18a9203",
   "metadata": {},
   "outputs": [
    {
     "name": "stdout",
     "output_type": "stream",
     "text": [
      "   ENO    Ename    Esal      Eaddr\n",
      "0  100    bunny   10000  hyderabad\n",
      "1  200    sunny   20000      delhi\n",
      "2  300     rani   30000       pune\n",
      "3  400  srikant   40000   banglore\n",
      "4  500    krish   50000      patna\n",
      "5  600   deepak   19000     bokaro\n",
      "6  700   pushpa  100000   gurugram\n",
      "--------------------------------------------------\n",
      "   ENO    Ename  Esal      Eaddr\n",
      "0  100    bunny   999  hyderabad\n",
      "1  200    sunny   999      delhi\n",
      "2  300     rani   999       pune\n",
      "3  400  srikant   999   banglore\n",
      "4  500    krish   999      patna\n",
      "5  600   deepak   999     bokaro\n",
      "6  700   pushpa   999   gurugram\n",
      "   ENO    Ename  Esal      Eaddr Country\n",
      "0  100    bunny   999  hyderabad   India\n",
      "1  200    sunny   999      delhi   India\n",
      "2  300     rani   999       pune   India\n",
      "3  400  srikant   999   banglore   India\n",
      "4  500    krish   999      patna   India\n",
      "5  600   deepak   999     bokaro   India\n",
      "6  700   pushpa   999   gurugram   India\n"
     ]
    }
   ],
   "source": [
    "import pandas as pd\n",
    "df=pd.read_csv('emp.csv')\n",
    "print(df)\n",
    "print('-'*50)\n",
    "df['Esal']=999\n",
    "print(df)\n",
    "df['Country']='India'\n",
    "print(df)"
   ]
  },
  {
   "cell_type": "code",
   "execution_count": 69,
   "id": "cc6e4b50",
   "metadata": {},
   "outputs": [
    {
     "name": "stdout",
     "output_type": "stream",
     "text": [
      "   ENO    Ename    Esal      Eaddr\n",
      "0  100    bunny   10000  hyderabad\n",
      "1  200    sunny   20000      delhi\n",
      "2  300     rani   30000       pune\n",
      "3  400  srikant   40000   banglore\n",
      "4  500    krish   50000      patna\n",
      "5  600   deepak   19000     bokaro\n",
      "6  700   pushpa  100000   gurugram\n",
      "--------------------------------------------------\n",
      "   ENO    Ename  Esal      Eaddr\n",
      "0  100    bunny   999  hyderabad\n",
      "1  200    sunny   999      delhi\n",
      "2  300     rani   999       pune\n",
      "3  400  srikant   999   banglore\n",
      "4  500    krish   999      patna\n",
      "5  600   deepak   999     bokaro\n",
      "6  700   pushpa   999   gurugram\n",
      "--------------------------------------------------\n",
      "   ENO    Ename  Esal      Eaddr Country          State\n",
      "0  100    bunny   999  hyderabad   India          bihar\n",
      "1  200    sunny   999      delhi   India         Odisha\n",
      "2  300     rani   999       pune   India          Delhi\n",
      "3  400  srikant   999   banglore   India      Jharkhand\n",
      "4  500    krish   999      patna   India      Karnataka\n",
      "5  600   deepak   999     bokaro   India  Uttar Pradseh\n",
      "6  700   pushpa   999   gurugram   India         Panjab\n"
     ]
    }
   ],
   "source": [
    "import pandas as pd\n",
    "df=pd.read_csv('emp.csv')\n",
    "print(df)\n",
    "print('-'*50)\n",
    "df['Esal']=999\n",
    "print(df)\n",
    "print('-'*50)\n",
    "df['Country']='India'\n",
    "df['State']=['bihar','Odisha','Delhi','Jharkhand','Karnataka','Uttar Pradseh','Panjab'] \n",
    "# the number of valuecolumn  should be same as the value in the column  \n",
    "print(df)"
   ]
  },
  {
   "cell_type": "code",
   "execution_count": 72,
   "id": "0053dd9e",
   "metadata": {},
   "outputs": [
    {
     "name": "stdout",
     "output_type": "stream",
     "text": [
      "   ENO    Ename    Esal      Eaddr\n",
      "0  100    bunny   10000  hyderabad\n",
      "1  200    sunny   20000      delhi\n",
      "2  300     rani   30000       pune\n",
      "3  400  srikant   40000   banglore\n",
      "4  500    krish   50000      patna\n",
      "5  600   deepak   19000     bokaro\n",
      "6  700   pushpa  100000   gurugram\n",
      "   ENO Country    Ename    Esal      Eaddr\n",
      "0  100   India    bunny   10000  hyderabad\n",
      "1  200   India    sunny   20000      delhi\n",
      "2  300   India     rani   30000       pune\n",
      "3  400   India  srikant   40000   banglore\n",
      "4  500   India    krish   50000      patna\n",
      "5  600   India   deepak   19000     bokaro\n",
      "6  700   India   pushpa  100000   gurugram\n"
     ]
    }
   ],
   "source": [
    "import pandas as pd\n",
    "df=pd.read_csv('emp.csv')\n",
    "print(df)\n",
    "#df.insert(1,'Esal',999) # error as Esal is already available in the DataFrame\n",
    "df.insert(1,'Country','India') # adding a new column in the 1 index of the as country\n",
    "f.insert(1,'Esal',999)\n",
    "print(df)"
   ]
  },
  {
   "cell_type": "code",
   "execution_count": 74,
   "id": "8e7ea944",
   "metadata": {},
   "outputs": [
    {
     "name": "stdout",
     "output_type": "stream",
     "text": [
      "   ENO    Ename    Esal      Eaddr\n",
      "0  100    bunny   10000  hyderabad\n",
      "1  200    sunny   20000      delhi\n",
      "2  300     rani   30000       pune\n",
      "3  400  srikant   40000   banglore\n",
      "4  500    krish   50000      patna\n",
      "5  600   deepak   19000     bokaro\n",
      "6  700   pushpa  100000   gurugram\n",
      "   ENO Country         States    Ename    Esal      Eaddr\n",
      "0  100   India          bihar    bunny   10000  hyderabad\n",
      "1  200   India         Odisha    sunny   20000      delhi\n",
      "2  300   India          Delhi     rani   30000       pune\n",
      "3  400   India      Jharkhand  srikant   40000   banglore\n",
      "4  500   India      Karnataka    krish   50000      patna\n",
      "5  600   India  Uttar Pradseh   deepak   19000     bokaro\n",
      "6  700   India         Panjab   pushpa  100000   gurugram\n"
     ]
    }
   ],
   "source": [
    "import pandas as pd\n",
    "df=pd.read_csv('emp.csv')\n",
    "print(df)\n",
    "#df.insert(1,'Esal',999) # error as Esal is already available in the DataFrame\n",
    "df.insert(1,'States',['bihar','Odisha','Delhi','Jharkhand','Karnataka','Uttar Pradseh','Panjab'] ) # adding a new column in the 1 index of the as country\n",
    "df.insert(1,'Country','India')\n",
    "print(df)"
   ]
  },
  {
   "cell_type": "code",
   "execution_count": 75,
   "id": "99e24a74",
   "metadata": {},
   "outputs": [
    {
     "name": "stdout",
     "output_type": "stream",
     "text": [
      "   ENO    Ename    Esal      Eaddr\n",
      "0  100    bunny   10000  hyderabad\n",
      "1  200    sunny   20000      delhi\n",
      "2  300     rani   30000       pune\n",
      "3  400  srikant   40000   banglore\n",
      "4  500    krish   50000      patna\n",
      "5  600   deepak   19000     bokaro\n",
      "6  700   pushpa  100000   gurugram\n",
      "--------------------------------------------------\n",
      "   ENO    Ename    Esal      Eaddr\n",
      "0  100    bunny   10500  hyderabad\n",
      "1  200    sunny   20500      delhi\n",
      "2  300     rani   30500       pune\n",
      "3  400  srikant   40500   banglore\n",
      "4  500    krish   50500      patna\n",
      "5  600   deepak   19500     bokaro\n",
      "6  700   pushpa  100500   gurugram\n"
     ]
    }
   ],
   "source": [
    "import pandas as pd\n",
    "df=pd.read_csv('emp.csv')\n",
    "print(df)\n",
    "# add in 500 bonus to the salary \n",
    "df['Esal']=df['Esal']+500\n",
    "print('-'*50)\n",
    "print(df)"
   ]
  },
  {
   "cell_type": "code",
   "execution_count": 77,
   "id": "5be1a7e4",
   "metadata": {},
   "outputs": [
    {
     "name": "stdout",
     "output_type": "stream",
     "text": [
      "   ENO    Ename    Esal      Eaddr\n",
      "0  100    bunny   10000  hyderabad\n",
      "1  200    sunny   20000      delhi\n",
      "2  300     rani   30000       pune\n",
      "3  400  srikant   40000   banglore\n",
      "4  500    krish   50000      patna\n",
      "5  600   deepak   19000     bokaro\n",
      "6  700   pushpa  100000   gurugram\n",
      "--------------------------------------------------\n",
      "   ENO    Ename    Esal      Eaddr\n",
      "0  100    bunny   10500  hyderabad\n",
      "1  200    sunny   20500      delhi\n",
      "2  300     rani   30500       pune\n",
      "3  400  srikant   40500   banglore\n",
      "4  500    krish   50500      patna\n",
      "5  600   deepak   19500     bokaro\n",
      "6  700   pushpa  100500   gurugram\n",
      "--------------------------------------------------\n",
      "   ENO    Ename     Esal      Eaddr\n",
      "0  100    bunny   5250.0  hyderabad\n",
      "1  200    sunny  10250.0      delhi\n",
      "2  300     rani  15250.0       pune\n",
      "3  400  srikant  20250.0   banglore\n",
      "4  500    krish  25250.0      patna\n",
      "5  600   deepak   9750.0     bokaro\n",
      "6  700   pushpa  50250.0   gurugram\n"
     ]
    }
   ],
   "source": [
    "import pandas as pd\n",
    "df=pd.read_csv('emp.csv')\n",
    "print(df)\n",
    "# add in 500 bonus to the salary \n",
    "df['Esal']=df['Esal']+500\n",
    "print('-'*50)\n",
    "print(df)\n",
    "print('-'*50)\n",
    "df['Esal']=df['Esal']/2\n",
    "print(df)"
   ]
  },
  {
   "cell_type": "markdown",
   "id": "45c87ecb",
   "metadata": {},
   "source": [
    "#### How to Drop DataFrame rows with missing Values/ null values "
   ]
  },
  {
   "cell_type": "raw",
   "id": "591fc3fb",
   "metadata": {},
   "source": [
    "\n",
    "dropnna() method\n",
    "\n",
    "DataFrame.dropna(*, axis=0, \n",
    "                  how=_NoDefault.no_default, \n",
    "                  thresh=_NoDefault.no_default,\n",
    "                  subset=None, inplace=False)\n",
    "\n",
    "        Remove missing values.\n",
    "By Default it remove rows  from the dataframe where row, contains at least one missing values."
   ]
  },
  {
   "cell_type": "code",
   "execution_count": 79,
   "id": "98260115",
   "metadata": {},
   "outputs": [
    {
     "name": "stdout",
     "output_type": "stream",
     "text": [
      "     ENO    ENAME      ESAL      EADDR\n",
      "0  100.0    bunny   10000.0  hyderabad\n",
      "1  200.0    sunny   20000.0      delhi\n",
      "2  300.0     rani   30000.0       pune\n",
      "3  400.0  srikant   40000.0   banglore\n",
      "4  500.0    krish   50000.0      patna\n",
      "5  600.0   deepak       NaN     bokaro\n",
      "6  700.0   pushpa  100000.0        NaN\n",
      "7    NaN      NaN       NaN        NaN\n"
     ]
    }
   ],
   "source": [
    "import pandas as pd\n",
    "df=pd.read_csv('emp1.csv')\n",
    "print(df)"
   ]
  },
  {
   "cell_type": "code",
   "execution_count": 80,
   "id": "14b6c5a0",
   "metadata": {},
   "outputs": [
    {
     "name": "stdout",
     "output_type": "stream",
     "text": [
      "     ENO    ENAME      ESAL      EADDR\n",
      "0  100.0    bunny   10000.0  hyderabad\n",
      "1  200.0    sunny   20000.0      delhi\n",
      "2  300.0     rani   30000.0       pune\n",
      "3  400.0  srikant   40000.0   banglore\n",
      "4  500.0    krish   50000.0      patna\n",
      "5  600.0   deepak       NaN     bokaro\n",
      "6  700.0   pushpa  100000.0        NaN\n",
      "7    NaN      NaN       NaN        NaN\n",
      "--------------------------------------------------\n",
      "     ENO    ENAME     ESAL      EADDR\n",
      "0  100.0    bunny  10000.0  hyderabad\n",
      "1  200.0    sunny  20000.0      delhi\n",
      "2  300.0     rani  30000.0       pune\n",
      "3  400.0  srikant  40000.0   banglore\n",
      "4  500.0    krish  50000.0      patna\n"
     ]
    }
   ],
   "source": [
    "import pandas as pd\n",
    "df=pd.read_csv('emp1.csv')\n",
    "print(df)\n",
    "print('-'*50)\n",
    "print(df.dropna()) # Deleting all rows which are having atleast one missing or null value"
   ]
  },
  {
   "cell_type": "markdown",
   "id": "122be584",
   "metadata": {},
   "source": [
    "##### 'how' parameter"
   ]
  },
  {
   "cell_type": "raw",
   "id": "cd66fee6",
   "metadata": {},
   "source": [
    "how{‘any’, ‘all’}, default ‘any’\n",
    "\n",
    "Determine if row or column is removed from DataFrame, when we have at least one NA or all NA.\n",
    "   ‘any’ : If any NA values are present, drop that row or column.\n",
    "   ‘all’ : If all values are NA, drop that row or column."
   ]
  },
  {
   "cell_type": "code",
   "execution_count": 81,
   "id": "cd6f113e",
   "metadata": {},
   "outputs": [
    {
     "name": "stdout",
     "output_type": "stream",
     "text": [
      "     ENO    ENAME      ESAL      EADDR\n",
      "0  100.0    bunny   10000.0  hyderabad\n",
      "1  200.0    sunny   20000.0      delhi\n",
      "2  300.0     rani   30000.0       pune\n",
      "3  400.0  srikant   40000.0   banglore\n",
      "4  500.0    krish   50000.0      patna\n",
      "5  600.0   deepak       NaN     bokaro\n",
      "6  700.0   pushpa  100000.0        NaN\n",
      "7    NaN      NaN       NaN        NaN\n",
      "--------------------------------------------------\n",
      "     ENO    ENAME      ESAL      EADDR\n",
      "0  100.0    bunny   10000.0  hyderabad\n",
      "1  200.0    sunny   20000.0      delhi\n",
      "2  300.0     rani   30000.0       pune\n",
      "3  400.0  srikant   40000.0   banglore\n",
      "4  500.0    krish   50000.0      patna\n",
      "5  600.0   deepak       NaN     bokaro\n",
      "6  700.0   pushpa  100000.0        NaN\n"
     ]
    }
   ],
   "source": [
    "import pandas as pd\n",
    "df=pd.read_csv('emp1.csv')\n",
    "print(df)\n",
    "print('-'*50)\n",
    "print(df.dropna(how='all')) # deleting the rows which are having all value rows are null"
   ]
  },
  {
   "cell_type": "code",
   "execution_count": 82,
   "id": "0f5740e8",
   "metadata": {},
   "outputs": [
    {
     "name": "stdout",
     "output_type": "stream",
     "text": [
      "     ENO    ENAME      ESAL      EADDR\n",
      "0  100.0    bunny   10000.0  hyderabad\n",
      "1  200.0    sunny   20000.0      delhi\n",
      "2  300.0     rani   30000.0       pune\n",
      "3  400.0  srikant   40000.0   banglore\n",
      "4  500.0    krish   50000.0      patna\n",
      "5  600.0   deepak       NaN     bokaro\n",
      "6  700.0   pushpa  100000.0        NaN\n",
      "7    NaN      NaN       NaN        NaN\n",
      "--------------------------------------------------\n",
      "     ENO    ENAME     ESAL      EADDR\n",
      "0  100.0    bunny  10000.0  hyderabad\n",
      "1  200.0    sunny  20000.0      delhi\n",
      "2  300.0     rani  30000.0       pune\n",
      "3  400.0  srikant  40000.0   banglore\n",
      "4  500.0    krish  50000.0      patna\n"
     ]
    }
   ],
   "source": [
    "import pandas as pd\n",
    "df=pd.read_csv('emp1.csv')\n",
    "print(df)\n",
    "print('-'*50)\n",
    "print(df.dropna(how='any')) # any null found in rows or column are deleted  rows "
   ]
  },
  {
   "cell_type": "markdown",
   "id": "adee85a4",
   "metadata": {},
   "source": [
    "##### Inplace parameter"
   ]
  },
  {
   "cell_type": "raw",
   "id": "a9c5304a",
   "metadata": {},
   "source": [
    "BY default dropna() method return a new DataFrame. Instead of Creating new dataframe to remove missing value in the existing Dataframe only we have to use inplace=True.\n",
    "Whether to modify the DataFrame rather than creating a new one."
   ]
  },
  {
   "cell_type": "code",
   "execution_count": 83,
   "id": "3aa4a289",
   "metadata": {},
   "outputs": [
    {
     "name": "stdout",
     "output_type": "stream",
     "text": [
      "     ENO    ENAME      ESAL      EADDR\n",
      "0  100.0    bunny   10000.0  hyderabad\n",
      "1  200.0    sunny   20000.0      delhi\n",
      "2  300.0     rani   30000.0       pune\n",
      "3  400.0  srikant   40000.0   banglore\n",
      "4  500.0    krish   50000.0      patna\n",
      "5  600.0   deepak       NaN     bokaro\n",
      "6  700.0   pushpa  100000.0        NaN\n",
      "7    NaN      NaN       NaN        NaN\n",
      "--------------------------------------------------\n",
      "     ENO    ENAME     ESAL      EADDR\n",
      "0  100.0    bunny  10000.0  hyderabad\n",
      "1  200.0    sunny  20000.0      delhi\n",
      "2  300.0     rani  30000.0       pune\n",
      "3  400.0  srikant  40000.0   banglore\n",
      "4  500.0    krish  50000.0      patna\n",
      "     ENO    ENAME      ESAL      EADDR\n",
      "0  100.0    bunny   10000.0  hyderabad\n",
      "1  200.0    sunny   20000.0      delhi\n",
      "2  300.0     rani   30000.0       pune\n",
      "3  400.0  srikant   40000.0   banglore\n",
      "4  500.0    krish   50000.0      patna\n",
      "5  600.0   deepak       NaN     bokaro\n",
      "6  700.0   pushpa  100000.0        NaN\n",
      "7    NaN      NaN       NaN        NaN\n"
     ]
    }
   ],
   "source": [
    "import pandas as pd\n",
    "df=pd.read_csv('emp1.csv')\n",
    "print(df)\n",
    "print('-'*50)\n",
    "print(df.dropna(how='any')) # here by default inplace = False so no change in the existing dataframe\n",
    "print(df)"
   ]
  },
  {
   "cell_type": "code",
   "execution_count": 84,
   "id": "ebf0c36a",
   "metadata": {},
   "outputs": [
    {
     "name": "stdout",
     "output_type": "stream",
     "text": [
      "     ENO    ENAME      ESAL      EADDR\n",
      "0  100.0    bunny   10000.0  hyderabad\n",
      "1  200.0    sunny   20000.0      delhi\n",
      "2  300.0     rani   30000.0       pune\n",
      "3  400.0  srikant   40000.0   banglore\n",
      "4  500.0    krish   50000.0      patna\n",
      "5  600.0   deepak       NaN     bokaro\n",
      "6  700.0   pushpa  100000.0        NaN\n",
      "7    NaN      NaN       NaN        NaN\n",
      "--------------------------------------------------\n",
      "None\n",
      "     ENO    ENAME     ESAL      EADDR\n",
      "0  100.0    bunny  10000.0  hyderabad\n",
      "1  200.0    sunny  20000.0      delhi\n",
      "2  300.0     rani  30000.0       pune\n",
      "3  400.0  srikant  40000.0   banglore\n",
      "4  500.0    krish  50000.0      patna\n"
     ]
    }
   ],
   "source": [
    "import pandas as pd\n",
    "df=pd.read_csv('emp1.csv')\n",
    "print(df)\n",
    "print('-'*50)\n",
    "print(df.dropna(how='any',inplace=True))#  here by default inplace = True so change in the existing dataframe it return none\n",
    "print(df)"
   ]
  },
  {
   "cell_type": "markdown",
   "id": "ca7ed693",
   "metadata": {},
   "source": [
    "##### Subset Parameter"
   ]
  },
  {
   "cell_type": "markdown",
   "id": "dcf6ff1b",
   "metadata": {},
   "source": [
    "To delete rows iff a particular column has the missing values"
   ]
  },
  {
   "cell_type": "raw",
   "id": "d8a96833",
   "metadata": {},
   "source": [
    "1. df.dropna(subset=['ESAL'])- if Easl contains missing value then only delete that rows.\n",
    "2. df.dropna(subset=['ESAL','ENAME'])- if ESAL or ENAME contain missing value, then only delete that rows "
   ]
  },
  {
   "cell_type": "code",
   "execution_count": 85,
   "id": "57932564",
   "metadata": {},
   "outputs": [
    {
     "name": "stdout",
     "output_type": "stream",
     "text": [
      "     ENO    ENAME      ESAL      EADDR\n",
      "0  100.0    bunny   10000.0  hyderabad\n",
      "1  200.0    sunny   20000.0      delhi\n",
      "2  300.0     rani   30000.0       pune\n",
      "3  400.0  srikant   40000.0   banglore\n",
      "4  500.0    krish   50000.0      patna\n",
      "5  600.0   deepak       NaN     bokaro\n",
      "6  700.0   pushpa  100000.0        NaN\n",
      "7    NaN      NaN       NaN        NaN\n",
      "--------------------------------------------------\n",
      "     ENO    ENAME      ESAL      EADDR\n",
      "0  100.0    bunny   10000.0  hyderabad\n",
      "1  200.0    sunny   20000.0      delhi\n",
      "2  300.0     rani   30000.0       pune\n",
      "3  400.0  srikant   40000.0   banglore\n",
      "4  500.0    krish   50000.0      patna\n",
      "6  700.0   pushpa  100000.0        NaN\n"
     ]
    }
   ],
   "source": [
    "import pandas as pd\n",
    "df=pd.read_csv('emp1.csv')\n",
    "print(df)\n",
    "print('-'*50)\n",
    "df.dropna(subset='ESAL',inplace=True)# deleting row (5,7) in the ESAL rows having the \n",
    "print(df)"
   ]
  },
  {
   "cell_type": "code",
   "execution_count": 86,
   "id": "9b0721a8",
   "metadata": {},
   "outputs": [
    {
     "name": "stdout",
     "output_type": "stream",
     "text": [
      "     ENO    ENAME      ESAL      EADDR\n",
      "0  100.0    bunny   10000.0  hyderabad\n",
      "1  200.0    sunny   20000.0      delhi\n",
      "2  300.0     rani   30000.0       pune\n",
      "3  400.0  srikant   40000.0   banglore\n",
      "4  500.0    krish   50000.0      patna\n",
      "5  600.0   deepak       NaN     bokaro\n",
      "6  700.0   pushpa  100000.0        NaN\n",
      "7    NaN      NaN       NaN        NaN\n",
      "--------------------------------------------------\n",
      "     ENO    ENAME     ESAL      EADDR\n",
      "0  100.0    bunny  10000.0  hyderabad\n",
      "1  200.0    sunny  20000.0      delhi\n",
      "2  300.0     rani  30000.0       pune\n",
      "3  400.0  srikant  40000.0   banglore\n",
      "4  500.0    krish  50000.0      patna\n"
     ]
    }
   ],
   "source": [
    "import pandas as pd\n",
    "df=pd.read_csv('emp1.csv')\n",
    "print(df)\n",
    "print('-'*50)\n",
    "df.dropna(subset=['ESAL','EADDR'],inplace=True)# deleting row (5,7) in the ESAL rows having the \n",
    "print(df)"
   ]
  },
  {
   "cell_type": "markdown",
   "id": "865a4b0b",
   "metadata": {},
   "source": [
    "##### To delete columns that are having missing values use(axis parameter)"
   ]
  },
  {
   "cell_type": "raw",
   "id": "ff48a47a",
   "metadata": {},
   "source": [
    "axis{0 or ‘index’, 1 or ‘columns’}, default 0\n",
    "  \n",
    "    Determine if rows or columns which contain missing values are removed.\n",
    "\n",
    "    0, or ‘index’ : Drop rows which contain missing values.\n",
    "    1, or ‘columns’ : Drop columns which contain missing value."
   ]
  },
  {
   "cell_type": "code",
   "execution_count": 88,
   "id": "c3577f40",
   "metadata": {},
   "outputs": [
    {
     "name": "stdout",
     "output_type": "stream",
     "text": [
      "     ENO    ENAME      ESAL      EADDR\n",
      "0  100.0    bunny   10000.0  hyderabad\n",
      "1  200.0    sunny   20000.0      delhi\n",
      "2  300.0     rani   30000.0       pune\n",
      "3  400.0  srikant   40000.0   banglore\n",
      "4  500.0    krish   50000.0      patna\n",
      "5  600.0   deepak       NaN     bokaro\n",
      "6  700.0   pushpa  100000.0        NaN\n",
      "7    NaN      NaN       NaN        NaN\n",
      "--------------------------------------------------\n",
      "Empty DataFrame\n",
      "Columns: []\n",
      "Index: [0, 1, 2, 3, 4, 5, 6, 7]\n"
     ]
    }
   ],
   "source": [
    "import pandas as pd\n",
    "df=pd.read_csv('emp1.csv')\n",
    "print(df)\n",
    "print('-'*50)\n",
    "df.dropna(axis=1,inplace=True)# deleting all columns since at 7th rows having all the null values \n",
    "print(df)"
   ]
  },
  {
   "cell_type": "code",
   "execution_count": 89,
   "id": "24fcd7ae",
   "metadata": {},
   "outputs": [
    {
     "name": "stdout",
     "output_type": "stream",
     "text": [
      "   ENO    ENAME      ESAL      EADDR\n",
      "0  100    bunny   10000.0  hyderabad\n",
      "1  200    sunny   20000.0      delhi\n",
      "2  300     rani   30000.0       pune\n",
      "3  400  srikant   40000.0   banglore\n",
      "4  500    krish   50000.0      patna\n",
      "5  600   deepak       NaN     bokaro\n",
      "6  700   pushpa  100000.0        NaN\n",
      "--------------------------------------------------\n",
      "   ENO    ENAME\n",
      "0  100    bunny\n",
      "1  200    sunny\n",
      "2  300     rani\n",
      "3  400  srikant\n",
      "4  500    krish\n",
      "5  600   deepak\n",
      "6  700   pushpa\n"
     ]
    }
   ],
   "source": [
    "import pandas as pd\n",
    "df=pd.read_csv('emp2.csv')\n",
    "print(df)\n",
    "print('-'*50)\n",
    "df.dropna(axis=1,inplace=True)# deleting all columns since at 7th rows having all the null values \n",
    "print(df)"
   ]
  },
  {
   "cell_type": "markdown",
   "id": "ea3e192e",
   "metadata": {},
   "source": [
    "#### How to fill missing/null values with our required values in DataFrame:\n",
    "fillna()\n"
   ]
  },
  {
   "cell_type": "raw",
   "id": "ba75e228",
   "metadata": {},
   "source": [
    "DataFrame.fillna(value=None, *, method=None, axis=None, inplace=False, limit=None, downcast=None)\n",
    "\n",
    "     Fill NA/NaN values using the specified method."
   ]
  },
  {
   "cell_type": "code",
   "execution_count": 91,
   "id": "7d808c1d",
   "metadata": {},
   "outputs": [
    {
     "name": "stdout",
     "output_type": "stream",
     "text": [
      "   ENO    ENAME      ESAL      EADDR\n",
      "0  100    bunny   10000.0  hyderabad\n",
      "1  200    sunny   20000.0      delhi\n",
      "2  300     rani   30000.0       pune\n",
      "3  400  srikant   40000.0   banglore\n",
      "4  500    krish   50000.0      patna\n",
      "5  600   deepak       NaN     bokaro\n",
      "6  700   pushpa  100000.0        NaN\n",
      "7  800      NaN       NaN        NaN\n",
      "--------------------------------------------------\n",
      "   ENO    ENAME      ESAL      EADDR\n",
      "0  100    bunny   10000.0  hyderabad\n",
      "1  200    sunny   20000.0      delhi\n",
      "2  300     rani   30000.0       pune\n",
      "3  400  srikant   40000.0   banglore\n",
      "4  500    krish   50000.0      patna\n",
      "5  600   deepak       0.0     bokaro\n",
      "6  700   pushpa  100000.0          0\n",
      "7  800        0       0.0          0\n"
     ]
    }
   ],
   "source": [
    "import pandas as pd\n",
    "df=pd.read_csv('emp3.csv')\n",
    "print(df)\n",
    "print('-'*50)\n",
    "df1=df.fillna(0)\n",
    "print(df1)"
   ]
  },
  {
   "cell_type": "raw",
   "id": "e0e13a45",
   "metadata": {},
   "source": [
    "Note:\n",
    "    Replacing missing value for ESAL column with 0 is meaningful. But replacing missing value for ENAME and EADDR column with 0 is not meaningful."
   ]
  },
  {
   "cell_type": "markdown",
   "id": "e5f2f6e8",
   "metadata": {},
   "source": [
    "##### If columns with different types"
   ]
  },
  {
   "cell_type": "raw",
   "id": "5e2ee993",
   "metadata": {},
   "source": [
    "Replacing every missing value in ENAME column with 'Durga' in EADDR column with Hyderabad and in ESAL column with 0\n",
    "\n",
    "     -ENAME--->Durga\n",
    "     -EADDR--->Hyderbad\n",
    "     -ESAL---->0"
   ]
  },
  {
   "cell_type": "raw",
   "id": "aadc856a",
   "metadata": {},
   "source": [
    "we can replace provided different replacement value for different columns based on columns datatype."
   ]
  },
  {
   "cell_type": "code",
   "execution_count": 93,
   "id": "b9026604",
   "metadata": {},
   "outputs": [
    {
     "name": "stdout",
     "output_type": "stream",
     "text": [
      "   ENO    ENAME      ESAL      EADDR\n",
      "0  100    bunny   10000.0  hyderabad\n",
      "1  200    sunny   20000.0      delhi\n",
      "2  300     rani   30000.0       pune\n",
      "3  400  srikant   40000.0   banglore\n",
      "4  500    krish   50000.0      patna\n",
      "5  600   deepak       NaN     bokaro\n",
      "6  700   pushpa  100000.0        NaN\n",
      "7  800      NaN       NaN        NaN\n",
      "--------------------------------------------------\n",
      "   ENO    ENAME      ESAL      EADDR\n",
      "0  100    bunny   10000.0  hyderabad\n",
      "1  200    sunny   20000.0      delhi\n",
      "2  300     rani   30000.0       pune\n",
      "3  400  srikant   40000.0   banglore\n",
      "4  500    krish   50000.0      patna\n",
      "5  600   deepak       NaN     bokaro\n",
      "6  700   pushpa  100000.0        NaN\n",
      "7  800    Durga       NaN        NaN\n"
     ]
    }
   ],
   "source": [
    "import pandas as pd\n",
    "df=pd.read_csv('emp3.csv')\n",
    "print(df)\n",
    "print('-'*50)\n",
    "#df['ENAME']=df['ENAME'].fillna('Durga')\n",
    "df['ENAME'].fillna('Durga',inplace=True) # more recomended\n",
    "print(df) # replacing 8th row ename as durga from nan value\n"
   ]
  },
  {
   "cell_type": "code",
   "execution_count": 94,
   "id": "d3b68d9a",
   "metadata": {},
   "outputs": [
    {
     "name": "stdout",
     "output_type": "stream",
     "text": [
      "   ENO    ENAME      ESAL      EADDR\n",
      "0  100    bunny   10000.0  hyderabad\n",
      "1  200    sunny   20000.0      delhi\n",
      "2  300     rani   30000.0       pune\n",
      "3  400  srikant   40000.0   banglore\n",
      "4  500    krish   50000.0      patna\n",
      "5  600   deepak       NaN     bokaro\n",
      "6  700   pushpa  100000.0        NaN\n",
      "7  800      NaN       NaN        NaN\n",
      "--------------------------------------------------\n",
      "   ENO    ENAME      ESAL      EADDR\n",
      "0  100    bunny   10000.0  hyderabad\n",
      "1  200    sunny   20000.0      delhi\n",
      "2  300     rani   30000.0       pune\n",
      "3  400  srikant   40000.0   banglore\n",
      "4  500    krish   50000.0      patna\n",
      "5  600   deepak       0.0     bokaro\n",
      "6  700   pushpa  100000.0  Hyderabad\n",
      "7  800    Durga       0.0  Hyderabad\n"
     ]
    }
   ],
   "source": [
    "import pandas as pd\n",
    "df=pd.read_csv('emp3.csv')\n",
    "print(df)\n",
    "print('-'*50)\n",
    "\n",
    "df['ENAME'].fillna('Durga',inplace=True) \n",
    "df['EADDR'].fillna('Hyderabad',inplace=True)\n",
    "df['ESAL'].fillna(0,inplace=True)\n",
    "print(df) \n"
   ]
  },
  {
   "cell_type": "markdown",
   "id": "5b18b2dd",
   "metadata": {},
   "source": [
    "#### How to convert DataFrame column type with as astype() method:\n",
    "   The main advantage of astype() method is we can improve memeory utilization"
   ]
  },
  {
   "cell_type": "raw",
   "id": "1fc905d4",
   "metadata": {},
   "source": [
    "DataFrame.astype(dtype, copy=True, errors='raise')\n",
    "Cast a pandas object to a specified dtype"
   ]
  },
  {
   "cell_type": "code",
   "execution_count": 96,
   "id": "55dc1709",
   "metadata": {},
   "outputs": [
    {
     "name": "stdout",
     "output_type": "stream",
     "text": [
      "   ENO    ENAME      ESAL      EADDR\n",
      "0  100    bunny   10000.0  hyderabad\n",
      "1  200    sunny   20000.0      delhi\n",
      "2  300     rani   30000.0       pune\n",
      "3  400  srikant   40000.0   banglore\n",
      "4  500    krish   50000.0      patna\n",
      "5  600   deepak       NaN     bokaro\n",
      "6  700   pushpa  100000.0        NaN\n",
      "7  800      NaN       NaN        NaN\n",
      "--------------------------------------------------\n",
      "   ENO    ENAME      ESAL      EADDR\n",
      "0  100    bunny   10000.0  hyderabad\n",
      "1  200    sunny   20000.0      delhi\n",
      "2  300     rani   30000.0       pune\n",
      "3  400  srikant   40000.0   banglore\n",
      "4  500    krish   50000.0      patna\n",
      "5  600   deepak       0.0     bokaro\n",
      "6  700   pushpa  100000.0          0\n",
      "7  800        0       0.0          0\n",
      "--------------------------------------------------\n",
      "   ENO    ENAME    ESAL      EADDR\n",
      "0  100    bunny   10000  hyderabad\n",
      "1  200    sunny   20000      delhi\n",
      "2  300     rani   30000       pune\n",
      "3  400  srikant   40000   banglore\n",
      "4  500    krish   50000      patna\n",
      "5  600   deepak       0     bokaro\n",
      "6  700   pushpa  100000          0\n",
      "7  800        0       0          0\n"
     ]
    }
   ],
   "source": [
    "import pandas as pd\n",
    "df=pd.read_csv('emp3.csv')\n",
    "print(df)\n",
    "print('-'*50)\n",
    "df.fillna(0,inplace=True)# as NaN is float value type and it reserve more memory so it converted to 0.0\n",
    "print(df) \n",
    "print('-'*50)\n",
    "df['ESAL']=df['ESAL'].astype('int') \n",
    "# here with the help of astype 0.0 in ESAL converted to 0 int type it reduce the memeory allocation\n",
    "print(df)\n",
    "\n"
   ]
  },
  {
   "cell_type": "markdown",
   "id": "c61228be",
   "metadata": {},
   "source": [
    "##### 'category' type"
   ]
  },
  {
   "cell_type": "raw",
   "id": "04a2337d",
   "metadata": {},
   "source": [
    "If a column contains same valuemultiple times. It is not recommended to create seperated copy of that value every time. It reduce memory utilization."
   ]
  },
  {
   "cell_type": "raw",
   "id": "004f5026",
   "metadata": {},
   "source": [
    "eg. hyderabad is eaddr value for multiple employees.\n",
    "\n",
    "instead of creating same value multiple times, we can create only once and we can reuse same value every time, we can reuse same value every time where it is requied.\n",
    "This approach improvies memory utilazation. \n",
    "\n",
    "we can do this by using 'category' type."
   ]
  },
  {
   "cell_type": "code",
   "execution_count": 97,
   "id": "876525fb",
   "metadata": {},
   "outputs": [
    {
     "name": "stdout",
     "output_type": "stream",
     "text": [
      "<class 'pandas.core.frame.DataFrame'>\n",
      "RangeIndex: 864 entries, 0 to 863\n",
      "Data columns (total 4 columns):\n",
      " #   Column  Non-Null Count  Dtype \n",
      "---  ------  --------------  ----- \n",
      " 0   ENO     864 non-null    int64 \n",
      " 1   ENAME   864 non-null    object\n",
      " 2   ESAL    864 non-null    int64 \n",
      " 3   EADDR   864 non-null    object\n",
      "dtypes: int64(2), object(2)\n",
      "memory usage: 27.1+ KB\n",
      "--------------------------------------------------\n",
      "<class 'pandas.core.frame.DataFrame'>\n",
      "RangeIndex: 864 entries, 0 to 863\n",
      "Data columns (total 4 columns):\n",
      " #   Column  Non-Null Count  Dtype   \n",
      "---  ------  --------------  -----   \n",
      " 0   ENO     864 non-null    int64   \n",
      " 1   ENAME   864 non-null    object  \n",
      " 2   ESAL    864 non-null    int64   \n",
      " 3   EADDR   864 non-null    category\n",
      "dtypes: category(1), int64(2), object(1)\n",
      "memory usage: 21.6+ KB\n"
     ]
    }
   ],
   "source": [
    "import pandas as pd\n",
    "df=pd.read_csv('emp4.csv')\n",
    "df.info()\n",
    "print('-'*50)\n",
    "df['EADDR']=df['EADDR'].astype('category')\n",
    "df.info()"
   ]
  },
  {
   "cell_type": "markdown",
   "id": "af548905",
   "metadata": {},
   "source": [
    "#### How to sort values of DataFrame"
   ]
  },
  {
   "cell_type": "raw",
   "id": "7afeb10e",
   "metadata": {},
   "source": [
    "DataFrame.sort_values(by, *, axis=0,\n",
    "                      ascending=True, \n",
    "                      inplace=False, \n",
    "                      kind='quicksort', \n",
    "                      na_position='last', \n",
    "                      ignore_index=False,\n",
    "                      key=None)\n",
    "Sort by the values along either axis.\n",
    "\n",
    "we can use 'by' parameter to specify column based on which sorting has to be done."
   ]
  },
  {
   "cell_type": "code",
   "execution_count": 2,
   "id": "7ad3e183",
   "metadata": {},
   "outputs": [
    {
     "name": "stdout",
     "output_type": "stream",
     "text": [
      "   ENO   ENAME  ESAL      EADDR\n",
      "0  100   sunny  1000     mumbai\n",
      "1  200   bunny  2000  hyderabad\n",
      "2  300  chinny  3000     mumbai\n",
      "3  400   vinny  4000      delhi\n",
      "4  500   pinny  5000    kolkata\n",
      "5  600   zinny  1500  hyderabad\n",
      "6  700   kinny  3500     mumbai\n",
      "--------------------------------------------------\n",
      "   ENO   ENAME  ESAL      EADDR\n",
      "0  100   sunny  1000     mumbai\n",
      "5  600   zinny  1500  hyderabad\n",
      "1  200   bunny  2000  hyderabad\n",
      "2  300  chinny  3000     mumbai\n",
      "6  700   kinny  3500     mumbai\n",
      "3  400   vinny  4000      delhi\n",
      "4  500   pinny  5000    kolkata\n"
     ]
    }
   ],
   "source": [
    "# eg.1 To sort value based on the ascending of the ESAL \n",
    "import pandas as pd\n",
    "df=pd.read_csv('emp5.csv')\n",
    "print(df)\n",
    "print('-'*50)\n",
    "#df.sort_values(by='ESAL',inplace=True)#  since by is positional argumnet so we can pass first argumnet without by\n",
    "df.sort_values('ESAL',inplace=True)\n",
    "print(df)"
   ]
  },
  {
   "cell_type": "code",
   "execution_count": 3,
   "id": "a99d32ee",
   "metadata": {},
   "outputs": [
    {
     "name": "stdout",
     "output_type": "stream",
     "text": [
      "   ENO   ENAME  ESAL      EADDR\n",
      "0  100   sunny  1000     mumbai\n",
      "1  200   bunny  2000  hyderabad\n",
      "2  300  chinny  3000     mumbai\n",
      "3  400   vinny  4000      delhi\n",
      "4  500   pinny  5000    kolkata\n",
      "5  600   zinny  1500  hyderabad\n",
      "6  700   kinny  3500     mumbai\n",
      "--------------------------------------------------\n",
      "   ENO   ENAME  ESAL      EADDR\n",
      "5  600   zinny  1500  hyderabad\n",
      "3  400   vinny  4000      delhi\n",
      "0  100   sunny  1000     mumbai\n",
      "4  500   pinny  5000    kolkata\n",
      "6  700   kinny  3500     mumbai\n",
      "2  300  chinny  3000     mumbai\n",
      "1  200   bunny  2000  hyderabad\n"
     ]
    }
   ],
   "source": [
    "# eg.2 To sort value based on the reverse of alphbets of order of ENAME \n",
    "import pandas as pd\n",
    "df=pd.read_csv('emp5.csv')\n",
    "print(df)\n",
    "print('-'*50)\n",
    "\n",
    "df.sort_values('ENAME',inplace=True,ascending=False) # ENAME is started with Zinny\n",
    "print(df)"
   ]
  },
  {
   "cell_type": "raw",
   "id": "08eb5801",
   "metadata": {},
   "source": [
    "note:\n",
    "    By default NAs will be placed at the last. If we want to place NAs at first we have to use \n",
    "    df.sort_values('ENAME',inplace=True,ascending=False,na_position='first')\n",
    "    \n",
    "    na_position{'first','last'} default 'last'\n",
    "    \n",
    "    put NaNs at the begining if first, last puts NaNs at the end."
   ]
  },
  {
   "cell_type": "markdown",
   "id": "7581522e",
   "metadata": {},
   "source": [
    "##### How to sort values of the DataFrame based on multiple columns:\n",
    "    we have to provide 'by' parameter as list of  columns"
   ]
  },
  {
   "cell_type": "raw",
   "id": "fb0bdd39",
   "metadata": {},
   "source": [
    "eg.3 All employee records will be sorted based on alphbetical order of ENAME. if multiple employee having same ENAME, then sorting will be happenend baesd on the ascending order of ESAL for theose employee.\n",
    "\n",
    "df.sort_values(by=['ENAME','ESAL'],inplace=True,ascending=True)"
   ]
  },
  {
   "cell_type": "code",
   "execution_count": 5,
   "id": "5b7c85f7",
   "metadata": {},
   "outputs": [
    {
     "name": "stdout",
     "output_type": "stream",
     "text": [
      "   ENO   ENAME  ESAL      EADDR\n",
      "0  100   sunny  1000     mumbai\n",
      "1  200   bunny  2000  hyderabad\n",
      "2  300  chinny  3000     mumbai\n",
      "3  400   vinny  4000      delhi\n",
      "4  500   pinny  5000    kolkata\n",
      "5  600   zinny  1500  hyderabad\n",
      "6  700   kinny  3500     mumbai\n",
      "7  800   sunny  2450  hyderabad\n",
      "8  900   sunny  7850  hyderabad\n",
      "--------------------------------------------------\n",
      "   ENO   ENAME  ESAL      EADDR\n",
      "1  200   bunny  2000  hyderabad\n",
      "2  300  chinny  3000     mumbai\n",
      "6  700   kinny  3500     mumbai\n",
      "4  500   pinny  5000    kolkata\n",
      "0  100   sunny  1000     mumbai\n",
      "7  800   sunny  2450  hyderabad\n",
      "8  900   sunny  7850  hyderabad\n",
      "3  400   vinny  4000      delhi\n",
      "5  600   zinny  1500  hyderabad\n"
     ]
    }
   ],
   "source": [
    " \n",
    "import pandas as pd\n",
    "df=pd.read_csv('emp6.csv')\n",
    "print(df)\n",
    "print('-'*50)\n",
    "\n",
    "df.sort_values(by=['ENAME','ESAL'],inplace=True,ascending=True)\n",
    "# sunny have same name in differnt rows then it sort by its salary\n",
    "print(df)"
   ]
  },
  {
   "cell_type": "raw",
   "id": "e5285e47",
   "metadata": {},
   "source": [
    "eg.4 All employee records will be sorted based on alphbetical order of ENAME. if multiple employee having same ENAME, then sorting will be happenend baesd on the decending order of ESAL for theose employee.\n",
    "\n",
    "df.sort_values(by=['ENAME','ESAL'],inplace=True,ascending=False)"
   ]
  },
  {
   "cell_type": "code",
   "execution_count": 6,
   "id": "f7388952",
   "metadata": {},
   "outputs": [
    {
     "name": "stdout",
     "output_type": "stream",
     "text": [
      "   ENO   ENAME  ESAL      EADDR\n",
      "0  100   sunny  1000     mumbai\n",
      "1  200   bunny  2000  hyderabad\n",
      "2  300  chinny  3000     mumbai\n",
      "3  400   vinny  4000      delhi\n",
      "4  500   pinny  5000    kolkata\n",
      "5  600   zinny  1500  hyderabad\n",
      "6  700   kinny  3500     mumbai\n",
      "7  800   sunny  2450  hyderabad\n",
      "8  900   sunny  7850  hyderabad\n",
      "--------------------------------------------------\n",
      "   ENO   ENAME  ESAL      EADDR\n",
      "5  600   zinny  1500  hyderabad\n",
      "3  400   vinny  4000      delhi\n",
      "8  900   sunny  7850  hyderabad\n",
      "7  800   sunny  2450  hyderabad\n",
      "0  100   sunny  1000     mumbai\n",
      "4  500   pinny  5000    kolkata\n",
      "6  700   kinny  3500     mumbai\n",
      "2  300  chinny  3000     mumbai\n",
      "1  200   bunny  2000  hyderabad\n"
     ]
    }
   ],
   "source": [
    " \n",
    "import pandas as pd\n",
    "df=pd.read_csv('emp6.csv')\n",
    "print(df)\n",
    "print('-'*50)\n",
    "\n",
    "df.sort_values(by=['ENAME','ESAL'],inplace=True,ascending=False)\n",
    "# sunny have same name in differnt rows then it sort by its salary\n",
    "print(df)"
   ]
  },
  {
   "cell_type": "raw",
   "id": "69623a8c",
   "metadata": {},
   "source": [
    "eg.4 All employee records will be sorted based on alphbetical order of ENAME. if multiple employee having same ENAME, then sorting will be happenend for decendig for ename and ascending for esal\n",
    "\n",
    "df.sort_values(by=['ENAME','ESAL'],inplace=True,ascending=[False,True])"
   ]
  },
  {
   "cell_type": "code",
   "execution_count": 7,
   "id": "ac720be9",
   "metadata": {},
   "outputs": [
    {
     "name": "stdout",
     "output_type": "stream",
     "text": [
      "   ENO   ENAME  ESAL      EADDR\n",
      "0  100   sunny  1000     mumbai\n",
      "1  200   bunny  2000  hyderabad\n",
      "2  300  chinny  3000     mumbai\n",
      "3  400   vinny  4000      delhi\n",
      "4  500   pinny  5000    kolkata\n",
      "5  600   zinny  1500  hyderabad\n",
      "6  700   kinny  3500     mumbai\n",
      "7  800   sunny  2450  hyderabad\n",
      "8  900   sunny  7850  hyderabad\n",
      "--------------------------------------------------\n",
      "   ENO   ENAME  ESAL      EADDR\n",
      "5  600   zinny  1500  hyderabad\n",
      "3  400   vinny  4000      delhi\n",
      "0  100   sunny  1000     mumbai\n",
      "7  800   sunny  2450  hyderabad\n",
      "8  900   sunny  7850  hyderabad\n",
      "4  500   pinny  5000    kolkata\n",
      "6  700   kinny  3500     mumbai\n",
      "2  300  chinny  3000     mumbai\n",
      "1  200   bunny  2000  hyderabad\n"
     ]
    }
   ],
   "source": [
    "import pandas as pd\n",
    "df=pd.read_csv('emp6.csv')\n",
    "print(df)\n",
    "print('-'*50)\n",
    "\n",
    "df.sort_values(by=['ENAME','ESAL'],inplace=True,ascending=[False,True])\n",
    "# sunny have same name in differnt rows then it sort by its salary\n",
    "print(df)"
   ]
  },
  {
   "cell_type": "raw",
   "id": "41f177b2",
   "metadata": {},
   "source": [
    "eg.4 All employee records will be sorted based on alphbetical order of EADDR. if multiple employee having same ENAME or EADDR, then sorting will be happenend for for esal\n",
    "\n",
    "df.sort_values(by=['EADDR','ENAME','ESAL'],inplace=True,ascending=[True,False,True])"
   ]
  },
  {
   "cell_type": "code",
   "execution_count": 8,
   "id": "f7cec7b8",
   "metadata": {},
   "outputs": [
    {
     "name": "stdout",
     "output_type": "stream",
     "text": [
      "   ENO   ENAME  ESAL      EADDR\n",
      "0  100   sunny  1000     mumbai\n",
      "1  200   bunny  2000  hyderabad\n",
      "2  300  chinny  3000     mumbai\n",
      "3  400   vinny  4000      delhi\n",
      "4  500   pinny  5000    kolkata\n",
      "5  600   zinny  1500  hyderabad\n",
      "6  700   kinny  3500     mumbai\n",
      "7  800   sunny  2450  hyderabad\n",
      "8  900   sunny  7850  hyderabad\n",
      "--------------------------------------------------\n",
      "   ENO   ENAME  ESAL      EADDR\n",
      "3  400   vinny  4000      delhi\n",
      "5  600   zinny  1500  hyderabad\n",
      "7  800   sunny  2450  hyderabad\n",
      "8  900   sunny  7850  hyderabad\n",
      "1  200   bunny  2000  hyderabad\n",
      "4  500   pinny  5000    kolkata\n",
      "0  100   sunny  1000     mumbai\n",
      "6  700   kinny  3500     mumbai\n",
      "2  300  chinny  3000     mumbai\n"
     ]
    }
   ],
   "source": [
    "import pandas as pd\n",
    "df=pd.read_csv('emp6.csv')\n",
    "print(df)\n",
    "print('-'*50)\n",
    "\n",
    "df.sort_values(by=['EADDR','ENAME','ESAL'],inplace=True,ascending=[True,False,True])\n",
    "\n",
    "print(df)"
   ]
  },
  {
   "cell_type": "markdown",
   "id": "22f806b0",
   "metadata": {},
   "source": [
    "#### How to sort DataFrame based on the index:\n"
   ]
  },
  {
   "cell_type": "raw",
   "id": "0899a917",
   "metadata": {},
   "source": [
    "DataFrame.sort_index(*, axis=0, \n",
    "                     level=None, \n",
    "                     ascending=True, \n",
    "                     inplace=False, \n",
    "                     kind='quicksort', \n",
    "                     na_position='last', \n",
    "                     sort_remaining=True, \n",
    "                     ignore_index=False, \n",
    "                     key=None)\n",
    "Sort object by labels (along an axis)."
   ]
  },
  {
   "cell_type": "code",
   "execution_count": 10,
   "id": "039930a8",
   "metadata": {},
   "outputs": [
    {
     "name": "stdout",
     "output_type": "stream",
     "text": [
      "   ENO   ENAME  ESAL      EADDR\n",
      "0  100   sunny  1000     mumbai\n",
      "1  200   bunny  2000  hyderabad\n",
      "2  300  chinny  3000     mumbai\n",
      "3  400   vinny  4000      delhi\n",
      "4  500   pinny  5000    kolkata\n",
      "5  600   zinny  1500  hyderabad\n",
      "6  700   kinny  3500     mumbai\n",
      "7  800   sunny  2450  hyderabad\n",
      "8  900   sunny  7850  hyderabad\n",
      "--------------------------------------------------\n",
      "   ENO   ENAME  ESAL      EADDR\n",
      "8  900   sunny  7850  hyderabad\n",
      "7  800   sunny  2450  hyderabad\n",
      "6  700   kinny  3500     mumbai\n",
      "5  600   zinny  1500  hyderabad\n",
      "4  500   pinny  5000    kolkata\n",
      "3  400   vinny  4000      delhi\n",
      "2  300  chinny  3000     mumbai\n",
      "1  200   bunny  2000  hyderabad\n",
      "0  100   sunny  1000     mumbai\n"
     ]
    }
   ],
   "source": [
    "import pandas as pd\n",
    "df=pd.read_csv('emp6.csv')\n",
    "print(df)\n",
    "print('-'*50)\n",
    "df.sort_index(inplace=True,ascending=False)\n",
    "print(df)"
   ]
  },
  {
   "cell_type": "markdown",
   "id": "138cc68e",
   "metadata": {},
   "source": [
    "#### How to rank series of values by using rank() method"
   ]
  },
  {
   "cell_type": "code",
   "execution_count": null,
   "id": "cd9ffa1e",
   "metadata": {},
   "outputs": [],
   "source": [
    "DataFrame.rank(axis=0, method='average',\n",
    "               numeric_only=_NoDefault.no_default, \n",
    "               na_option='keep', \n",
    "               ascending=True, pct=False)\n",
    "\n",
    "Compute numerical data ranks (1 through n) along axis."
   ]
  },
  {
   "cell_type": "code",
   "execution_count": 13,
   "id": "83e1ef19",
   "metadata": {},
   "outputs": [
    {
     "name": "stdout",
     "output_type": "stream",
     "text": [
      "0    1000\n",
      "1    2000\n",
      "2    3000\n",
      "3    4000\n",
      "4    5000\n",
      "5    1500\n",
      "6    3500\n",
      "7    2450\n",
      "8    7850\n",
      "Name: ESAL, dtype: int64\n",
      "0    1.0\n",
      "1    3.0\n",
      "2    5.0\n",
      "3    7.0\n",
      "4    8.0\n",
      "5    2.0\n",
      "6    6.0\n",
      "7    4.0\n",
      "8    9.0\n",
      "Name: ESAL, dtype: float64\n",
      "0    9.0\n",
      "1    7.0\n",
      "2    5.0\n",
      "3    3.0\n",
      "4    2.0\n",
      "5    8.0\n",
      "6    4.0\n",
      "7    6.0\n",
      "8    1.0\n",
      "Name: ESAL, dtype: float64\n"
     ]
    }
   ],
   "source": [
    "import pandas as pd\n",
    "df=pd.read_csv('emp6.csv')\n",
    "print(df['ESAL'])\n",
    "print(df['ESAL'].rank())# least salary rank is 1.0 ascending\n",
    "print(df['ESAL'].rank(ascending=False))# highest salary has rank 1.0 (decsnding order)"
   ]
  },
  {
   "cell_type": "code",
   "execution_count": 18,
   "id": "e9ee2afe",
   "metadata": {},
   "outputs": [
    {
     "name": "stdout",
     "output_type": "stream",
     "text": [
      "       ENO   ENAME  ESAL      EADDR\n",
      "0    100.0   sunny  1000     mumbai\n",
      "1    200.0   bunny  2000  hyderabad\n",
      "2    300.0  chinny  3000     mumbai\n",
      "3    400.0   vinny  4000      delhi\n",
      "4    500.0   pinny  5000    kolkata\n",
      "5    600.0   zinny  1500  hyderabad\n",
      "6    700.0   kinny  3500     mumbai\n",
      "7    800.0   sunny  2450  hyderabad\n",
      "8    900.0   sunny  7850  hyderabad\n",
      "10  1000.0   Xinny     0  Hyderabad\n",
      "       ENO   ENAME  ESAL      EADDR  Salary Rank\n",
      "0    100.0   sunny  1000     mumbai            9\n",
      "1    200.0   bunny  2000  hyderabad            7\n",
      "2    300.0  chinny  3000     mumbai            5\n",
      "3    400.0   vinny  4000      delhi            3\n",
      "4    500.0   pinny  5000    kolkata            2\n",
      "5    600.0   zinny  1500  hyderabad            8\n",
      "6    700.0   kinny  3500     mumbai            4\n",
      "7    800.0   sunny  2450  hyderabad            6\n",
      "8    900.0   sunny  7850  hyderabad            1\n",
      "10  1000.0   Xinny     0  Hyderabad           10\n"
     ]
    }
   ],
   "source": [
    "import pandas as pd\n",
    "df=pd.read_csv('emp6.csv').dropna(how='all')\n",
    "df['ESAL']=df['ESAL'].fillna(0).astype('int')\n",
    "print(df)\n",
    "#print(df['ESAL'].rank(ascending=False).astype('int'))\n",
    "df['Salary Rank']=df['ESAL'].rank(ascending=False).astype('int')\n",
    "print(df)"
   ]
  },
  {
   "cell_type": "code",
   "execution_count": 19,
   "id": "2f9cab2a",
   "metadata": {},
   "outputs": [
    {
     "name": "stdout",
     "output_type": "stream",
     "text": [
      "       ENO   ENAME  ESAL      EADDR\n",
      "0    100.0   sunny  1000     mumbai\n",
      "1    200.0   bunny  2000  hyderabad\n",
      "2    300.0  chinny  3000     mumbai\n",
      "3    400.0   vinny  4000      delhi\n",
      "4    500.0   pinny  5000    kolkata\n",
      "5    600.0   zinny  1500  hyderabad\n",
      "6    700.0   kinny  3500     mumbai\n",
      "7    800.0   sunny  2450  hyderabad\n",
      "8    900.0   sunny  7850  hyderabad\n",
      "10  1000.0   Xinny     0  Hyderabad\n",
      "       ENO   ENAME  ESAL      EADDR  Salary Rank\n",
      "0    100.0   sunny  1000     mumbai            9\n",
      "1    200.0   bunny  2000  hyderabad            7\n",
      "2    300.0  chinny  3000     mumbai            5\n",
      "3    400.0   vinny  4000      delhi            3\n",
      "4    500.0   pinny  5000    kolkata            2\n",
      "5    600.0   zinny  1500  hyderabad            8\n",
      "6    700.0   kinny  3500     mumbai            4\n",
      "7    800.0   sunny  2450  hyderabad            6\n",
      "8    900.0   sunny  7850  hyderabad            1\n",
      "10  1000.0   Xinny     0  Hyderabad           10\n",
      "--------------------------------------------------\n",
      "       ENO   ENAME  ESAL      EADDR  Salary Rank\n",
      "8    900.0   sunny  7850  hyderabad            1\n",
      "4    500.0   pinny  5000    kolkata            2\n",
      "3    400.0   vinny  4000      delhi            3\n",
      "6    700.0   kinny  3500     mumbai            4\n",
      "2    300.0  chinny  3000     mumbai            5\n",
      "7    800.0   sunny  2450  hyderabad            6\n",
      "1    200.0   bunny  2000  hyderabad            7\n",
      "5    600.0   zinny  1500  hyderabad            8\n",
      "0    100.0   sunny  1000     mumbai            9\n",
      "10  1000.0   Xinny     0  Hyderabad           10\n"
     ]
    }
   ],
   "source": [
    "import pandas as pd\n",
    "df=pd.read_csv('emp6.csv').dropna(how='all')\n",
    "df['ESAL']=df['ESAL'].fillna(0).astype('int')\n",
    "print(df)\n",
    "#print(df['ESAL'].rank(ascending=False).astype('int'))\n",
    "df['Salary Rank']=df['ESAL'].rank(ascending=False).astype('int')\n",
    "print(df)\n",
    "print('-'*50)\n",
    "df.sort_values(by='Salary Rank',inplace=True)\n",
    "print(df)"
   ]
  },
  {
   "cell_type": "markdown",
   "id": "08323cd4",
   "metadata": {},
   "source": [
    "#### How to filter data from DataFrame "
   ]
  },
  {
   "cell_type": "raw",
   "id": "4e7d382a",
   "metadata": {},
   "source": [
    "we can filter data from DataFrame based on some condition, i.e we can select subset of rows based on some selection criteria. Internally we can use boolean masking for this filtering perpose."
   ]
  },
  {
   "cell_type": "raw",
   "id": "9f59b603",
   "metadata": {},
   "source": [
    "Syntax:\n",
    "    df[condition]\n",
    "    df[boolean masking]"
   ]
  },
  {
   "cell_type": "raw",
   "id": "09be3fb8",
   "metadata": {},
   "source": [
    "Q.1 select all employee record whose city is Hyderabad"
   ]
  },
  {
   "cell_type": "code",
   "execution_count": 25,
   "id": "b03e29c7",
   "metadata": {},
   "outputs": [
    {
     "name": "stdout",
     "output_type": "stream",
     "text": [
      "   ENO   ENAME  ESAL      EADDR\n",
      "0  100   sunny  1000     mumbai\n",
      "1  200   bunny  2000  hyderabad\n",
      "2  300  chinny  3000     mumbai\n",
      "3  400   vinny  4000      delhi\n",
      "4  500   pinny  5000    kolkata\n",
      "5  600     Nan  1500  hyderabad\n",
      "6  700   zinny  2500  hyderabad\n",
      "7  800   kinny  3200     mumbai\n",
      "--------------------------------------------------\n",
      "   ENO  ENAME  ESAL      EADDR\n",
      "1  200  bunny  2000  hyderabad\n",
      "5  600    Nan  1500  hyderabad\n",
      "6  700  zinny  2500  hyderabad\n"
     ]
    }
   ],
   "source": [
    "import pandas as pd\n",
    "df = pd.read_csv('emp6.csv')\n",
    "print(df)\n",
    "print('-'*50)\n",
    "#print(df['EADDR'])\n",
    "#print(df['EADDR']=='hyderabad')\n",
    "print(df[df['EADDR']=='hyderabad'])"
   ]
  },
  {
   "cell_type": "raw",
   "id": "b0a90ad7",
   "metadata": {},
   "source": [
    "Q.2 select all employee record whose city is not belongs to Hyderabad"
   ]
  },
  {
   "cell_type": "code",
   "execution_count": 26,
   "id": "29e196f5",
   "metadata": {},
   "outputs": [
    {
     "name": "stdout",
     "output_type": "stream",
     "text": [
      "   ENO   ENAME  ESAL      EADDR\n",
      "0  100   sunny  1000     mumbai\n",
      "1  200   bunny  2000  hyderabad\n",
      "2  300  chinny  3000     mumbai\n",
      "3  400   vinny  4000      delhi\n",
      "4  500   pinny  5000    kolkata\n",
      "5  600     Nan  1500  hyderabad\n",
      "6  700   zinny  2500  hyderabad\n",
      "7  800   kinny  3200     mumbai\n",
      "--------------------------------------------------\n",
      "   ENO   ENAME  ESAL    EADDR\n",
      "0  100   sunny  1000   mumbai\n",
      "2  300  chinny  3000   mumbai\n",
      "3  400   vinny  4000    delhi\n",
      "4  500   pinny  5000  kolkata\n",
      "7  800   kinny  3200   mumbai\n"
     ]
    }
   ],
   "source": [
    "import pandas as pd\n",
    "df = pd.read_csv('emp6.csv')\n",
    "print(df)\n",
    "print('-'*50)\n",
    "#print(df['EADDR'])\n",
    "#print(df['EADDR']=='hyderabad')\n",
    "print(df[df['EADDR']!='hyderabad'])"
   ]
  },
  {
   "cell_type": "raw",
   "id": "f7eea26f",
   "metadata": {},
   "source": [
    "Q.2 select all employee record whose salary is greater than 3000?"
   ]
  },
  {
   "cell_type": "code",
   "execution_count": 27,
   "id": "90d5527b",
   "metadata": {},
   "outputs": [
    {
     "name": "stdout",
     "output_type": "stream",
     "text": [
      "   ENO   ENAME  ESAL      EADDR\n",
      "0  100   sunny  1000     mumbai\n",
      "1  200   bunny  2000  hyderabad\n",
      "2  300  chinny  3000     mumbai\n",
      "3  400   vinny  4000      delhi\n",
      "4  500   pinny  5000    kolkata\n",
      "5  600     Nan  1500  hyderabad\n",
      "6  700   zinny  2500  hyderabad\n",
      "7  800   kinny  3200     mumbai\n",
      "--------------------------------------------------\n",
      "   ENO  ENAME  ESAL    EADDR\n",
      "3  400  vinny  4000    delhi\n",
      "4  500  pinny  5000  kolkata\n",
      "7  800  kinny  3200   mumbai\n"
     ]
    }
   ],
   "source": [
    "import pandas as pd\n",
    "df = pd.read_csv('emp6.csv')\n",
    "print(df)\n",
    "print('-'*50)\n",
    "\n",
    "print(df[df['ESAL']>3000])"
   ]
  },
  {
   "cell_type": "raw",
   "id": "88e47ea1",
   "metadata": {},
   "source": [
    "Note:\n",
    "    similarly we can use >=,<,<= operator"
   ]
  },
  {
   "cell_type": "markdown",
   "id": "89bcc374",
   "metadata": {},
   "source": [
    "#### how to filter data from DataFrame based on multiple condition:"
   ]
  },
  {
   "cell_type": "raw",
   "id": "1ce2183d",
   "metadata": {},
   "source": [
    "we can use( & , | ) operator to combine multiple condition together."
   ]
  },
  {
   "cell_type": "raw",
   "id": "3be90697",
   "metadata": {},
   "source": [
    "Q. select all employee record whose city is Hyderabad and salary is less than 2100?"
   ]
  },
  {
   "cell_type": "code",
   "execution_count": 28,
   "id": "b648d695",
   "metadata": {},
   "outputs": [
    {
     "name": "stdout",
     "output_type": "stream",
     "text": [
      "   ENO   ENAME  ESAL      EADDR\n",
      "0  100   sunny  1000     mumbai\n",
      "1  200   bunny  2000  hyderabad\n",
      "2  300  chinny  3000     mumbai\n",
      "3  400   vinny  4000      delhi\n",
      "4  500   pinny  5000    kolkata\n",
      "5  600     Nan  1500  hyderabad\n",
      "6  700   zinny  2500  hyderabad\n",
      "7  800   kinny  3200     mumbai\n",
      "--------------------------------------------------\n",
      "   ENO  ENAME  ESAL      EADDR\n",
      "1  200  bunny  2000  hyderabad\n",
      "5  600    Nan  1500  hyderabad\n"
     ]
    }
   ],
   "source": [
    "import pandas as pd\n",
    "df = pd.read_csv('emp6.csv')\n",
    "print(df)\n",
    "print('-'*50)\n",
    "c1=df['EADDR']=='hyderabad'\n",
    "c2=df['ESAL']<2100\n",
    "print(df[c1&c2])"
   ]
  },
  {
   "cell_type": "raw",
   "id": "0a000146",
   "metadata": {},
   "source": [
    "Q. select all employee records where either salary is greater than 3500 or eaddr is not hyderabad?"
   ]
  },
  {
   "cell_type": "code",
   "execution_count": 29,
   "id": "8d55c2bb",
   "metadata": {},
   "outputs": [
    {
     "name": "stdout",
     "output_type": "stream",
     "text": [
      "   ENO   ENAME  ESAL      EADDR\n",
      "0  100   sunny  1000     mumbai\n",
      "1  200   bunny  2000  hyderabad\n",
      "2  300  chinny  3000     mumbai\n",
      "3  400   vinny  4000      delhi\n",
      "4  500   pinny  5000    kolkata\n",
      "5  600     Nan  1500  hyderabad\n",
      "6  700   zinny  2500  hyderabad\n",
      "7  800   kinny  3200     mumbai\n",
      "--------------------------------------------------\n",
      "   ENO   ENAME  ESAL    EADDR\n",
      "0  100   sunny  1000   mumbai\n",
      "2  300  chinny  3000   mumbai\n",
      "3  400   vinny  4000    delhi\n",
      "4  500   pinny  5000  kolkata\n",
      "7  800   kinny  3200   mumbai\n"
     ]
    }
   ],
   "source": [
    "import pandas as pd\n",
    "df = pd.read_csv('emp6.csv')\n",
    "print(df)\n",
    "print('-'*50)\n",
    "c1=df['EADDR']!='hyderabad'\n",
    "c2=df['ESAL']>3500\n",
    "print(df[c1|c2])"
   ]
  },
  {
   "cell_type": "raw",
   "id": "4b51e624",
   "metadata": {},
   "source": [
    "Q. select all employee records where employee should be hyderabad whose salary is >=2000 or mumbai based employee?\n"
   ]
  },
  {
   "cell_type": "code",
   "execution_count": 31,
   "id": "52707675",
   "metadata": {},
   "outputs": [
    {
     "name": "stdout",
     "output_type": "stream",
     "text": [
      "   ENO   ENAME  ESAL      EADDR\n",
      "0  100   sunny  1000     mumbai\n",
      "1  200   bunny  2000  hyderabad\n",
      "2  300  chinny  3000     mumbai\n",
      "3  400   vinny  4000      delhi\n",
      "4  500   pinny  5000    kolkata\n",
      "5  600     Nan  1500  hyderabad\n",
      "6  700   zinny  2500  hyderabad\n",
      "7  800   kinny  3200     mumbai\n",
      "--------------------------------------------------\n",
      "   ENO   ENAME  ESAL      EADDR\n",
      "0  100   sunny  1000     mumbai\n",
      "2  300  chinny  3000     mumbai\n",
      "6  700   zinny  2500  hyderabad\n",
      "7  800   kinny  3200     mumbai\n"
     ]
    }
   ],
   "source": [
    "import pandas as pd\n",
    "df = pd.read_csv('emp6.csv')\n",
    "print(df)\n",
    "print('-'*50)\n",
    "c1=df['EADDR']=='hyderabad'\n",
    "c2=df['ESAL']>=2500\n",
    "c3=df['EADDR']=='mumbai'\n",
    "print(df[(c1&c2)|c3])"
   ]
  },
  {
   "cell_type": "markdown",
   "id": "648e3034",
   "metadata": {},
   "source": [
    "#### How to check inclusion by  using isin() method\n"
   ]
  },
  {
   "cell_type": "raw",
   "id": "0071c424",
   "metadata": {},
   "source": [
    "Q. To select all employee who are belongs to hyderbad, mumbai, delhi?"
   ]
  },
  {
   "cell_type": "raw",
   "id": "428d548e",
   "metadata": {},
   "source": [
    "1. Without using isin() method"
   ]
  },
  {
   "cell_type": "code",
   "execution_count": 34,
   "id": "998dcc62",
   "metadata": {},
   "outputs": [
    {
     "name": "stdout",
     "output_type": "stream",
     "text": [
      "   ENO   ENAME  ESAL      EADDR\n",
      "0  100   sunny  1000     mumbai\n",
      "1  200   bunny  2000  hyderabad\n",
      "2  300  chinny  3000     mumbai\n",
      "3  400   vinny  4000      delhi\n",
      "4  500   pinny  5000    kolkata\n",
      "5  600     Nan  1500  hyderabad\n",
      "6  700   xinny  2500  hyderabad\n",
      "7  800   kinny  3200     mumbai\n",
      "8  900   zinny  5600    chennai\n",
      "--------------------------------------------------\n",
      "   ENO   ENAME  ESAL      EADDR\n",
      "0  100   sunny  1000     mumbai\n",
      "1  200   bunny  2000  hyderabad\n",
      "2  300  chinny  3000     mumbai\n",
      "3  400   vinny  4000      delhi\n",
      "5  600     Nan  1500  hyderabad\n",
      "6  700   xinny  2500  hyderabad\n",
      "7  800   kinny  3200     mumbai\n"
     ]
    }
   ],
   "source": [
    "import pandas as pd\n",
    "df=pd.read_csv('emp6.csv')\n",
    "print(df)\n",
    "print('-'*50)\n",
    "c1=df['EADDR']=='hyderabad'\n",
    "c2=df['EADDR']=='delhi'\n",
    "c3=df['EADDR']=='mumbai'\n",
    "print(df[c1|c2|c3])"
   ]
  },
  {
   "cell_type": "raw",
   "id": "3677df82",
   "metadata": {},
   "source": [
    "With isin() method"
   ]
  },
  {
   "cell_type": "code",
   "execution_count": 36,
   "id": "33d49e16",
   "metadata": {},
   "outputs": [
    {
     "name": "stdout",
     "output_type": "stream",
     "text": [
      "   ENO   ENAME  ESAL      EADDR\n",
      "0  100   sunny  1000     mumbai\n",
      "1  200   bunny  2000  hyderabad\n",
      "2  300  chinny  3000     mumbai\n",
      "3  400   vinny  4000      delhi\n",
      "4  500   pinny  5000    kolkata\n",
      "5  600     Nan  1500  hyderabad\n",
      "6  700   xinny  2500  hyderabad\n",
      "7  800   kinny  3200     mumbai\n",
      "8  900   zinny  5600    chennai\n",
      "--------------------------------------------------\n",
      "   ENO   ENAME  ESAL      EADDR\n",
      "0  100   sunny  1000     mumbai\n",
      "1  200   bunny  2000  hyderabad\n",
      "2  300  chinny  3000     mumbai\n",
      "3  400   vinny  4000      delhi\n",
      "5  600     Nan  1500  hyderabad\n",
      "6  700   xinny  2500  hyderabad\n",
      "7  800   kinny  3200     mumbai\n"
     ]
    }
   ],
   "source": [
    "import pandas as pd\n",
    "df=pd.read_csv('emp6.csv')\n",
    "print(df)\n",
    "print('-'*50)\n",
    "c1=df['EADDR'].isin(['hyderabad','mumbai','delhi'])\n",
    "print(df[c1])"
   ]
  },
  {
   "cell_type": "raw",
   "id": "009e2e01",
   "metadata": {},
   "source": [
    "How can we perform case sensitive comparison?\n",
    "- isin() method won't provide inbuilt support for this."
   ]
  },
  {
   "cell_type": "code",
   "execution_count": 38,
   "id": "be8ec530",
   "metadata": {},
   "outputs": [
    {
     "name": "stdout",
     "output_type": "stream",
     "text": [
      "    ENO   ENAME  ESAL      EADDR\n",
      "0   100   sunny  1000     mumbai\n",
      "1   200   bunny  2000  hyderabad\n",
      "2   300  chinny  3000     mumbai\n",
      "3   400   vinny  4000      delhi\n",
      "4   500   pinny  5000    kolkata\n",
      "5   600     Nan  1500  hyderabad\n",
      "6   700   xinny  2500  hyderabad\n",
      "7   800   kinny  3200     mumbai\n",
      "8   900   zinny  5600    chennai\n",
      "9  1000   mimmy  5680  hyDeraBad\n",
      "--------------------------------------------------\n",
      "    ENO   ENAME  ESAL      EADDR\n",
      "0   100   sunny  1000     mumbai\n",
      "1   200   bunny  2000  hyderabad\n",
      "2   300  chinny  3000     mumbai\n",
      "3   400   vinny  4000      delhi\n",
      "5   600     Nan  1500  hyderabad\n",
      "6   700   xinny  2500  hyderabad\n",
      "7   800   kinny  3200     mumbai\n",
      "9  1000   mimmy  5680  hyDeraBad\n"
     ]
    }
   ],
   "source": [
    "import pandas as pd\n",
    "df=pd.read_csv('emp6.csv')\n",
    "print(df)\n",
    "print('-'*50)\n",
    "c1=df['EADDR'].str.lower().isin(['hyderabad','mumbai','delhi'])\n",
    "print(df[c1])"
   ]
  },
  {
   "cell_type": "markdown",
   "id": "78ec1e17",
   "metadata": {},
   "source": [
    "#### Case Study"
   ]
  },
  {
   "cell_type": "raw",
   "id": "ae4df1c5",
   "metadata": {},
   "source": [
    "Assuming we have two dataframe :\n",
    "        1. employee with column : eno,ename,esal,ecity\n",
    "        2. city with high pollution rate: city, pollution rate"
   ]
  },
  {
   "cell_type": "raw",
   "id": "3176d568",
   "metadata": {},
   "source": [
    "To select all employee who are staying in cities where pollution is greater than 60?"
   ]
  },
  {
   "cell_type": "code",
   "execution_count": 44,
   "id": "91986959",
   "metadata": {},
   "outputs": [
    {
     "name": "stdout",
     "output_type": "stream",
     "text": [
      "    ENO   ENAME  ESAL     EADDR\n",
      "0   100   sunny  1000    Mumbai\n",
      "1   200   bunny  2000  Hyderbad\n",
      "2   300  chinny  3000    Mumbai\n",
      "3   400   vinny  4000     Delhi\n",
      "4   500   pinny  5000   Kolkata\n",
      "5   600     Nan  1500  Hyderbad\n",
      "6   700   xinny  2500  Hyderbad\n",
      "7   800   kinny  3200    Mumbai\n",
      "8   900   zinny  5600   Chennai\n",
      "9  1000   mimmy  5680  Hyderbad\n",
      "        city  pollution rate\n",
      "0      Delhi              95\n",
      "1  Hyderabad              50\n",
      "2     Mumbai              80\n",
      "3    Chennai              30\n",
      "4    Kolkata              50\n",
      "     city  pollution rate\n",
      "0   Delhi              95\n",
      "2  Mumbai              80\n",
      "   ENO   ENAME  ESAL   EADDR\n",
      "0  100   sunny  1000  Mumbai\n",
      "2  300  chinny  3000  Mumbai\n",
      "3  400   vinny  4000   Delhi\n",
      "7  800   kinny  3200  Mumbai\n"
     ]
    }
   ],
   "source": [
    "import pandas as pd\n",
    "cities=pd.read_csv('cities.csv')\n",
    "emp=pd.read_csv('emp6.csv')\n",
    "print(emp)\n",
    "print(cities)\n",
    "print(cities[cities['pollution rate']>60])\n",
    "polluted_city=cities[cities['pollution rate']>60]['city']\n",
    "print(emp[emp['EADDR'].isin(polluted_city)])"
   ]
  },
  {
   "cell_type": "markdown",
   "id": "fe2e1602",
   "metadata": {},
   "source": [
    "#### How to check for inclusion with range of value by using between() method:"
   ]
  },
  {
   "cell_type": "raw",
   "id": "418f16c1",
   "metadata": {},
   "source": [
    "To select all employee whose salary is in between >=2000 and <=5000.\n",
    "To select all employee whose salary is in range (2000,5000)"
   ]
  },
  {
   "cell_type": "raw",
   "id": "10c77769",
   "metadata": {},
   "source": [
    "Series.between(left, right, inclusive='both')\n",
    "\n",
    "Return boolean Series equivalent to left <= series <= right.\n",
    "\n",
    "This function returns a boolean vector containing True wherever the corresponding Series element is between the boundary values left and right. NA values are treated as False.\n",
    "\n",
    "inclusive{“both”, “neither”, “left”, “right”}\n",
    "Include boundaries. Whether to set each bound as closed or open."
   ]
  },
  {
   "cell_type": "code",
   "execution_count": 47,
   "id": "dff99394",
   "metadata": {},
   "outputs": [
    {
     "name": "stdout",
     "output_type": "stream",
     "text": [
      "    ENO   ENAME  ESAL     EADDR\n",
      "0   100   sunny  1000    Mumbai\n",
      "1   200   bunny  2000  Hyderbad\n",
      "2   300  chinny  3000    Mumbai\n",
      "3   400   vinny  4000     Delhi\n",
      "4   500   pinny  5000   Kolkata\n",
      "5   600     Nan  1500  Hyderbad\n",
      "6   700   xinny  2500  Hyderbad\n",
      "7   800   kinny  3200    Mumbai\n",
      "8   900   zinny  5600   Chennai\n",
      "9  1000   mimmy  5680  Hyderbad\n",
      "--------------------------------------------------\n",
      "   ENO   ENAME  ESAL     EADDR\n",
      "1  200   bunny  2000  Hyderbad\n",
      "2  300  chinny  3000    Mumbai\n",
      "3  400   vinny  4000     Delhi\n",
      "4  500   pinny  5000   Kolkata\n",
      "6  700   xinny  2500  Hyderbad\n",
      "7  800   kinny  3200    Mumbai\n"
     ]
    }
   ],
   "source": [
    "# without using the between() method\n",
    "import pandas as pd\n",
    "df=pd.read_csv('emp6.csv')\n",
    "print(df)\n",
    "print('-'*50)\n",
    "c1=df['ESAL']>=2000\n",
    "c2=df['ESAL']<=5000\n",
    "print(df[c1&c2])"
   ]
  },
  {
   "cell_type": "code",
   "execution_count": 50,
   "id": "52d87f59",
   "metadata": {},
   "outputs": [
    {
     "name": "stdout",
     "output_type": "stream",
     "text": [
      "    ENO   ENAME  ESAL     EADDR\n",
      "0   100   sunny  1000    Mumbai\n",
      "1   200   bunny  2000  Hyderbad\n",
      "2   300  chinny  3000    Mumbai\n",
      "3   400   vinny  4000     Delhi\n",
      "4   500   pinny  5000   Kolkata\n",
      "5   600     Nan  1500  Hyderbad\n",
      "6   700   xinny  2500  Hyderbad\n",
      "7   800   kinny  3200    Mumbai\n",
      "8   900   zinny  5600   Chennai\n",
      "9  1000   mimmy  5680  Hyderbad\n",
      "--------------------------------------------------\n",
      "   ENO   ENAME  ESAL     EADDR\n",
      "1  200   bunny  2000  Hyderbad\n",
      "2  300  chinny  3000    Mumbai\n",
      "3  400   vinny  4000     Delhi\n",
      "4  500   pinny  5000   Kolkata\n",
      "6  700   xinny  2500  Hyderbad\n",
      "7  800   kinny  3200    Mumbai\n"
     ]
    }
   ],
   "source": [
    "# with using the between() method\n",
    "import pandas as pd\n",
    "df=pd.read_csv('emp6.csv')\n",
    "print(df)\n",
    "print('-'*50)\n",
    "c=df['ESAL'].between(2000,5000)\n",
    "\n",
    "print(df[c])"
   ]
  },
  {
   "cell_type": "code",
   "execution_count": 51,
   "id": "be9c0f37",
   "metadata": {},
   "outputs": [
    {
     "name": "stdout",
     "output_type": "stream",
     "text": [
      "    ENO   ENAME  ESAL     EADDR\n",
      "0   100   sunny  1000    Mumbai\n",
      "1   200   bunny  2000  Hyderbad\n",
      "2   300  chinny  3000    Mumbai\n",
      "3   400   vinny  4000     Delhi\n",
      "4   500   pinny  5000   Kolkata\n",
      "5   600     Nan  1500  Hyderbad\n",
      "6   700   xinny  2500  Hyderbad\n",
      "7   800   kinny  3200    Mumbai\n",
      "8   900   zinny  5600   Chennai\n",
      "9  1000   mimmy  5680  Hyderbad\n",
      "--------------------------------------------------\n",
      "   ENO   ENAME  ESAL     EADDR\n",
      "2  300  chinny  3000    Mumbai\n",
      "3  400   vinny  4000     Delhi\n",
      "4  500   pinny  5000   Kolkata\n",
      "6  700   xinny  2500  Hyderbad\n",
      "7  800   kinny  3200    Mumbai\n"
     ]
    }
   ],
   "source": [
    "# with using the between() method\n",
    "import pandas as pd\n",
    "df=pd.read_csv('emp6.csv')\n",
    "print(df)\n",
    "print('-'*50)\n",
    "c=df['ESAL'].between(2000,5000,inclusive='right')\n",
    "\n",
    "print(df[c])"
   ]
  },
  {
   "cell_type": "code",
   "execution_count": 52,
   "id": "d97607ee",
   "metadata": {},
   "outputs": [
    {
     "name": "stdout",
     "output_type": "stream",
     "text": [
      "    ENO   ENAME  ESAL     EADDR\n",
      "0   100   sunny  1000    Mumbai\n",
      "1   200   bunny  2000  Hyderbad\n",
      "2   300  chinny  3000    Mumbai\n",
      "3   400   vinny  4000     Delhi\n",
      "4   500   pinny  5000   Kolkata\n",
      "5   600     Nan  1500  Hyderbad\n",
      "6   700   xinny  2500  Hyderbad\n",
      "7   800   kinny  3200    Mumbai\n",
      "8   900   zinny  5600   Chennai\n",
      "9  1000   mimmy  5680  Hyderbad\n",
      "--------------------------------------------------\n",
      "   ENO   ENAME  ESAL     EADDR\n",
      "1  200   bunny  2000  Hyderbad\n",
      "2  300  chinny  3000    Mumbai\n",
      "3  400   vinny  4000     Delhi\n",
      "6  700   xinny  2500  Hyderbad\n",
      "7  800   kinny  3200    Mumbai\n"
     ]
    }
   ],
   "source": [
    "# with using the between() method\n",
    "import pandas as pd\n",
    "df=pd.read_csv('emp6.csv')\n",
    "print(df)\n",
    "print('-'*50)\n",
    "c=df['ESAL'].between(2000,5000,inclusive='left')\n",
    "\n",
    "print(df[c])"
   ]
  },
  {
   "cell_type": "code",
   "execution_count": 54,
   "id": "3c69f9f5",
   "metadata": {},
   "outputs": [
    {
     "name": "stdout",
     "output_type": "stream",
     "text": [
      "    ENO   ENAME  ESAL     EADDR\n",
      "0   100   sunny  1000    Mumbai\n",
      "1   200   bunny  2000  Hyderbad\n",
      "2   300  chinny  3000    Mumbai\n",
      "3   400   vinny  4000     Delhi\n",
      "4   500   pinny  5000   Kolkata\n",
      "5   600     Nan  1500  Hyderbad\n",
      "6   700   xinny  2500  Hyderbad\n",
      "7   800   kinny  3200    Mumbai\n",
      "8   900   zinny  5600   Chennai\n",
      "9  1000   mimmy  5680  Hyderbad\n",
      "--------------------------------------------------\n",
      "   ENO   ENAME  ESAL     EADDR\n",
      "2  300  chinny  3000    Mumbai\n",
      "3  400   vinny  4000     Delhi\n",
      "6  700   xinny  2500  Hyderbad\n",
      "7  800   kinny  3200    Mumbai\n"
     ]
    }
   ],
   "source": [
    "# with using the between() method\n",
    "import pandas as pd\n",
    "df=pd.read_csv('emp6.csv')\n",
    "print(df)\n",
    "print('-'*50)\n",
    "c=df['ESAL'].between(2000,5000,inclusive='neither')\n",
    "\n",
    "print(df[c])"
   ]
  },
  {
   "cell_type": "code",
   "execution_count": 55,
   "id": "a25dfaae",
   "metadata": {},
   "outputs": [
    {
     "name": "stdout",
     "output_type": "stream",
     "text": [
      "    ENO   ENAME  ESAL     EADDR\n",
      "0   100   sunny  1000    Mumbai\n",
      "1   200   bunny  2000  Hyderbad\n",
      "2   300  chinny  3000    Mumbai\n",
      "3   400   vinny  4000     Delhi\n",
      "4   500   pinny  5000   Kolkata\n",
      "5   600     Nan  1500  Hyderbad\n",
      "6   700   xinny  2500  Hyderbad\n",
      "7   800   kinny  3200    Mumbai\n",
      "8   900   zinny  5600   Chennai\n",
      "9  1000   mimmy  5680  Hyderbad\n",
      "--------------------------------------------------\n",
      "   ENO   ENAME  ESAL     EADDR\n",
      "1  200   bunny  2000  Hyderbad\n",
      "2  300  chinny  3000    Mumbai\n",
      "3  400   vinny  4000     Delhi\n",
      "4  500   pinny  5000   Kolkata\n",
      "6  700   xinny  2500  Hyderbad\n",
      "7  800   kinny  3200    Mumbai\n"
     ]
    }
   ],
   "source": [
    "# with using the between() method\n",
    "import pandas as pd\n",
    "df=pd.read_csv('emp6.csv')\n",
    "print(df)\n",
    "print('-'*50)\n",
    "c=df['ESAL'].between(2000,5000,inclusive='both')\n",
    "\n",
    "print(df[c])"
   ]
  },
  {
   "cell_type": "markdown",
   "id": "ed19a08a",
   "metadata": {},
   "source": [
    "#### How to check missing and non-missing value by using isnull() and notnull() methods:"
   ]
  },
  {
   "cell_type": "raw",
   "id": "8ee8cd47",
   "metadata": {},
   "source": [
    "1. DataFrame.isnull()\n",
    "\n",
    "DataFrame.isnull is an alias for DataFrame.isna.\n",
    "Detect missing values"
   ]
  },
  {
   "cell_type": "raw",
   "id": "3a540805",
   "metadata": {},
   "source": [
    "2. DataFrame.notnull()\n",
    "\n",
    "DataFrame.notnull is an alias for DataFrame.notna.\n",
    "Detect existing (non-missing) values."
   ]
  },
  {
   "cell_type": "raw",
   "id": "54dbc770",
   "metadata": {},
   "source": [
    "eg.1 To select all employee where ENAME is missing?"
   ]
  },
  {
   "cell_type": "code",
   "execution_count": 6,
   "id": "c777acec",
   "metadata": {},
   "outputs": [
    {
     "name": "stdout",
     "output_type": "stream",
     "text": [
      "    ENO   ENAME  ESAL     EADDR\n",
      "0   100   sunny  1000    Mumbai\n",
      "1   200   bunny  2000  Hyderbad\n",
      "2   300  chinny  3000    Mumbai\n",
      "3   400   vinny  4000     Delhi\n",
      "4   500   pinny  5000   Kolkata\n",
      "5   600     NaN  1500  Hyderbad\n",
      "6   700   xinny  2500  Hyderbad\n",
      "7   800   kinny  3200    Mumbai\n",
      "8   900     NaN  5600   Chennai\n",
      "9  1000   mimmy  5680  Hyderbad\n",
      "--------------------------------------------------\n",
      "0    False\n",
      "1    False\n",
      "2    False\n",
      "3    False\n",
      "4    False\n",
      "5     True\n",
      "6    False\n",
      "7    False\n",
      "8     True\n",
      "9    False\n",
      "Name: ENAME, dtype: bool\n"
     ]
    }
   ],
   "source": [
    "import pandas as pd\n",
    "df=pd.read_csv('emp6.csv')\n",
    "print(df)\n",
    "print('-'*50)\n",
    "c=df['ENAME'].isnull()\n",
    "print(c) # giving the boolean series where NaN or missing value are there provided with the true "
   ]
  },
  {
   "cell_type": "code",
   "execution_count": 7,
   "id": "708027f0",
   "metadata": {},
   "outputs": [
    {
     "name": "stdout",
     "output_type": "stream",
     "text": [
      "    ENO   ENAME  ESAL     EADDR\n",
      "0   100   sunny  1000    Mumbai\n",
      "1   200   bunny  2000  Hyderbad\n",
      "2   300  chinny  3000    Mumbai\n",
      "3   400   vinny  4000     Delhi\n",
      "4   500   pinny  5000   Kolkata\n",
      "5   600     NaN  1500  Hyderbad\n",
      "6   700   xinny  2500  Hyderbad\n",
      "7   800   kinny  3200    Mumbai\n",
      "8   900   zinny  5600   Chennai\n",
      "9  1000   mimmy  5680  Hyderbad\n",
      "--------------------------------------------------\n",
      "   ENO ENAME  ESAL     EADDR\n",
      "5  600   NaN  1500  Hyderbad\n"
     ]
    }
   ],
   "source": [
    "import pandas as pd\n",
    "df=pd.read_csv('emp6.csv')\n",
    "print(df)\n",
    "print('-'*50)\n",
    "c=df['ENAME'].isnull()\n",
    "print(df[c]) # giving the boolean series where NaN or missing value are there provided with the true "
   ]
  },
  {
   "cell_type": "raw",
   "id": "8d1dadec",
   "metadata": {},
   "source": [
    "eg.2 To select all employee where ESAL is missing"
   ]
  },
  {
   "cell_type": "code",
   "execution_count": 8,
   "id": "d05477ff",
   "metadata": {},
   "outputs": [
    {
     "name": "stdout",
     "output_type": "stream",
     "text": [
      "    ENO   ENAME    ESAL     EADDR\n",
      "0   100   sunny  1000.0    Mumbai\n",
      "1   200   bunny  2000.0  Hyderbad\n",
      "2   300  chinny  3000.0    Mumbai\n",
      "3   400   vinny     NaN     Delhi\n",
      "4   500   pinny  5000.0   Kolkata\n",
      "5   600     NaN  1500.0  Hyderbad\n",
      "6   700   xinny     NaN  Hyderbad\n",
      "7   800   kinny  3200.0    Mumbai\n",
      "8   900   zinny  5600.0   Chennai\n",
      "9  1000   mimmy  5680.0  Hyderbad\n",
      "--------------------------------------------------\n",
      "   ENO  ENAME  ESAL     EADDR\n",
      "3  400  vinny   NaN     Delhi\n",
      "6  700  xinny   NaN  Hyderbad\n"
     ]
    }
   ],
   "source": [
    "import pandas as pd\n",
    "df=pd.read_csv('emp6.csv')\n",
    "print(df)\n",
    "print('-'*50)\n",
    "c=df['ESAL'].isnull() # ESAL for vinny and xinny is missing \n",
    "print(df[c])"
   ]
  },
  {
   "cell_type": "raw",
   "id": "541f09b9",
   "metadata": {},
   "source": [
    "eg.3 To select all employee where ENAME is not missing?"
   ]
  },
  {
   "cell_type": "code",
   "execution_count": 9,
   "id": "6c795351",
   "metadata": {},
   "outputs": [
    {
     "name": "stdout",
     "output_type": "stream",
     "text": [
      "    ENO   ENAME    ESAL     EADDR\n",
      "0   100   sunny  1000.0    Mumbai\n",
      "1   200   bunny  2000.0  Hyderbad\n",
      "2   300  chinny  3000.0    Mumbai\n",
      "3   400   vinny     NaN     Delhi\n",
      "4   500   pinny  5000.0   Kolkata\n",
      "5   600     NaN  1500.0  Hyderbad\n",
      "6   700   xinny     NaN  Hyderbad\n",
      "7   800   kinny  3200.0    Mumbai\n",
      "8   900   zinny  5600.0   Chennai\n",
      "9  1000   mimmy  5680.0  Hyderbad\n",
      "--------------------------------------------------\n",
      "    ENO   ENAME    ESAL     EADDR\n",
      "0   100   sunny  1000.0    Mumbai\n",
      "1   200   bunny  2000.0  Hyderbad\n",
      "2   300  chinny  3000.0    Mumbai\n",
      "4   500   pinny  5000.0   Kolkata\n",
      "5   600     NaN  1500.0  Hyderbad\n",
      "7   800   kinny  3200.0    Mumbai\n",
      "8   900   zinny  5600.0   Chennai\n",
      "9  1000   mimmy  5680.0  Hyderbad\n"
     ]
    }
   ],
   "source": [
    "import pandas as pd\n",
    "df=pd.read_csv('emp6.csv')\n",
    "print(df)\n",
    "print('-'*50)\n",
    "c=df['ESAL'].notnull() # ESAL for vinny and xinny is missing so this row is deleted\n",
    "print(df[c])"
   ]
  },
  {
   "cell_type": "code",
   "execution_count": 10,
   "id": "0fe2d275",
   "metadata": {},
   "outputs": [
    {
     "name": "stdout",
     "output_type": "stream",
     "text": [
      "    ENO   ENAME    ESAL     EADDR\n",
      "0   100   sunny  1000.0    Mumbai\n",
      "1   200   bunny  2000.0  Hyderbad\n",
      "2   300  chinny  3000.0    Mumbai\n",
      "3   400   vinny     NaN     Delhi\n",
      "4   500   pinny  5000.0   Kolkata\n",
      "5   600     NaN  1500.0  Hyderbad\n",
      "6   700   xinny     NaN  Hyderbad\n",
      "7   800   kinny  3200.0    Mumbai\n",
      "8   900   zinny  5600.0   Chennai\n",
      "9  1000   mimmy  5680.0  Hyderbad\n",
      "--------------------------------------------------\n",
      "    ENO   ENAME    ESAL     EADDR\n",
      "0   100   sunny  1000.0    Mumbai\n",
      "1   200   bunny  2000.0  Hyderbad\n",
      "2   300  chinny  3000.0    Mumbai\n",
      "3   400   vinny     NaN     Delhi\n",
      "4   500   pinny  5000.0   Kolkata\n",
      "6   700   xinny     NaN  Hyderbad\n",
      "7   800   kinny  3200.0    Mumbai\n",
      "8   900   zinny  5600.0   Chennai\n",
      "9  1000   mimmy  5680.0  Hyderbad\n"
     ]
    }
   ],
   "source": [
    "import pandas as pd\n",
    "df=pd.read_csv('emp6.csv')\n",
    "print(df)\n",
    "print('-'*50)\n",
    "c=df['ENAME'].notnull() # 5th row is eleminted\n",
    "print(df[c])"
   ]
  },
  {
   "cell_type": "raw",
   "id": "08df5f96",
   "metadata": {},
   "source": [
    "eg.4 To select all employee who are belongs to Hyderabad and mumbai where ename is missing but esal is available ?"
   ]
  },
  {
   "cell_type": "code",
   "execution_count": 17,
   "id": "d890515c",
   "metadata": {},
   "outputs": [
    {
     "name": "stdout",
     "output_type": "stream",
     "text": [
      "    ENO   ENAME  ESAL      EADDR\n",
      "0   100   sunny  1000     Mumbai\n",
      "1   200   bunny  2000  Hyderabad\n",
      "2   300  chinny  3000     Mumbai\n",
      "3   400   vinny  4000      Delhi\n",
      "4   500   pinny  5000    Kolkata\n",
      "5   600     NaN  1500  Hyderabad\n",
      "6   700   kinny  4500  Hyderabad\n",
      "7   800     NaN  3200     Mumbai\n",
      "8   900   zinny  5600    Chennai\n",
      "9  1000   mimmy  5680  Hyderabad\n",
      "--------------------------------------------------\n",
      "   ENO ENAME  ESAL      EADDR\n",
      "5  600   NaN  1500  Hyderabad\n",
      "7  800   NaN  3200     Mumbai\n"
     ]
    }
   ],
   "source": [
    "import pandas as pd\n",
    "df=pd.read_csv('emp6.csv')\n",
    "print(df)\n",
    "print('-'*50)\n",
    "c1=df['EADDR'].isin(['Hyderabad','Mumbai'])\n",
    "c2=df['ENAME'].isnull()\n",
    "c3=df['ESAL'].notnull()\n",
    "\n",
    "print(df[c1&c2&c3])"
   ]
  },
  {
   "cell_type": "markdown",
   "id": "484315b9",
   "metadata": {},
   "source": [
    "#### Extracting Values fro the DataFrame "
   ]
  },
  {
   "cell_type": "raw",
   "id": "f654f691",
   "metadata": {},
   "source": [
    "1. How to set our column as index:\n",
    "     By default numerical index(in ascending order) will be generated. But we can cotomize\n",
    "     1. way:\n",
    "            By using index_col parameter inside read_csv() method.\n",
    "     2. way:\n",
    "           By using set_index() method\n",
    "           df.set_index(key='ENAME',inplace=True)\n",
    "     \n"
   ]
  },
  {
   "cell_type": "code",
   "execution_count": 1,
   "id": "1e0936c0",
   "metadata": {},
   "outputs": [
    {
     "name": "stdout",
     "output_type": "stream",
     "text": [
      "    ENO   ENAME  ESAL      EADDR\n",
      "0   100   sunny  1000     Mumbai\n",
      "1   200   bunny  2000  Hyderabad\n",
      "2   300  chinny  3000     Mumbai\n",
      "3   400   vinny  4000      Delhi\n",
      "4   500   pinny  5000    Kolkata\n",
      "5   600     NaN  1500  Hyderabad\n",
      "6   700   kinny  4500  Hyderabad\n",
      "7   800     NaN  3200     Mumbai\n",
      "8   900   zinny  5600    Chennai\n",
      "9  1000   mimmy  5680  Hyderabad\n",
      "--------------------------------------------------\n",
      "         ENO  ESAL      EADDR\n",
      "ENAME                        \n",
      "sunny    100  1000     Mumbai\n",
      "bunny    200  2000  Hyderabad\n",
      "chinny   300  3000     Mumbai\n",
      "vinny    400  4000      Delhi\n",
      "pinny    500  5000    Kolkata\n",
      "NaN      600  1500  Hyderabad\n",
      "kinny    700  4500  Hyderabad\n",
      "NaN      800  3200     Mumbai\n",
      "zinny    900  5600    Chennai\n",
      "mimmy   1000  5680  Hyderabad\n"
     ]
    }
   ],
   "source": [
    "import pandas as pd \n",
    "df=pd.read_csv('emp6.csv')\n",
    "print(df)# Default Numerical Index\n",
    "print('-'*50)\n",
    "df1=pd.read_csv('emp6.csv',index_col='ENAME')\n",
    "print(df1)"
   ]
  },
  {
   "cell_type": "code",
   "execution_count": 3,
   "id": "36338f5e",
   "metadata": {},
   "outputs": [
    {
     "name": "stdout",
     "output_type": "stream",
     "text": [
      "    ENO   ENAME  ESAL      EADDR\n",
      "0   100   sunny  1000     Mumbai\n",
      "1   200   bunny  2000  Hyderabad\n",
      "2   300  chinny  3000     Mumbai\n",
      "3   400   vinny  4000      Delhi\n",
      "4   500   pinny  5000    Kolkata\n",
      "5   600     NaN  1500  Hyderabad\n",
      "6   700   kinny  4500  Hyderabad\n",
      "7   800     NaN  3200     Mumbai\n",
      "8   900   zinny  5600    Chennai\n",
      "9  1000   mimmy  5680  Hyderabad\n",
      "--------------------------------------------------\n",
      "         ENO  ESAL      EADDR\n",
      "ENAME                        \n",
      "sunny    100  1000     Mumbai\n",
      "bunny    200  2000  Hyderabad\n",
      "chinny   300  3000     Mumbai\n",
      "vinny    400  4000      Delhi\n",
      "pinny    500  5000    Kolkata\n",
      "NaN      600  1500  Hyderabad\n",
      "kinny    700  4500  Hyderabad\n",
      "NaN      800  3200     Mumbai\n",
      "zinny    900  5600    Chennai\n",
      "mimmy   1000  5680  Hyderabad\n",
      "         ENO  ESAL      EADDR\n",
      "ENAME                        \n",
      "sunny    100  1000     Mumbai\n",
      "bunny    200  2000  Hyderabad\n",
      "chinny   300  3000     Mumbai\n",
      "vinny    400  4000      Delhi\n",
      "pinny    500  5000    Kolkata\n",
      "NaN      600  1500  Hyderabad\n",
      "kinny    700  4500  Hyderabad\n",
      "NaN      800  3200     Mumbai\n",
      "zinny    900  5600    Chennai\n",
      "mimmy   1000  5680  Hyderabad\n"
     ]
    }
   ],
   "source": [
    "import pandas as pd \n",
    "df=pd.read_csv('emp6.csv')\n",
    "print(df)# Default Numerical Index\n",
    "print('-'*50)\n",
    "df1=pd.read_csv('emp6.csv',index_col='ENAME')\n",
    "print(df1)\n",
    "df2=pd.read_csv('emp6.csv')\n",
    "df2.set_index(keys='ENAME',inplace=True)\n",
    "print(df2)"
   ]
  },
  {
   "cell_type": "markdown",
   "id": "32d326d6",
   "metadata": {},
   "source": [
    "#### How to reset index from custom index to default numerical index:\n"
   ]
  },
  {
   "cell_type": "raw",
   "id": "ebb854b3",
   "metadata": {},
   "source": [
    "DataFrame.reset_index(level=None, *, drop=False, inplace=False, col_level=0, col_fill='', allow_duplicates=_NoDefault.no_default, names=None)\n",
    "\n",
    "Reset the index, or a level of it.\n",
    "Reset the index of the DataFrame, and use the default one instead. If the DataFrame has a MultiIndex, this method can remove one or more levels.\n"
   ]
  },
  {
   "cell_type": "code",
   "execution_count": 6,
   "id": "fd6eff83",
   "metadata": {},
   "outputs": [
    {
     "name": "stdout",
     "output_type": "stream",
     "text": [
      "         ENO  ESAL      EADDR\n",
      "ENAME                        \n",
      "sunny    100  1000     Mumbai\n",
      "bunny    200  2000  Hyderabad\n",
      "chinny   300  3000     Mumbai\n",
      "vinny    400  4000      Delhi\n",
      "pinny    500  5000    Kolkata\n",
      "NaN      600  1500  Hyderabad\n",
      "kinny    700  4500  Hyderabad\n",
      "NaN      800  3200     Mumbai\n",
      "zinny    900  5600    Chennai\n",
      "mimmy   1000  5680  Hyderabad\n",
      "    ENAME   ENO  ESAL      EADDR\n",
      "0   sunny   100  1000     Mumbai\n",
      "1   bunny   200  2000  Hyderabad\n",
      "2  chinny   300  3000     Mumbai\n",
      "3   vinny   400  4000      Delhi\n",
      "4   pinny   500  5000    Kolkata\n",
      "5     NaN   600  1500  Hyderabad\n",
      "6   kinny   700  4500  Hyderabad\n",
      "7     NaN   800  3200     Mumbai\n",
      "8   zinny   900  5600    Chennai\n",
      "9   mimmy  1000  5680  Hyderabad\n"
     ]
    }
   ],
   "source": [
    "import pandas as pd \n",
    "df=pd.read_csv('emp6.csv',index_col='ENAME')\n",
    "print(df)\n",
    "df.reset_index(inplace=True)\n",
    "print(df)"
   ]
  },
  {
   "cell_type": "code",
   "execution_count": 7,
   "id": "9f8a91d9",
   "metadata": {},
   "outputs": [
    {
     "name": "stdout",
     "output_type": "stream",
     "text": [
      "         ENO  ESAL      EADDR\n",
      "ENAME                        \n",
      "sunny    100  1000     Mumbai\n",
      "bunny    200  2000  Hyderabad\n",
      "chinny   300  3000     Mumbai\n",
      "vinny    400  4000      Delhi\n",
      "pinny    500  5000    Kolkata\n",
      "NaN      600  1500  Hyderabad\n",
      "kinny    700  4500  Hyderabad\n",
      "NaN      800  3200     Mumbai\n",
      "zinny    900  5600    Chennai\n",
      "mimmy   1000  5680  Hyderabad\n",
      "    ENO  ESAL      EADDR\n",
      "0   100  1000     Mumbai\n",
      "1   200  2000  Hyderabad\n",
      "2   300  3000     Mumbai\n",
      "3   400  4000      Delhi\n",
      "4   500  5000    Kolkata\n",
      "5   600  1500  Hyderabad\n",
      "6   700  4500  Hyderabad\n",
      "7   800  3200     Mumbai\n",
      "8   900  5600    Chennai\n",
      "9  1000  5680  Hyderabad\n"
     ]
    }
   ],
   "source": [
    "import pandas as pd \n",
    "df=pd.read_csv('emp6.csv',index_col='ENAME')\n",
    "print(df)\n",
    "df.reset_index(drop=True, inplace=True) # Data loss and not recomended \n",
    "print(df)"
   ]
  },
  {
   "cell_type": "markdown",
   "id": "48e33d1b",
   "metadata": {},
   "source": [
    "#### How to select rows in index label with loc[] indexer:\n",
    "     1.  df.loc[index_label]\n",
    "     2.  df.loc[begin_index_label:end_index_label:step] -- slice operator\n",
    "     3.  df.loc[[index_label1,index_label2...]]"
   ]
  },
  {
   "cell_type": "code",
   "execution_count": 9,
   "id": "73cf6f48",
   "metadata": {},
   "outputs": [
    {
     "name": "stdout",
     "output_type": "stream",
     "text": [
      "         ENO  ESAL      EADDR\n",
      "ENAME                        \n",
      "bunny    200  2000  Hyderabad\n",
      "chinny   300  3000     Mumbai\n",
      "kinny    700  4500  Hyderabad\n",
      "mimmy   1000  5680  Hyderabad\n",
      "pinny    500  5000    Kolkata\n",
      "sunny    100  1000     Mumbai\n",
      "vinny    400  4000      Delhi\n",
      "zinny    900  5600    Chennai\n",
      "NaN      600  1500  Hyderabad\n",
      "NaN      800  3200     Mumbai\n",
      "--------------------------------------------------\n",
      "ENO            200\n",
      "ESAL          2000\n",
      "EADDR    Hyderabad\n",
      "Name: bunny, dtype: object\n"
     ]
    }
   ],
   "source": [
    "import pandas as pd \n",
    "df=pd.read_csv('emp6.csv',index_col='ENAME')\n",
    "df.sort_index(inplace=True)\n",
    "print(df)\n",
    "print('-'*50)\n",
    "print(df.loc['bunny']) # return in the form of series for single intity"
   ]
  },
  {
   "cell_type": "code",
   "execution_count": 10,
   "id": "db8a260f",
   "metadata": {},
   "outputs": [
    {
     "name": "stdout",
     "output_type": "stream",
     "text": [
      "         ENO  ESAL      EADDR\n",
      "ENAME                        \n",
      "bunny    200  2000  Hyderabad\n",
      "chinny   300  3000     Mumbai\n",
      "kinny    700  4500  Hyderabad\n",
      "mimmy   1000  5680  Hyderabad\n",
      "pinny    500  5000    Kolkata\n",
      "sunny    100  1000     Mumbai\n",
      "vinny    400  4000      Delhi\n",
      "zinny    900  5600    Chennai\n",
      "NaN      600  1500  Hyderabad\n",
      "NaN      800  3200     Mumbai\n",
      "--------------------------------------------------\n",
      "ENO         100\n",
      "ESAL       1000\n",
      "EADDR    Mumbai\n",
      "Name: sunny, dtype: object\n"
     ]
    }
   ],
   "source": [
    "import pandas as pd \n",
    "df=pd.read_csv('emp6.csv',index_col='ENAME')\n",
    "df.sort_index(inplace=True)\n",
    "print(df)\n",
    "print('-'*50)\n",
    "print(df.loc['sunny'])"
   ]
  },
  {
   "cell_type": "code",
   "execution_count": 17,
   "id": "5d0f71be",
   "metadata": {},
   "outputs": [
    {
     "name": "stdout",
     "output_type": "stream",
     "text": [
      "         ENO  ESAL      EADDR\n",
      "ENAME                        \n",
      "bunny    200  2000  Hyderabad\n",
      "chinny   300  3000     Mumbai\n",
      "kinny    700  4500  Hyderabad\n",
      "mimmy   1000  5680  Hyderabad\n",
      "pinny    500  5000    Kolkata\n",
      "sunny    100  1000     Mumbai\n",
      "sunny   1100  1800     Mumbai\n",
      "sunny   1200  2500     Mumbai\n",
      "vinny    400  4000      Delhi\n",
      "zinny    900  5600    Chennai\n",
      "NaN      600  1500  Hyderabad\n",
      "NaN      800  3200     Mumbai\n",
      "--------------------------------------------------\n",
      "         ENO  ESAL      EADDR\n",
      "ENAME                        \n",
      "chinny   300  3000     Mumbai\n",
      "kinny    700  4500  Hyderabad\n",
      "mimmy   1000  5680  Hyderabad\n",
      "pinny    500  5000    Kolkata\n",
      "sunny    100  1000     Mumbai\n",
      "sunny   1100  1800     Mumbai\n",
      "sunny   1200  2500     Mumbai\n"
     ]
    }
   ],
   "source": [
    "import pandas as pd \n",
    "df=pd.read_csv('emp7.csv',index_col='ENAME')\n",
    "df.sort_index(inplace=True)\n",
    "print(df)\n",
    "print('-'*50)\n",
    "print(df.loc['chinny':'sunny'])"
   ]
  },
  {
   "cell_type": "code",
   "execution_count": 19,
   "id": "37ed4ac3",
   "metadata": {},
   "outputs": [
    {
     "name": "stdout",
     "output_type": "stream",
     "text": [
      "         ENO  ESAL      EADDR\n",
      "ENAME                        \n",
      "bunny    200  2000  Hyderabad\n",
      "chinny   300  3000     Mumbai\n",
      "kinny    700  4500  Hyderabad\n",
      "mimmy   1000  5680  Hyderabad\n",
      "pinny    500  5000    Kolkata\n",
      "sunny    100  1000     Mumbai\n",
      "sunny   1100  1800     Mumbai\n",
      "sunny   1200  2500     Mumbai\n",
      "vinny    400  4000      Delhi\n",
      "zinny    900  5600    Chennai\n",
      "NaN      600  1500  Hyderabad\n",
      "NaN      800  3200     Mumbai\n",
      "--------------------------------------------------\n",
      "         ENO  ESAL      EADDR\n",
      "ENAME                        \n",
      "bunny    200  2000  Hyderabad\n",
      "chinny   300  3000     Mumbai\n",
      "kinny    700  4500  Hyderabad\n",
      "mimmy   1000  5680  Hyderabad\n",
      "pinny    500  5000    Kolkata\n",
      "sunny    100  1000     Mumbai\n",
      "sunny   1100  1800     Mumbai\n",
      "sunny   1200  2500     Mumbai\n",
      "vinny    400  4000      Delhi\n",
      "zinny    900  5600    Chennai\n"
     ]
    }
   ],
   "source": [
    "import pandas as pd \n",
    "df=pd.read_csv('emp7.csv',index_col='ENAME')\n",
    "df.sort_index(inplace=True)\n",
    "print(df)\n",
    "print('-'*50)\n",
    "print(df.loc[:'zinny'])"
   ]
  },
  {
   "cell_type": "code",
   "execution_count": 21,
   "id": "95332961",
   "metadata": {},
   "outputs": [
    {
     "name": "stdout",
     "output_type": "stream",
     "text": [
      "         ENO  ESAL      EADDR\n",
      "ENAME                        \n",
      "bunny    200  2000  Hyderabad\n",
      "chinny   300  3000     Mumbai\n",
      "kinny    700  4500  Hyderabad\n",
      "mimmy   1000  5680  Hyderabad\n",
      "pinny    500  5000    Kolkata\n",
      "sunny    100  1000     Mumbai\n",
      "sunny   1100  1800     Mumbai\n",
      "sunny   1200  2500     Mumbai\n",
      "vinny    400  4000      Delhi\n",
      "zinny    900  5600    Chennai\n",
      "NaN      600  1500  Hyderabad\n",
      "NaN      800  3200     Mumbai\n",
      "--------------------------------------------------\n",
      "        ENO  ESAL      EADDR\n",
      "ENAME                       \n",
      "zinny   900  5600    Chennai\n",
      "bunny   200  2000  Hyderabad\n",
      "sunny   100  1000     Mumbai\n",
      "sunny  1100  1800     Mumbai\n",
      "sunny  1200  2500     Mumbai\n"
     ]
    }
   ],
   "source": [
    "import pandas as pd \n",
    "df=pd.read_csv('emp7.csv',index_col='ENAME')\n",
    "df.sort_index(inplace=True)\n",
    "print(df)\n",
    "print('-'*50)\n",
    "print(df.loc[['zinny','bunny','sunny']])"
   ]
  },
  {
   "cell_type": "markdown",
   "id": "a185e42d",
   "metadata": {},
   "source": [
    "#### How to access rows of data frame by using index position:\n",
    "     1. df.iloc[index_position]\n",
    "     2. df.iloc[begin_index_position:end_index_position:step]\n",
    "     3. df.iloc[[index_position1,index_position2....]]"
   ]
  },
  {
   "cell_type": "code",
   "execution_count": 23,
   "id": "1e081553",
   "metadata": {},
   "outputs": [
    {
     "name": "stdout",
     "output_type": "stream",
     "text": [
      "         ENO  ESAL      EADDR\n",
      "ENAME                        \n",
      "bunny    200  2000  Hyderabad\n",
      "chinny   300  3000     Mumbai\n",
      "kinny    700  4500  Hyderabad\n",
      "mimmy   1000  5680  Hyderabad\n",
      "pinny    500  5000    Kolkata\n",
      "sunny    100  1000     Mumbai\n",
      "sunny   1100  1800     Mumbai\n",
      "sunny   1200  2500     Mumbai\n",
      "vinny    400  4000      Delhi\n",
      "zinny    900  5600    Chennai\n",
      "NaN      600  1500  Hyderabad\n",
      "NaN      800  3200     Mumbai\n",
      "--------------------------------------------------\n",
      "ENO            200\n",
      "ESAL          2000\n",
      "EADDR    Hyderabad\n",
      "Name: bunny, dtype: object\n"
     ]
    }
   ],
   "source": [
    "import pandas as pd \n",
    "df=pd.read_csv('emp7.csv',index_col='ENAME')\n",
    "df.sort_index(inplace=True)\n",
    "print(df)\n",
    "print('-'*50)\n",
    "print(df.iloc[0])"
   ]
  },
  {
   "cell_type": "code",
   "execution_count": 24,
   "id": "5b2c6e52",
   "metadata": {},
   "outputs": [
    {
     "name": "stdout",
     "output_type": "stream",
     "text": [
      "         ENO  ESAL      EADDR\n",
      "ENAME                        \n",
      "bunny    200  2000  Hyderabad\n",
      "chinny   300  3000     Mumbai\n",
      "kinny    700  4500  Hyderabad\n",
      "mimmy   1000  5680  Hyderabad\n",
      "pinny    500  5000    Kolkata\n",
      "sunny    100  1000     Mumbai\n",
      "sunny   1100  1800     Mumbai\n",
      "sunny   1200  2500     Mumbai\n",
      "vinny    400  4000      Delhi\n",
      "zinny    900  5600    Chennai\n",
      "NaN      600  1500  Hyderabad\n",
      "NaN      800  3200     Mumbai\n",
      "--------------------------------------------------\n",
      "        ENO  ESAL      EADDR\n",
      "ENAME                       \n",
      "bunny   200  2000  Hyderabad\n",
      "chinny  300  3000     Mumbai\n"
     ]
    }
   ],
   "source": [
    "import pandas as pd \n",
    "df=pd.read_csv('emp7.csv',index_col='ENAME')\n",
    "df.sort_index(inplace=True)\n",
    "print(df)\n",
    "print('-'*50)\n",
    "print(df.iloc[0:2])"
   ]
  },
  {
   "cell_type": "code",
   "execution_count": 25,
   "id": "00dd4845",
   "metadata": {},
   "outputs": [
    {
     "name": "stdout",
     "output_type": "stream",
     "text": [
      "         ENO  ESAL      EADDR\n",
      "ENAME                        \n",
      "bunny    200  2000  Hyderabad\n",
      "chinny   300  3000     Mumbai\n",
      "kinny    700  4500  Hyderabad\n",
      "mimmy   1000  5680  Hyderabad\n",
      "pinny    500  5000    Kolkata\n",
      "sunny    100  1000     Mumbai\n",
      "sunny   1100  1800     Mumbai\n",
      "sunny   1200  2500     Mumbai\n",
      "vinny    400  4000      Delhi\n",
      "zinny    900  5600    Chennai\n",
      "NaN      600  1500  Hyderabad\n",
      "NaN      800  3200     Mumbai\n",
      "--------------------------------------------------\n",
      "        ENO  ESAL      EADDR\n",
      "ENAME                       \n",
      "bunny   200  2000  Hyderabad\n",
      "kinny   700  4500  Hyderabad\n",
      "pinny   500  5000    Kolkata\n",
      "sunny  1100  1800     Mumbai\n"
     ]
    }
   ],
   "source": [
    "import pandas as pd \n",
    "df=pd.read_csv('emp7.csv',index_col='ENAME')\n",
    "df.sort_index(inplace=True)\n",
    "print(df)\n",
    "print('-'*50)\n",
    "print(df.iloc[[0,2,4,6]])"
   ]
  },
  {
   "cell_type": "markdown",
   "id": "78ce68ff",
   "metadata": {},
   "source": [
    "#### How to get value of the required cells :\n",
    "   1. df.loc[index_lable,column_name]\n",
    "   2. df.iloc[index_position,column_name]\n"
   ]
  },
  {
   "cell_type": "code",
   "execution_count": 27,
   "id": "97ea41a8",
   "metadata": {},
   "outputs": [
    {
     "name": "stdout",
     "output_type": "stream",
     "text": [
      "         ENO  ESAL      EADDR\n",
      "ENAME                        \n",
      "bunny    200  2000  Hyderabad\n",
      "chinny   300  3000     Mumbai\n",
      "kinny    700  4500  Hyderabad\n",
      "mimmy   1000  5680  Hyderabad\n",
      "pinny    500  5000    Kolkata\n",
      "sunny    100  1000     Mumbai\n",
      "sunny   1100  1800     Mumbai\n",
      "sunny   1200  2500     Mumbai\n",
      "vinny    400  4000      Delhi\n",
      "zinny    900  5600    Chennai\n",
      "NaN      600  1500  Hyderabad\n",
      "NaN      800  3200     Mumbai\n",
      "--------------------------------------------------\n",
      "5000\n"
     ]
    }
   ],
   "source": [
    "import pandas as pd \n",
    "df=pd.read_csv('emp7.csv',index_col='ENAME')\n",
    "df.sort_index(inplace=True)\n",
    "print(df)\n",
    "print('-'*50)\n",
    "print(df.loc['pinny','ESAL'])"
   ]
  },
  {
   "cell_type": "code",
   "execution_count": 28,
   "id": "e74f727d",
   "metadata": {},
   "outputs": [
    {
     "name": "stdout",
     "output_type": "stream",
     "text": [
      "         ENO  ESAL      EADDR\n",
      "ENAME                        \n",
      "bunny    200  2000  Hyderabad\n",
      "chinny   300  3000     Mumbai\n",
      "kinny    700  4500  Hyderabad\n",
      "mimmy   1000  5680  Hyderabad\n",
      "pinny    500  5000    Kolkata\n",
      "sunny    100  1000     Mumbai\n",
      "sunny   1100  1800     Mumbai\n",
      "sunny   1200  2500     Mumbai\n",
      "vinny    400  4000      Delhi\n",
      "zinny    900  5600    Chennai\n",
      "NaN      600  1500  Hyderabad\n",
      "NaN      800  3200     Mumbai\n",
      "--------------------------------------------------\n"
     ]
    },
    {
     "data": {
      "text/html": [
       "<div>\n",
       "<style scoped>\n",
       "    .dataframe tbody tr th:only-of-type {\n",
       "        vertical-align: middle;\n",
       "    }\n",
       "\n",
       "    .dataframe tbody tr th {\n",
       "        vertical-align: top;\n",
       "    }\n",
       "\n",
       "    .dataframe thead th {\n",
       "        text-align: right;\n",
       "    }\n",
       "</style>\n",
       "<table border=\"1\" class=\"dataframe\">\n",
       "  <thead>\n",
       "    <tr style=\"text-align: right;\">\n",
       "      <th></th>\n",
       "      <th>ESAL</th>\n",
       "      <th>EADDR</th>\n",
       "    </tr>\n",
       "    <tr>\n",
       "      <th>ENAME</th>\n",
       "      <th></th>\n",
       "      <th></th>\n",
       "    </tr>\n",
       "  </thead>\n",
       "  <tbody>\n",
       "    <tr>\n",
       "      <th>bunny</th>\n",
       "      <td>2000</td>\n",
       "      <td>Hyderabad</td>\n",
       "    </tr>\n",
       "    <tr>\n",
       "      <th>vinny</th>\n",
       "      <td>4000</td>\n",
       "      <td>Delhi</td>\n",
       "    </tr>\n",
       "  </tbody>\n",
       "</table>\n",
       "</div>"
      ],
      "text/plain": [
       "       ESAL      EADDR\n",
       "ENAME                 \n",
       "bunny  2000  Hyderabad\n",
       "vinny  4000      Delhi"
      ]
     },
     "execution_count": 28,
     "metadata": {},
     "output_type": "execute_result"
    }
   ],
   "source": [
    "import pandas as pd \n",
    "df=pd.read_csv('emp7.csv',index_col='ENAME')\n",
    "df.sort_index(inplace=True)\n",
    "print(df)\n",
    "print('-'*50)\n",
    "df.loc[['bunny','vinny'],['ESAL','EADDR']]"
   ]
  },
  {
   "cell_type": "code",
   "execution_count": 29,
   "id": "f3764f75",
   "metadata": {},
   "outputs": [
    {
     "name": "stdout",
     "output_type": "stream",
     "text": [
      "         ENO  ESAL      EADDR\n",
      "ENAME                        \n",
      "bunny    200  2000  Hyderabad\n",
      "chinny   300  3000     Mumbai\n",
      "kinny    700  4500  Hyderabad\n",
      "mimmy   1000  5680  Hyderabad\n",
      "pinny    500  5000    Kolkata\n",
      "sunny    100  1000     Mumbai\n",
      "sunny   1100  1800     Mumbai\n",
      "sunny   1200  2500     Mumbai\n",
      "vinny    400  4000      Delhi\n",
      "zinny    900  5600    Chennai\n",
      "NaN      600  1500  Hyderabad\n",
      "NaN      800  3200     Mumbai\n",
      "--------------------------------------------------\n",
      "200\n"
     ]
    }
   ],
   "source": [
    "import pandas as pd \n",
    "df=pd.read_csv('emp7.csv',index_col='ENAME')\n",
    "df.sort_index(inplace=True)\n",
    "print(df)\n",
    "print('-'*50)\n",
    "print(df.iloc[0,0])"
   ]
  },
  {
   "cell_type": "code",
   "execution_count": 30,
   "id": "2597cde8",
   "metadata": {},
   "outputs": [
    {
     "name": "stdout",
     "output_type": "stream",
     "text": [
      "         ENO  ESAL      EADDR\n",
      "ENAME                        \n",
      "bunny    200  2000  Hyderabad\n",
      "chinny   300  3000     Mumbai\n",
      "kinny    700  4500  Hyderabad\n",
      "mimmy   1000  5680  Hyderabad\n",
      "pinny    500  5000    Kolkata\n",
      "sunny    100  1000     Mumbai\n",
      "sunny   1100  1800     Mumbai\n",
      "sunny   1200  2500     Mumbai\n",
      "vinny    400  4000      Delhi\n",
      "zinny    900  5600    Chennai\n",
      "NaN      600  1500  Hyderabad\n",
      "NaN      800  3200     Mumbai\n",
      "--------------------------------------------------\n",
      "       ESAL      EADDR\n",
      "ENAME                 \n",
      "bunny  2000  Hyderabad\n",
      "mimmy  5680  Hyderabad\n"
     ]
    }
   ],
   "source": [
    "import pandas as pd \n",
    "df=pd.read_csv('emp7.csv',index_col='ENAME')\n",
    "df.sort_index(inplace=True)\n",
    "print(df)\n",
    "print('-'*50)\n",
    "print(df.iloc[[0,3],[1,2]])"
   ]
  },
  {
   "cell_type": "code",
   "execution_count": 31,
   "id": "a02714d9",
   "metadata": {},
   "outputs": [
    {
     "name": "stdout",
     "output_type": "stream",
     "text": [
      "         ENO  ESAL      EADDR\n",
      "ENAME                        \n",
      "bunny    200  2000  Hyderabad\n",
      "chinny   300  3000     Mumbai\n",
      "kinny    700  4500  Hyderabad\n",
      "mimmy   1000  5680  Hyderabad\n",
      "pinny    500  5000    Kolkata\n",
      "sunny    100  1000     Mumbai\n",
      "sunny   1100  1800     Mumbai\n",
      "sunny   1200  2500     Mumbai\n",
      "vinny    400  4000      Delhi\n",
      "zinny    900  5600    Chennai\n",
      "NaN      600  1500  Hyderabad\n",
      "NaN      800  3200     Mumbai\n",
      "--------------------------------------------------\n",
      "        ENO  ESAL\n",
      "ENAME            \n",
      "mimmy  1000  5680\n",
      "pinny   500  5000\n",
      "sunny   100  1000\n",
      "sunny  1100  1800\n",
      "sunny  1200  2500\n",
      "vinny   400  4000\n",
      "zinny   900  5600\n",
      "NaN     600  1500\n",
      "NaN     800  3200\n"
     ]
    }
   ],
   "source": [
    "import pandas as pd \n",
    "df=pd.read_csv('emp7.csv',index_col='ENAME')\n",
    "df.sort_index(inplace=True)\n",
    "print(df)\n",
    "print('-'*50)\n",
    "print(df.iloc[3:,:2])"
   ]
  },
  {
   "cell_type": "markdown",
   "id": "6bfc3b80",
   "metadata": {},
   "source": [
    "#### How to set new values for the specific cells:\n",
    "     1. df.loc[index_lable,clolumn_name]=new_value/list of new_values\n",
    "     2. df.iloc[index_position,column_name]=new_value/list of new_values"
   ]
  },
  {
   "cell_type": "code",
   "execution_count": 34,
   "id": "e2ca2487",
   "metadata": {},
   "outputs": [
    {
     "name": "stdout",
     "output_type": "stream",
     "text": [
      "         ENO  ESAL      EADDR\n",
      "ENAME                        \n",
      "bunny    200  2000  Hyderabad\n",
      "chinny   300  3000     Mumbai\n",
      "kinny    700  4500  Hyderabad\n",
      "mimmy   1000  5680  Hyderabad\n",
      "pinny    500  5000    Kolkata\n",
      "sunny    100  1000     Mumbai\n",
      "sunny   1100  1800     Mumbai\n",
      "sunny   1200  2500     Mumbai\n",
      "vinny    400  4000      Delhi\n",
      "zinny    900  5600    Chennai\n",
      "NaN      600  1500  Hyderabad\n",
      "NaN      800  3200     Mumbai\n",
      "--------------------------------------------------\n",
      "ENO            200\n",
      "ESAL          7777\n",
      "EADDR    Hyderabad\n",
      "Name: bunny, dtype: object\n",
      "--------------------------------------------------\n",
      "         ENO  ESAL      EADDR\n",
      "ENAME                        \n",
      "bunny    200  7777  Hyderabad\n",
      "chinny   300  3000     Mumbai\n",
      "kinny    700  4500  Hyderabad\n",
      "mimmy   1000  5680  Hyderabad\n",
      "pinny    500  5000    Kolkata\n",
      "sunny    100  1000     Mumbai\n",
      "sunny   1100  1800     Mumbai\n",
      "sunny   1200  2500     Mumbai\n",
      "vinny    400  4000      Delhi\n",
      "zinny    900  5600    Chennai\n",
      "NaN      600  1500  Hyderabad\n",
      "NaN      800  3200     Mumbai\n"
     ]
    }
   ],
   "source": [
    "import pandas as pd \n",
    "df=pd.read_csv('emp7.csv',index_col='ENAME')\n",
    "df.sort_index(inplace=True)\n",
    "print(df)\n",
    "print('-'*50)\n",
    "df.loc['bunny','ESAL']=7777\n",
    "print(df.loc['bunny'])\n",
    "print('-'*50)\n",
    "print(df)"
   ]
  },
  {
   "cell_type": "code",
   "execution_count": 39,
   "id": "9e198c78",
   "metadata": {},
   "outputs": [
    {
     "name": "stdout",
     "output_type": "stream",
     "text": [
      "         ENO  ESAL      EADDR\n",
      "ENAME                        \n",
      "bunny    200  2000  Hyderabad\n",
      "chinny   300  3000     Mumbai\n",
      "kinny    700  4500  Hyderabad\n",
      "mimmy   1000  5680  Hyderabad\n",
      "pinny    500  5000    Kolkata\n",
      "sunny    100  1000     Mumbai\n",
      "sunny   1100  1800     Mumbai\n",
      "sunny   1200  2500     Mumbai\n",
      "vinny    400  4000      Delhi\n",
      "zinny    900  5600    Chennai\n",
      "NaN      600  1500  Hyderabad\n",
      "NaN      800  3200     Mumbai\n",
      "--------------------------------------------------\n",
      "--------------------------------------------------\n",
      "         ENO  ESAL      EADDR\n",
      "ENAME                        \n",
      "bunny    200  2000       pune\n",
      "chinny   300  3000       pune\n",
      "kinny    700  4500  Hyderabad\n",
      "mimmy   1000  5680  Hyderabad\n",
      "pinny    500  5000    Kolkata\n",
      "sunny    100  1000     Mumbai\n",
      "sunny   1100  1800     Mumbai\n",
      "sunny   1200  2500     Mumbai\n",
      "vinny    400  4000       pune\n",
      "zinny    900  5600    Chennai\n",
      "NaN      600  1500  Hyderabad\n",
      "NaN      800  3200     Mumbai\n"
     ]
    }
   ],
   "source": [
    "import pandas as pd \n",
    "df=pd.read_csv('emp7.csv',index_col='ENAME')\n",
    "df.sort_index(inplace=True)\n",
    "print(df)\n",
    "print('-'*50)\n",
    "df.loc[['bunny','chinny','vinny'],'EADDR']='pune'\n",
    "print('-'*50)\n",
    "print(df)"
   ]
  },
  {
   "cell_type": "code",
   "execution_count": 40,
   "id": "b1aa8260",
   "metadata": {},
   "outputs": [
    {
     "name": "stdout",
     "output_type": "stream",
     "text": [
      "         ENO  ESAL      EADDR\n",
      "ENAME                        \n",
      "bunny    200  2000  Hyderabad\n",
      "chinny   300  3000     Mumbai\n",
      "kinny    700  4500  Hyderabad\n",
      "mimmy   1000  5680  Hyderabad\n",
      "pinny    500  5000    Kolkata\n",
      "sunny    100  1000     Mumbai\n",
      "sunny   1100  1800     Mumbai\n",
      "sunny   1200  2500     Mumbai\n",
      "vinny    400  4000      Delhi\n",
      "zinny    900  5600    Chennai\n",
      "NaN      600  1500  Hyderabad\n",
      "NaN      800  3200     Mumbai\n",
      "--------------------------------------------------\n",
      "--------------------------------------------------\n",
      "         ENO  ESAL      EADDR\n",
      "ENAME                        \n",
      "bunny    200  2000      Acity\n",
      "chinny   300  3000      Bcity\n",
      "kinny    700  4500  Hyderabad\n",
      "mimmy   1000  5680  Hyderabad\n",
      "pinny    500  5000    Kolkata\n",
      "sunny    100  1000     Mumbai\n",
      "sunny   1100  1800     Mumbai\n",
      "sunny   1200  2500     Mumbai\n",
      "vinny    400  4000      Ccity\n",
      "zinny    900  5600    Chennai\n",
      "NaN      600  1500  Hyderabad\n",
      "NaN      800  3200     Mumbai\n"
     ]
    }
   ],
   "source": [
    "import pandas as pd \n",
    "df=pd.read_csv('emp7.csv',index_col='ENAME')\n",
    "df.sort_index(inplace=True)\n",
    "print(df)\n",
    "print('-'*50)\n",
    "df.loc[['bunny','chinny','vinny'],'EADDR']=['Acity','Bcity','Ccity']\n",
    "print('-'*50)\n",
    "print(df)"
   ]
  },
  {
   "cell_type": "code",
   "execution_count": 42,
   "id": "f7639d24",
   "metadata": {},
   "outputs": [
    {
     "name": "stdout",
     "output_type": "stream",
     "text": [
      "         ENO  ESAL      EADDR\n",
      "ENAME                        \n",
      "bunny    200  2000  Hyderabad\n",
      "chinny   300  3000     Mumbai\n",
      "kinny    700  4500  Hyderabad\n",
      "mimmy   1000  5680  Hyderabad\n",
      "pinny    500  5000    Kolkata\n",
      "sunny    100  1000     Mumbai\n",
      "sunny   1100  1800     Mumbai\n",
      "sunny   1200  2500     Mumbai\n",
      "vinny    400  4000      Delhi\n",
      "zinny    900  5600    Chennai\n",
      "NaN      600  1500  Hyderabad\n",
      "NaN      800  3200     Mumbai\n",
      "--------------------------------------------------\n",
      "        ENO  ESAL      EADDR\n",
      "ENAME                       \n",
      "bunny   200  2000  Hyderabad\n",
      "kinny   700  4500  Hyderabad\n",
      "mimmy  1000  5680  Hyderabad\n",
      "NaN     600  1500  Hyderabad\n",
      "         ENO  ESAL      EADDR\n",
      "ENAME                        \n",
      "bunny    200  2000  Cyberabad\n",
      "chinny   300  3000     Mumbai\n",
      "kinny    700  4500  Cyberabad\n",
      "mimmy   1000  5680  Cyberabad\n",
      "pinny    500  5000    Kolkata\n",
      "sunny    100  1000     Mumbai\n",
      "sunny   1100  1800     Mumbai\n",
      "sunny   1200  2500     Mumbai\n",
      "vinny    400  4000      Delhi\n",
      "zinny    900  5600    Chennai\n",
      "NaN      600  1500  Cyberabad\n",
      "NaN      800  3200     Mumbai\n"
     ]
    }
   ],
   "source": [
    "import pandas as pd \n",
    "df=pd.read_csv('emp7.csv',index_col='ENAME')\n",
    "df.sort_index(inplace=True)\n",
    "print(df)\n",
    "print('-'*50)\n",
    "c=df['EADDR']=='Hyderabad'\n",
    "print(df.loc[c])\n",
    "df.loc[c,'EADDR']='Cyberabad'\n",
    "print(df)"
   ]
  },
  {
   "cell_type": "markdown",
   "id": "10780b5f",
   "metadata": {},
   "source": [
    "#### How to rename index lable and column name in DataFrame:"
   ]
  },
  {
   "cell_type": "code",
   "execution_count": null,
   "id": "746b5d47",
   "metadata": {},
   "outputs": [],
   "source": []
  },
  {
   "cell_type": "code",
   "execution_count": null,
   "id": "1c7c29d3",
   "metadata": {},
   "outputs": [],
   "source": []
  },
  {
   "cell_type": "code",
   "execution_count": null,
   "id": "a302c2c5",
   "metadata": {},
   "outputs": [],
   "source": []
  },
  {
   "cell_type": "code",
   "execution_count": null,
   "id": "7cdce7b8",
   "metadata": {},
   "outputs": [],
   "source": []
  },
  {
   "cell_type": "code",
   "execution_count": null,
   "id": "b92982cf",
   "metadata": {},
   "outputs": [],
   "source": []
  },
  {
   "cell_type": "code",
   "execution_count": null,
   "id": "1ce11008",
   "metadata": {},
   "outputs": [],
   "source": []
  },
  {
   "cell_type": "code",
   "execution_count": null,
   "id": "630ca312",
   "metadata": {},
   "outputs": [],
   "source": []
  },
  {
   "cell_type": "code",
   "execution_count": null,
   "id": "90da1f4d",
   "metadata": {},
   "outputs": [],
   "source": []
  },
  {
   "cell_type": "markdown",
   "id": "346c4172",
   "metadata": {},
   "source": [
    "#### How to filter DataFrame with Query() method:\n",
    "     we can use query() method to filter rows DataFrame. It is most commonly used method in pandas."
   ]
  },
  {
   "cell_type": "markdown",
   "id": "631f7cc1",
   "metadata": {},
   "source": [
    "DataFrame.query(expr, *, inplace=False, **kwargs)\n",
    "\n",
    "Query the columns of a DataFrame with a boolean expression."
   ]
  },
  {
   "cell_type": "markdown",
   "id": "b2ba5af3",
   "metadata": {},
   "source": [
    "##### without using query method:"
   ]
  },
  {
   "cell_type": "code",
   "execution_count": 43,
   "id": "ca379798",
   "metadata": {},
   "outputs": [
    {
     "name": "stdout",
     "output_type": "stream",
     "text": [
      "         ENO  ESAL      EADDR\n",
      "ENAME                        \n",
      "bunny    200  2000  Hyderabad\n",
      "chinny   300  3000     Mumbai\n",
      "kinny    700  4500  Hyderabad\n",
      "mimmy   1000  5680  Hyderabad\n",
      "pinny    500  5000    Kolkata\n",
      "sunny    100  1000     Mumbai\n",
      "sunny   1100  1800     Mumbai\n",
      "sunny   1200  2500     Mumbai\n",
      "vinny    400  4000      Delhi\n",
      "zinny    900  5600    Chennai\n",
      "NaN      600  1500  Hyderabad\n",
      "NaN      800  3200     Mumbai\n",
      "--------------------------------------------------\n",
      "        ENO  ESAL      EADDR\n",
      "ENAME                       \n",
      "bunny   200  2000  Hyderabad\n",
      "kinny   700  4500  Hyderabad\n",
      "mimmy  1000  5680  Hyderabad\n",
      "NaN     600  1500  Hyderabad\n",
      "         ENO  ESAL      EADDR\n",
      "ENAME                        \n",
      "bunny    200  2000  Hyderabad\n",
      "chinny   300  3000     Mumbai\n",
      "kinny    700  4500  Hyderabad\n",
      "mimmy   1000  5680  Hyderabad\n",
      "pinny    500  5000    Kolkata\n",
      "sunny    100  1000     Mumbai\n",
      "sunny   1100  1800     Mumbai\n",
      "sunny   1200  2500     Mumbai\n",
      "vinny    400  4000      Delhi\n",
      "zinny    900  5600    Chennai\n",
      "NaN      600  1500  Hyderabad\n",
      "NaN      800  3200     Mumbai\n"
     ]
    }
   ],
   "source": [
    "import pandas as pd \n",
    "df=pd.read_csv('emp7.csv',index_col='ENAME')\n",
    "df.sort_index(inplace=True)\n",
    "print(df)\n",
    "print('-'*50)\n",
    "c=df['EADDR']=='Hyderabad'\n",
    "print(df.loc[c])\n",
    "print(df)"
   ]
  },
  {
   "cell_type": "markdown",
   "id": "89b41172",
   "metadata": {},
   "source": [
    "##### with query method "
   ]
  },
  {
   "cell_type": "markdown",
   "id": "9a330465",
   "metadata": {},
   "source": [
    "##### Important points \n",
    "1. expr paramter value should be valid string\n",
    "2. The column names should not contain spaces"
   ]
  },
  {
   "cell_type": "code",
   "execution_count": 52,
   "id": "5c140e96",
   "metadata": {},
   "outputs": [
    {
     "name": "stdout",
     "output_type": "stream",
     "text": [
      "     ENO   ENAME  ESAL      EADDR\n",
      "0    100   sunny  1000     Mumbai\n",
      "1    200   bunny  2000  Hyderabad\n",
      "2    300  chinny  3000     Mumbai\n",
      "3    400   vinny  4000      Delhi\n",
      "4    500   pinny  5000    Kolkata\n",
      "5    600     NaN  1500  Hyderabad\n",
      "6    700   kinny  4500  Hyderabad\n",
      "7    800     NaN  3200     Mumbai\n",
      "8    900   zinny  5600    Chennai\n",
      "9   1000   mimmy  5680  Hyderabad\n",
      "10  1100   sunny  1800     Mumbai\n",
      "11  1200   sunny  2500     Mumbai\n",
      "--------------------------------------------------\n",
      "    ENO  ENAME  ESAL      EADDR\n",
      "1   200  bunny  2000  Hyderabad\n",
      "5   600    NaN  1500  Hyderabad\n",
      "6   700  kinny  4500  Hyderabad\n",
      "9  1000  mimmy  5680  Hyderabad\n"
     ]
    }
   ],
   "source": [
    "# using query method:\n",
    "import pandas as pd\n",
    "df=pd.read_csv('emp7.csv')\n",
    "print(df)\n",
    "print('-'*50)\n",
    "df.query('EADDR==\"Hyderabad\"',inplace=True)\n",
    "print(df)"
   ]
  },
  {
   "cell_type": "code",
   "execution_count": 53,
   "id": "1ac23cf8",
   "metadata": {},
   "outputs": [
    {
     "name": "stdout",
     "output_type": "stream",
     "text": [
      "     ENO   ENAME  ESAL      EADDR\n",
      "0    100   sunny  1000     Mumbai\n",
      "1    200   bunny  2000  Hyderabad\n",
      "2    300  chinny  3000     Mumbai\n",
      "3    400   vinny  4000      Delhi\n",
      "4    500   pinny  5000    Kolkata\n",
      "5    600     NaN  1500  Hyderabad\n",
      "6    700   kinny  4500  Hyderabad\n",
      "7    800     NaN  3200     Mumbai\n",
      "8    900   zinny  5600    Chennai\n",
      "9   1000   mimmy  5680  Hyderabad\n",
      "10  1100   sunny  1800     Mumbai\n",
      "11  1200   sunny  2500     Mumbai\n",
      "--------------------------------------------------\n",
      "     ENO   ENAME  ESAL    EADDR\n",
      "0    100   sunny  1000   Mumbai\n",
      "2    300  chinny  3000   Mumbai\n",
      "3    400   vinny  4000    Delhi\n",
      "4    500   pinny  5000  Kolkata\n",
      "7    800     NaN  3200   Mumbai\n",
      "8    900   zinny  5600  Chennai\n",
      "10  1100   sunny  1800   Mumbai\n",
      "11  1200   sunny  2500   Mumbai\n"
     ]
    }
   ],
   "source": [
    "# using query method:\n",
    "import pandas as pd\n",
    "df=pd.read_csv('emp7.csv')\n",
    "print(df)\n",
    "print('-'*50)\n",
    "df.query('EADDR!=\"Hyderabad\"',inplace=True)\n",
    "print(df)"
   ]
  },
  {
   "cell_type": "code",
   "execution_count": 54,
   "id": "8a5dd597",
   "metadata": {},
   "outputs": [
    {
     "name": "stdout",
     "output_type": "stream",
     "text": [
      "     ENO   ENAME  ESAL      EADDR\n",
      "0    100   sunny  1000     Mumbai\n",
      "1    200   bunny  2000  Hyderabad\n",
      "2    300  chinny  3000     Mumbai\n",
      "3    400   vinny  4000      Delhi\n",
      "4    500   pinny  5000    Kolkata\n",
      "5    600     NaN  1500  Hyderabad\n",
      "6    700   kinny  4500  Hyderabad\n",
      "7    800     NaN  3200     Mumbai\n",
      "8    900   zinny  5600    Chennai\n",
      "9   1000   mimmy  5680  Hyderabad\n",
      "10  1100   sunny  1800     Mumbai\n",
      "11  1200   sunny  2500     Mumbai\n",
      "--------------------------------------------------\n",
      "     ENO   ENAME  ESAL      EADDR\n",
      "1    200   bunny  2000  Hyderabad\n",
      "2    300  chinny  3000     Mumbai\n",
      "3    400   vinny  4000      Delhi\n",
      "4    500   pinny  5000    Kolkata\n",
      "6    700   kinny  4500  Hyderabad\n",
      "7    800     NaN  3200     Mumbai\n",
      "8    900   zinny  5600    Chennai\n",
      "9   1000   mimmy  5680  Hyderabad\n",
      "10  1100   sunny  1800     Mumbai\n",
      "11  1200   sunny  2500     Mumbai\n"
     ]
    }
   ],
   "source": [
    "# using query method:\n",
    "import pandas as pd\n",
    "df=pd.read_csv('emp7.csv')\n",
    "print(df)\n",
    "print('-'*50)\n",
    "df.query('ESAL>1500',inplace=True)\n",
    "print(df)"
   ]
  },
  {
   "cell_type": "code",
   "execution_count": 63,
   "id": "0bacf65b",
   "metadata": {},
   "outputs": [
    {
     "name": "stdout",
     "output_type": "stream",
     "text": [
      "     ENO   ENAME  ESAL      EADDR\n",
      "0    100   sunny  1000     Mumbai\n",
      "1    200   bunny  2000  Hyderabad\n",
      "2    300  chinny  3000     Mumbai\n",
      "3    400   vinny  4000      Delhi\n",
      "4    500   pinny  5000    Kolkata\n",
      "5    600     NaN  1500  Hyderabad\n",
      "6    700   kinny  4500  Hyderabad\n",
      "7    800     NaN  3200     Mumbai\n",
      "8    900   zinny  5600    Chennai\n",
      "9   1000   mimmy  5680  Hyderabad\n",
      "10  1100   sunny  1800     Mumbai\n",
      "11  1200   sunny  2500     Mumbai\n",
      "--------------------------------------------------\n",
      "    ENO  ENAME  ESAL      EADDR\n",
      "1   200  bunny  2000  Hyderabad\n",
      "6   700  kinny  4500  Hyderabad\n",
      "9  1000  mimmy  5680  Hyderabad\n"
     ]
    }
   ],
   "source": [
    "### all the employee with add of hyderabad and esal is greater than 1500 ?\n",
    "\n",
    "import pandas as pd\n",
    "df=pd.read_csv('emp7.csv')\n",
    "print(df)\n",
    "print('-'*50)\n",
    "#df.query('EADDR==\"Hyderabad\" and ESAL>1500',inplace=True)\n",
    "df.query('EADDR==\"Hyderabad\" & ESAL>1500',inplace=True)\n",
    "\n",
    "print(df)"
   ]
  },
  {
   "cell_type": "raw",
   "id": "a0397820",
   "metadata": {},
   "source": [
    "### all the employee with addr not from hyderabad and esal is less than 4000  ?"
   ]
  },
  {
   "cell_type": "code",
   "execution_count": 61,
   "id": "338a151b",
   "metadata": {},
   "outputs": [
    {
     "name": "stdout",
     "output_type": "stream",
     "text": [
      "     ENO   ENAME  ESAL      EADDR\n",
      "0    100   sunny  1000     Mumbai\n",
      "1    200   bunny  2000  Hyderabad\n",
      "2    300  chinny  3000     Mumbai\n",
      "3    400   vinny  4000      Delhi\n",
      "4    500   pinny  5000    Kolkata\n",
      "5    600     NaN  1500  Hyderabad\n",
      "6    700   kinny  4500  Hyderabad\n",
      "7    800     NaN  3200     Mumbai\n",
      "8    900   zinny  5600    Chennai\n",
      "9   1000   mimmy  5680  Hyderabad\n",
      "10  1100   sunny  1800     Mumbai\n",
      "11  1200   sunny  2500     Mumbai\n",
      "--------------------------------------------------\n",
      "     ENO   ENAME  ESAL      EADDR\n",
      "0    100   sunny  1000     Mumbai\n",
      "1    200   bunny  2000  Hyderabad\n",
      "2    300  chinny  3000     Mumbai\n",
      "3    400   vinny  4000      Delhi\n",
      "4    500   pinny  5000    Kolkata\n",
      "5    600     NaN  1500  Hyderabad\n",
      "7    800     NaN  3200     Mumbai\n",
      "8    900   zinny  5600    Chennai\n",
      "10  1100   sunny  1800     Mumbai\n",
      "11  1200   sunny  2500     Mumbai\n"
     ]
    }
   ],
   "source": [
    "import pandas as pd\n",
    "df=pd.read_csv('emp7.csv')\n",
    "print(df)\n",
    "print('-'*50)\n",
    "#df.query('EADDR!=\"Hyderabad\" or ESAL<4000',inplace=True)\n",
    "df.query('EADDR!=\"Hyderabad\" | ESAL<4000',inplace=True)\n",
    "\n",
    "print(df)"
   ]
  },
  {
   "cell_type": "code",
   "execution_count": null,
   "id": "532ed132",
   "metadata": {},
   "outputs": [],
   "source": []
  }
 ],
 "metadata": {
  "kernelspec": {
   "display_name": "Python 3",
   "language": "python",
   "name": "python3"
  },
  "language_info": {
   "codemirror_mode": {
    "name": "ipython",
    "version": 3
   },
   "file_extension": ".py",
   "mimetype": "text/x-python",
   "name": "python",
   "nbconvert_exporter": "python",
   "pygments_lexer": "ipython3",
   "version": "3.8.8"
  }
 },
 "nbformat": 4,
 "nbformat_minor": 5
}
