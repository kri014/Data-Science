{
 "cells": [
  {
   "cell_type": "code",
   "execution_count": 12,
   "id": "da7b3dca",
   "metadata": {},
   "outputs": [],
   "source": [
    "from abc import ABC,abstractmethod\n",
    "class Bankapp(ABC):\n",
    "    \n",
    "    def database(self):\n",
    "        print(\"connected to database\")\n",
    "        \n",
    "    @abstractmethod\n",
    "    def security(self):\n",
    "        pass\n",
    "    @abstractmethod\n",
    "    def display(self):\n",
    "        pass"
   ]
  },
  {
   "cell_type": "code",
   "execution_count": 13,
   "id": "72121616",
   "metadata": {},
   "outputs": [],
   "source": [
    "class MobileApp(Bankapp):\n",
    "    \n",
    "    def mobile_login(self):\n",
    "        print(\"login into mobile \")\n",
    "    "
   ]
  },
  {
   "cell_type": "code",
   "execution_count": 14,
   "id": "3bf0eae8",
   "metadata": {},
   "outputs": [
    {
     "ename": "TypeError",
     "evalue": "Can't instantiate abstract class MobileApp with abstract methods display, security",
     "output_type": "error",
     "traceback": [
      "\u001b[1;31m---------------------------------------------------------------------------\u001b[0m",
      "\u001b[1;31mTypeError\u001b[0m                                 Traceback (most recent call last)",
      "\u001b[1;32m<ipython-input-14-592a90515fa7>\u001b[0m in \u001b[0;36m<module>\u001b[1;34m\u001b[0m\n\u001b[1;32m----> 1\u001b[1;33m \u001b[0mmob\u001b[0m \u001b[1;33m=\u001b[0m \u001b[0mMobileApp\u001b[0m\u001b[1;33m(\u001b[0m\u001b[1;33m)\u001b[0m\u001b[1;33m\u001b[0m\u001b[1;33m\u001b[0m\u001b[0m\n\u001b[0m\u001b[0;32m      2\u001b[0m \u001b[1;31m# We can't inherite till we write the security function in class\u001b[0m\u001b[1;33m\u001b[0m\u001b[1;33m\u001b[0m\u001b[1;33m\u001b[0m\u001b[0m\n",
      "\u001b[1;31mTypeError\u001b[0m: Can't instantiate abstract class MobileApp with abstract methods display, security"
     ]
    }
   ],
   "source": [
    "mob = MobileApp()\n",
    "# We can't inherite till we write the security function in class"
   ]
  },
  {
   "cell_type": "code",
   "execution_count": 16,
   "id": "5e9c9746",
   "metadata": {},
   "outputs": [],
   "source": [
    "class MobileApp(Bankapp):\n",
    "    \n",
    "    def mobile_login(self):\n",
    "        print(\"login into mobile \")\n",
    "        \n",
    "    def security(self):\n",
    "        print(\"mobile security\")\n",
    "        \n",
    "    def display(self):\n",
    "        print(\"display the functionality\")"
   ]
  },
  {
   "cell_type": "code",
   "execution_count": 17,
   "id": "a553e51e",
   "metadata": {},
   "outputs": [],
   "source": [
    "mob = MobileApp()"
   ]
  },
  {
   "cell_type": "code",
   "execution_count": 18,
   "id": "b0e7351c",
   "metadata": {},
   "outputs": [
    {
     "name": "stdout",
     "output_type": "stream",
     "text": [
      "connected to database\n"
     ]
    }
   ],
   "source": [
    "mob.database()"
   ]
  },
  {
   "cell_type": "code",
   "execution_count": 19,
   "id": "cff6284e",
   "metadata": {},
   "outputs": [
    {
     "name": "stdout",
     "output_type": "stream",
     "text": [
      "login into mobile \n"
     ]
    }
   ],
   "source": [
    "mob.mobile_login()"
   ]
  },
  {
   "cell_type": "code",
   "execution_count": 20,
   "id": "e614bc7b",
   "metadata": {},
   "outputs": [
    {
     "name": "stdout",
     "output_type": "stream",
     "text": [
      "mobile security\n"
     ]
    }
   ],
   "source": [
    "mob.security()"
   ]
  },
  {
   "cell_type": "code",
   "execution_count": 21,
   "id": "f91a7b32",
   "metadata": {},
   "outputs": [],
   "source": [
    "# By the help of abstraction the higher level class tells the lower level class to add functionality in the class"
   ]
  },
  {
   "cell_type": "code",
   "execution_count": 22,
   "id": "90a33bd5",
   "metadata": {},
   "outputs": [],
   "source": [
    "# we can't make abstract class as object"
   ]
  },
  {
   "cell_type": "code",
   "execution_count": 23,
   "id": "948e2597",
   "metadata": {},
   "outputs": [
    {
     "ename": "NameError",
     "evalue": "name 'BankApp' is not defined",
     "output_type": "error",
     "traceback": [
      "\u001b[1;31m---------------------------------------------------------------------------\u001b[0m",
      "\u001b[1;31mNameError\u001b[0m                                 Traceback (most recent call last)",
      "\u001b[1;32m<ipython-input-23-0aa75fd04378>\u001b[0m in \u001b[0;36m<module>\u001b[1;34m\u001b[0m\n\u001b[1;32m----> 1\u001b[1;33m \u001b[0mobj\u001b[0m \u001b[1;33m=\u001b[0m \u001b[0mBankApp\u001b[0m\u001b[1;33m(\u001b[0m\u001b[1;33m)\u001b[0m\u001b[1;33m\u001b[0m\u001b[1;33m\u001b[0m\u001b[0m\n\u001b[0m",
      "\u001b[1;31mNameError\u001b[0m: name 'BankApp' is not defined"
     ]
    }
   ],
   "source": [
    "obj = BankApp()"
   ]
  },
  {
   "cell_type": "code",
   "execution_count": null,
   "id": "6e375503",
   "metadata": {},
   "outputs": [],
   "source": []
  }
 ],
 "metadata": {
  "kernelspec": {
   "display_name": "Python 3",
   "language": "python",
   "name": "python3"
  },
  "language_info": {
   "codemirror_mode": {
    "name": "ipython",
    "version": 3
   },
   "file_extension": ".py",
   "mimetype": "text/x-python",
   "name": "python",
   "nbconvert_exporter": "python",
   "pygments_lexer": "ipython3",
   "version": "3.8.8"
  }
 },
 "nbformat": 4,
 "nbformat_minor": 5
}
